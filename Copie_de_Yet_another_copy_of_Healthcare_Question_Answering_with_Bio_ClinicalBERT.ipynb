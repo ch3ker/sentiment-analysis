{
  "cells": [
    {
      "cell_type": "markdown",
      "metadata": {
        "id": "view-in-github",
        "colab_type": "text"
      },
      "source": [
        "<a href=\"https://colab.research.google.com/github/ch3ker/sentiment-analysis/blob/main/Copie_de_Yet_another_copy_of_Healthcare_Question_Answering_with_Bio_ClinicalBERT.ipynb\" target=\"_parent\"><img src=\"https://colab.research.google.com/assets/colab-badge.svg\" alt=\"Open In Colab\"/></a>"
      ]
    },
    {
      "cell_type": "markdown",
      "metadata": {
        "id": "1dMZDO7YrBGe"
      },
      "source": [
        "#**Introduction**\n",
        "\n",
        "In this project, we will fine-tune the Bio_ClinicalBERT model for a healthcare question-answering task. This model is pre-trained on clinical data, making it suitable for healthcare-related tasks. We will implement fine-tuning techniques to adapt the model to our specific dataset, `medquad.csv`, which contains medical questions and answers."
      ]
    },
    {
      "cell_type": "markdown",
      "metadata": {
        "id": "RMjOExuhrPiJ"
      },
      "source": [
        "\n",
        "# **Process Overview**\n",
        "\n",
        "This project focuses on fine-tuning a healthcare question-answering model using Bio_ClinicalBERT. The steps involved in this project are as follows:\n",
        "\n",
        "1. **Loading and Exploring the Dataset**: Load the healthcare question-answering dataset (`medquad.csv`) and perform an initial exploration to understand its structure.\n",
        "2. **Data Preprocessing**: Clean and tokenize the dataset to prepare it for model input.\n",
        "3. **Model Initialization**: Load Bio_ClinicalBERT, a specialized model for healthcare data, and configure it for question-answering tasks.\n",
        "4. **Fine-Tuning Setup**: Implement parameter-efficient fine-tuning techniques to adapt the model without overwhelming computational resources.\n",
        "5. **Model Training**: Train the model on the prepared dataset to enhance its question-answering capabilities in the healthcare domain.\n",
        "6. **Evaluation**: Test the fine-tuned model by generating answers to sample questions and evaluating its performance.\n",
        "\n"
      ]
    },
    {
      "cell_type": "markdown",
      "metadata": {
        "id": "MAa1CoDms8CD"
      },
      "source": [
        "# **Dataset** **Overview**\n",
        "\n",
        "The medquad.csv dataset used in this Kaggle notebook is designed for healthcare question-answering tasks. It likely includes the following key elements:\n",
        "\n",
        "*   **Questions:** Medical questions, covering a range of health-related topics.\n",
        "*   **Answers:** Detailed responses to the questions, possibly sourced from reliable medical information databases.\n",
        "* **Source Information:** Likely includes references to where the answers were obtained (e.g., medical websites or publications).\n",
        "* **Focus Area:** Each question may have a designated focus area, such as \"Glaucoma\" or other specific medical topics, to categorize the content.\n",
        "\n",
        "This dataset can be effectively used to train and evaluate models for answering healthcare-related questions, making it suitable for fine-tuning a language model specialized in medical domains, like Bio_ClinicalBERT. Let me know if you’d like more specifics on any of these elements!"
      ]
    },
    {
      "cell_type": "markdown",
      "metadata": {
        "id": "BrBHUQ-C5l-X"
      },
      "source": [
        "# **Installing Necessary Libraries**"
      ]
    },
    {
      "cell_type": "code",
      "execution_count": null,
      "metadata": {
        "id": "K70ulsSvqgV0"
      },
      "outputs": [],
      "source": [
        "# Install transformers and datasets libraries\n",
        "#!pip install transformers torch datasets\n"
      ]
    },
    {
      "cell_type": "markdown",
      "metadata": {
        "id": "ZSCd_b-651Xf"
      },
      "source": [
        "# **Import** **Libraries**"
      ]
    },
    {
      "cell_type": "code",
      "execution_count": null,
      "metadata": {
        "id": "atju3-WW5unX"
      },
      "outputs": [],
      "source": [
        "import pandas as pd\n",
        "from transformers import AutoTokenizer, AutoModelForQuestionAnswering\n",
        "import torch\n",
        "import csv"
      ]
    },
    {
      "cell_type": "markdown",
      "metadata": {
        "id": "EwUAHDMF88Q4"
      },
      "source": [
        "# **Load the Dataset**"
      ]
    },
    {
      "cell_type": "code",
      "execution_count": null,
      "metadata": {
        "colab": {
          "base_uri": "https://localhost:8080/",
          "height": 206
        },
        "id": "g4j_qKkS87qt",
        "outputId": "06a216a3-43f0-41e0-b096-048e10aad42b"
      },
      "outputs": [
        {
          "output_type": "execute_result",
          "data": {
            "text/plain": [
              "                                 question  \\\n",
              "0                What is (are) Glaucoma ?   \n",
              "1                  What causes Glaucoma ?   \n",
              "2     What are the symptoms of Glaucoma ?   \n",
              "3  What are the treatments for Glaucoma ?   \n",
              "4                What is (are) Glaucoma ?   \n",
              "\n",
              "                                              answer           source  \\\n",
              "0  Glaucoma is a group of diseases that can damag...  NIHSeniorHealth   \n",
              "1  Nearly 2.7 million people have glaucoma, a lea...  NIHSeniorHealth   \n",
              "2  Symptoms of Glaucoma  Glaucoma can develop in ...  NIHSeniorHealth   \n",
              "3  Although open-angle glaucoma cannot be cured, ...  NIHSeniorHealth   \n",
              "4  Glaucoma is a group of diseases that can damag...  NIHSeniorHealth   \n",
              "\n",
              "  focus_area  \n",
              "0   Glaucoma  \n",
              "1   Glaucoma  \n",
              "2   Glaucoma  \n",
              "3   Glaucoma  \n",
              "4   Glaucoma  "
            ],
            "text/html": [
              "\n",
              "  <div id=\"df-02ac88d3-5cfb-448d-9ebb-9b52ff89838c\" class=\"colab-df-container\">\n",
              "    <div>\n",
              "<style scoped>\n",
              "    .dataframe tbody tr th:only-of-type {\n",
              "        vertical-align: middle;\n",
              "    }\n",
              "\n",
              "    .dataframe tbody tr th {\n",
              "        vertical-align: top;\n",
              "    }\n",
              "\n",
              "    .dataframe thead th {\n",
              "        text-align: right;\n",
              "    }\n",
              "</style>\n",
              "<table border=\"1\" class=\"dataframe\">\n",
              "  <thead>\n",
              "    <tr style=\"text-align: right;\">\n",
              "      <th></th>\n",
              "      <th>question</th>\n",
              "      <th>answer</th>\n",
              "      <th>source</th>\n",
              "      <th>focus_area</th>\n",
              "    </tr>\n",
              "  </thead>\n",
              "  <tbody>\n",
              "    <tr>\n",
              "      <th>0</th>\n",
              "      <td>What is (are) Glaucoma ?</td>\n",
              "      <td>Glaucoma is a group of diseases that can damag...</td>\n",
              "      <td>NIHSeniorHealth</td>\n",
              "      <td>Glaucoma</td>\n",
              "    </tr>\n",
              "    <tr>\n",
              "      <th>1</th>\n",
              "      <td>What causes Glaucoma ?</td>\n",
              "      <td>Nearly 2.7 million people have glaucoma, a lea...</td>\n",
              "      <td>NIHSeniorHealth</td>\n",
              "      <td>Glaucoma</td>\n",
              "    </tr>\n",
              "    <tr>\n",
              "      <th>2</th>\n",
              "      <td>What are the symptoms of Glaucoma ?</td>\n",
              "      <td>Symptoms of Glaucoma  Glaucoma can develop in ...</td>\n",
              "      <td>NIHSeniorHealth</td>\n",
              "      <td>Glaucoma</td>\n",
              "    </tr>\n",
              "    <tr>\n",
              "      <th>3</th>\n",
              "      <td>What are the treatments for Glaucoma ?</td>\n",
              "      <td>Although open-angle glaucoma cannot be cured, ...</td>\n",
              "      <td>NIHSeniorHealth</td>\n",
              "      <td>Glaucoma</td>\n",
              "    </tr>\n",
              "    <tr>\n",
              "      <th>4</th>\n",
              "      <td>What is (are) Glaucoma ?</td>\n",
              "      <td>Glaucoma is a group of diseases that can damag...</td>\n",
              "      <td>NIHSeniorHealth</td>\n",
              "      <td>Glaucoma</td>\n",
              "    </tr>\n",
              "  </tbody>\n",
              "</table>\n",
              "</div>\n",
              "    <div class=\"colab-df-buttons\">\n",
              "\n",
              "  <div class=\"colab-df-container\">\n",
              "    <button class=\"colab-df-convert\" onclick=\"convertToInteractive('df-02ac88d3-5cfb-448d-9ebb-9b52ff89838c')\"\n",
              "            title=\"Convert this dataframe to an interactive table.\"\n",
              "            style=\"display:none;\">\n",
              "\n",
              "  <svg xmlns=\"http://www.w3.org/2000/svg\" height=\"24px\" viewBox=\"0 -960 960 960\">\n",
              "    <path d=\"M120-120v-720h720v720H120Zm60-500h600v-160H180v160Zm220 220h160v-160H400v160Zm0 220h160v-160H400v160ZM180-400h160v-160H180v160Zm440 0h160v-160H620v160ZM180-180h160v-160H180v160Zm440 0h160v-160H620v160Z\"/>\n",
              "  </svg>\n",
              "    </button>\n",
              "\n",
              "  <style>\n",
              "    .colab-df-container {\n",
              "      display:flex;\n",
              "      gap: 12px;\n",
              "    }\n",
              "\n",
              "    .colab-df-convert {\n",
              "      background-color: #E8F0FE;\n",
              "      border: none;\n",
              "      border-radius: 50%;\n",
              "      cursor: pointer;\n",
              "      display: none;\n",
              "      fill: #1967D2;\n",
              "      height: 32px;\n",
              "      padding: 0 0 0 0;\n",
              "      width: 32px;\n",
              "    }\n",
              "\n",
              "    .colab-df-convert:hover {\n",
              "      background-color: #E2EBFA;\n",
              "      box-shadow: 0px 1px 2px rgba(60, 64, 67, 0.3), 0px 1px 3px 1px rgba(60, 64, 67, 0.15);\n",
              "      fill: #174EA6;\n",
              "    }\n",
              "\n",
              "    .colab-df-buttons div {\n",
              "      margin-bottom: 4px;\n",
              "    }\n",
              "\n",
              "    [theme=dark] .colab-df-convert {\n",
              "      background-color: #3B4455;\n",
              "      fill: #D2E3FC;\n",
              "    }\n",
              "\n",
              "    [theme=dark] .colab-df-convert:hover {\n",
              "      background-color: #434B5C;\n",
              "      box-shadow: 0px 1px 3px 1px rgba(0, 0, 0, 0.15);\n",
              "      filter: drop-shadow(0px 1px 2px rgba(0, 0, 0, 0.3));\n",
              "      fill: #FFFFFF;\n",
              "    }\n",
              "  </style>\n",
              "\n",
              "    <script>\n",
              "      const buttonEl =\n",
              "        document.querySelector('#df-02ac88d3-5cfb-448d-9ebb-9b52ff89838c button.colab-df-convert');\n",
              "      buttonEl.style.display =\n",
              "        google.colab.kernel.accessAllowed ? 'block' : 'none';\n",
              "\n",
              "      async function convertToInteractive(key) {\n",
              "        const element = document.querySelector('#df-02ac88d3-5cfb-448d-9ebb-9b52ff89838c');\n",
              "        const dataTable =\n",
              "          await google.colab.kernel.invokeFunction('convertToInteractive',\n",
              "                                                    [key], {});\n",
              "        if (!dataTable) return;\n",
              "\n",
              "        const docLinkHtml = 'Like what you see? Visit the ' +\n",
              "          '<a target=\"_blank\" href=https://colab.research.google.com/notebooks/data_table.ipynb>data table notebook</a>'\n",
              "          + ' to learn more about interactive tables.';\n",
              "        element.innerHTML = '';\n",
              "        dataTable['output_type'] = 'display_data';\n",
              "        await google.colab.output.renderOutput(dataTable, element);\n",
              "        const docLink = document.createElement('div');\n",
              "        docLink.innerHTML = docLinkHtml;\n",
              "        element.appendChild(docLink);\n",
              "      }\n",
              "    </script>\n",
              "  </div>\n",
              "\n",
              "\n",
              "<div id=\"df-0d03b5e2-7c2a-448d-a6bd-7f052ad1d602\">\n",
              "  <button class=\"colab-df-quickchart\" onclick=\"quickchart('df-0d03b5e2-7c2a-448d-a6bd-7f052ad1d602')\"\n",
              "            title=\"Suggest charts\"\n",
              "            style=\"display:none;\">\n",
              "\n",
              "<svg xmlns=\"http://www.w3.org/2000/svg\" height=\"24px\"viewBox=\"0 0 24 24\"\n",
              "     width=\"24px\">\n",
              "    <g>\n",
              "        <path d=\"M19 3H5c-1.1 0-2 .9-2 2v14c0 1.1.9 2 2 2h14c1.1 0 2-.9 2-2V5c0-1.1-.9-2-2-2zM9 17H7v-7h2v7zm4 0h-2V7h2v10zm4 0h-2v-4h2v4z\"/>\n",
              "    </g>\n",
              "</svg>\n",
              "  </button>\n",
              "\n",
              "<style>\n",
              "  .colab-df-quickchart {\n",
              "      --bg-color: #E8F0FE;\n",
              "      --fill-color: #1967D2;\n",
              "      --hover-bg-color: #E2EBFA;\n",
              "      --hover-fill-color: #174EA6;\n",
              "      --disabled-fill-color: #AAA;\n",
              "      --disabled-bg-color: #DDD;\n",
              "  }\n",
              "\n",
              "  [theme=dark] .colab-df-quickchart {\n",
              "      --bg-color: #3B4455;\n",
              "      --fill-color: #D2E3FC;\n",
              "      --hover-bg-color: #434B5C;\n",
              "      --hover-fill-color: #FFFFFF;\n",
              "      --disabled-bg-color: #3B4455;\n",
              "      --disabled-fill-color: #666;\n",
              "  }\n",
              "\n",
              "  .colab-df-quickchart {\n",
              "    background-color: var(--bg-color);\n",
              "    border: none;\n",
              "    border-radius: 50%;\n",
              "    cursor: pointer;\n",
              "    display: none;\n",
              "    fill: var(--fill-color);\n",
              "    height: 32px;\n",
              "    padding: 0;\n",
              "    width: 32px;\n",
              "  }\n",
              "\n",
              "  .colab-df-quickchart:hover {\n",
              "    background-color: var(--hover-bg-color);\n",
              "    box-shadow: 0 1px 2px rgba(60, 64, 67, 0.3), 0 1px 3px 1px rgba(60, 64, 67, 0.15);\n",
              "    fill: var(--button-hover-fill-color);\n",
              "  }\n",
              "\n",
              "  .colab-df-quickchart-complete:disabled,\n",
              "  .colab-df-quickchart-complete:disabled:hover {\n",
              "    background-color: var(--disabled-bg-color);\n",
              "    fill: var(--disabled-fill-color);\n",
              "    box-shadow: none;\n",
              "  }\n",
              "\n",
              "  .colab-df-spinner {\n",
              "    border: 2px solid var(--fill-color);\n",
              "    border-color: transparent;\n",
              "    border-bottom-color: var(--fill-color);\n",
              "    animation:\n",
              "      spin 1s steps(1) infinite;\n",
              "  }\n",
              "\n",
              "  @keyframes spin {\n",
              "    0% {\n",
              "      border-color: transparent;\n",
              "      border-bottom-color: var(--fill-color);\n",
              "      border-left-color: var(--fill-color);\n",
              "    }\n",
              "    20% {\n",
              "      border-color: transparent;\n",
              "      border-left-color: var(--fill-color);\n",
              "      border-top-color: var(--fill-color);\n",
              "    }\n",
              "    30% {\n",
              "      border-color: transparent;\n",
              "      border-left-color: var(--fill-color);\n",
              "      border-top-color: var(--fill-color);\n",
              "      border-right-color: var(--fill-color);\n",
              "    }\n",
              "    40% {\n",
              "      border-color: transparent;\n",
              "      border-right-color: var(--fill-color);\n",
              "      border-top-color: var(--fill-color);\n",
              "    }\n",
              "    60% {\n",
              "      border-color: transparent;\n",
              "      border-right-color: var(--fill-color);\n",
              "    }\n",
              "    80% {\n",
              "      border-color: transparent;\n",
              "      border-right-color: var(--fill-color);\n",
              "      border-bottom-color: var(--fill-color);\n",
              "    }\n",
              "    90% {\n",
              "      border-color: transparent;\n",
              "      border-bottom-color: var(--fill-color);\n",
              "    }\n",
              "  }\n",
              "</style>\n",
              "\n",
              "  <script>\n",
              "    async function quickchart(key) {\n",
              "      const quickchartButtonEl =\n",
              "        document.querySelector('#' + key + ' button');\n",
              "      quickchartButtonEl.disabled = true;  // To prevent multiple clicks.\n",
              "      quickchartButtonEl.classList.add('colab-df-spinner');\n",
              "      try {\n",
              "        const charts = await google.colab.kernel.invokeFunction(\n",
              "            'suggestCharts', [key], {});\n",
              "      } catch (error) {\n",
              "        console.error('Error during call to suggestCharts:', error);\n",
              "      }\n",
              "      quickchartButtonEl.classList.remove('colab-df-spinner');\n",
              "      quickchartButtonEl.classList.add('colab-df-quickchart-complete');\n",
              "    }\n",
              "    (() => {\n",
              "      let quickchartButtonEl =\n",
              "        document.querySelector('#df-0d03b5e2-7c2a-448d-a6bd-7f052ad1d602 button');\n",
              "      quickchartButtonEl.style.display =\n",
              "        google.colab.kernel.accessAllowed ? 'block' : 'none';\n",
              "    })();\n",
              "  </script>\n",
              "</div>\n",
              "\n",
              "    </div>\n",
              "  </div>\n"
            ],
            "application/vnd.google.colaboratory.intrinsic+json": {
              "type": "dataframe",
              "variable_name": "data",
              "summary": "{\n  \"name\": \"data\",\n  \"rows\": 2000,\n  \"fields\": [\n    {\n      \"column\": \"question\",\n      \"properties\": {\n        \"dtype\": \"string\",\n        \"num_unique_values\": 1433,\n        \"samples\": [\n          \"What is (are) Uterine Sarcoma ?\",\n          \"what research (or clinical trials) is being done for Endometrial Cancer ?\",\n          \"What is (are) Hepatitis B ?\"\n        ],\n        \"semantic_type\": \"\",\n        \"description\": \"\"\n      }\n    },\n    {\n      \"column\": \"answer\",\n      \"properties\": {\n        \"dtype\": \"string\",\n        \"num_unique_values\": 1976,\n        \"samples\": [\n          \"The cervix is the lower part of the uterus, the place where a baby grows during pregnancy. Cervical cancer is caused by a virus called HPV. The virus spreads through sexual contact. Most women's bodies are able to fight HPV infection. But sometimes the virus leads to cancer. You're at higher risk if you smoke, have had many children, use birth control pills for a long time, or have HIV infection.     Cervical cancer may not cause any symptoms at first. Later, you may have pelvic pain or bleeding from the vagina. It usually takes several years for normal cells in the cervix to turn into cancer cells. Your health care provider can find abnormal cells by doing a Pap test to examine cells from the cervix. You may also have an HPV test. If your results are abnormal, you may need a biopsy or other tests. By getting regular screenings, you can find and treat any problems before they turn into cancer.    Treatment may include surgery, radiation therapy, chemotherapy, or a combination. The choice of treatment depends on the size of the tumor, whether the cancer has spread and whether you would like to become pregnant someday.    Vaccines can protect against several types of HPV, including some that can cause cancer.    NIH: National Cancer Institute\",\n          \"Your small intestine is part of your digestive system. It is a long tube that connects your stomach to your large intestine. Intestinal cancer is rare, but eating a high-fat diet or having Crohn's disease, celiac disease, or a history of colonic polyps can increase your risk.    Possible signs of small intestine cancer include       - Abdominal pain    - Weight loss for no reason    - Blood in the stool    - A lump in the abdomen       Imaging tests that create pictures of the small intestine and the area around it can help diagnose intestinal cancer and show whether it has spread.    Surgery is the most common treatment. Additional options include chemotherapy, radiation therapy, or a combination.    NIH: National Cancer Institute\",\n          \"The National Cancer Institute has developed a comprehensive online cancer database called the Physician Data Query (PDQ) to present evidence from the most recent research on melanoma and other skin cancers. Click here to see the PDQ. A window will open. Click the \\\"x\\\" in the upper right hand corner of the \\\"PDQ\\\" window to return here.\"\n        ],\n        \"semantic_type\": \"\",\n        \"description\": \"\"\n      }\n    },\n    {\n      \"column\": \"source\",\n      \"properties\": {\n        \"dtype\": \"category\",\n        \"num_unique_values\": 3,\n        \"samples\": [\n          \"NIHSeniorHealth\",\n          \"CancerGov\",\n          \"MPlusHealthTopics\"\n        ],\n        \"semantic_type\": \"\",\n        \"description\": \"\"\n      }\n    },\n    {\n      \"column\": \"focus_area\",\n      \"properties\": {\n        \"dtype\": \"category\",\n        \"num_unique_values\": 627,\n        \"samples\": [\n          \"Sports Safety\",\n          \"Peritoneal Disorders\",\n          \"CT Scans\"\n        ],\n        \"semantic_type\": \"\",\n        \"description\": \"\"\n      }\n    }\n  ]\n}"
            }
          },
          "metadata": {},
          "execution_count": 2
        }
      ],
      "source": [
        "data = pd.read_csv('/content/medquad.csv', encoding='utf-8', nrows=2000)\n",
        "data.head()"
      ]
    },
    {
      "cell_type": "markdown",
      "metadata": {
        "id": "ZFreCr5l_K8v"
      },
      "source": [
        "# **Explore and Analyze the Dataset**\n",
        "\n",
        "We will check the dataset for basic information, including the number of unique questions, repeated questions, and any potential duplicates. This will help us understand the dataset’s structure and decide on preprocessing steps.\n"
      ]
    },
    {
      "cell_type": "code",
      "execution_count": null,
      "metadata": {
        "colab": {
          "base_uri": "https://localhost:8080/"
        },
        "id": "RjhIj6RG_M0j",
        "outputId": "9d42ab76-1bb9-47d6-abda-0a1188b9a9f2"
      },
      "outputs": [
        {
          "output_type": "stream",
          "name": "stdout",
          "text": [
            "Dataset shape: (2000, 4)\n",
            "Columns: Index(['question', 'answer', 'source', 'focus_area'], dtype='object')\n"
          ]
        }
      ],
      "source": [
        "print(\"Dataset shape:\", data.shape)\n",
        "print(\"Columns:\", data.columns)"
      ]
    },
    {
      "cell_type": "markdown",
      "metadata": {
        "id": "4KCBUaquAeYC"
      },
      "source": [
        "### 1. Column Summary and Data Types"
      ]
    },
    {
      "cell_type": "code",
      "execution_count": null,
      "metadata": {
        "colab": {
          "base_uri": "https://localhost:8080/"
        },
        "id": "NtdHZXer_1Wz",
        "outputId": "746d590f-c342-4e92-8791-4ee305891864"
      },
      "outputs": [
        {
          "output_type": "stream",
          "name": "stdout",
          "text": [
            "<class 'pandas.core.frame.DataFrame'>\n",
            "RangeIndex: 2000 entries, 0 to 1999\n",
            "Data columns (total 4 columns):\n",
            " #   Column      Non-Null Count  Dtype \n",
            "---  ------      --------------  ----- \n",
            " 0   question    2000 non-null   object\n",
            " 1   answer      2000 non-null   object\n",
            " 2   source      2000 non-null   object\n",
            " 3   focus_area  2000 non-null   object\n",
            "dtypes: object(4)\n",
            "memory usage: 62.6+ KB\n"
          ]
        }
      ],
      "source": [
        "data.info()"
      ]
    },
    {
      "cell_type": "markdown",
      "metadata": {
        "id": "Lfe3RckLAi5u"
      },
      "source": [
        "### 2. Distribution of Questions and Answers"
      ]
    },
    {
      "cell_type": "code",
      "execution_count": null,
      "metadata": {
        "colab": {
          "base_uri": "https://localhost:8080/"
        },
        "id": "6cikJV-MAJK-",
        "outputId": "fc8631e7-fd06-4936-a20f-c627827de66e"
      },
      "outputs": [
        {
          "output_type": "stream",
          "name": "stdout",
          "text": [
            "Number of unique questions: 1433\n",
            "Top 10 most common questions:\n",
            " question\n",
            "What is (are) High Blood Cholesterol ?           18\n",
            "What is (are) Medicare and Continuing Care ?     14\n",
            "What is (are) Skin Cancer ?                      12\n",
            "What is (are) Breast Cancer ?                    12\n",
            "What are the treatments for Breast Cancer ?      12\n",
            "What is (are) Colorectal Cancer ?                12\n",
            "What is (are) Stroke ?                           11\n",
            "What is (are) Leukemia ?                         10\n",
            "What are the treatments for Prostate Cancer ?    10\n",
            "What is (are) High Blood Pressure ?              10\n",
            "Name: count, dtype: int64\n"
          ]
        }
      ],
      "source": [
        "# Count the number of unique questions\n",
        "unique_questions_count = data['question'].nunique()\n",
        "print(\"Number of unique questions:\", unique_questions_count)\n",
        "\n",
        "# Count the frequency of each question\n",
        "question_counts = data['question'].value_counts()\n",
        "print(\"Top 10 most common questions:\\n\", question_counts.head(10))\n"
      ]
    },
    {
      "cell_type": "markdown",
      "metadata": {
        "id": "QQtrfCKJA33l"
      },
      "source": [
        "### 3. Analysis of Repeated Questions\n",
        "This helps to understand which questions are repeated in the dataset and how often each appears, which can be useful for the model."
      ]
    },
    {
      "cell_type": "code",
      "execution_count": null,
      "metadata": {
        "colab": {
          "base_uri": "https://localhost:8080/"
        },
        "id": "MaiVT_qAA3bm",
        "outputId": "0f00047c-eedd-4f0d-b078-c8b5648b49de"
      },
      "outputs": [
        {
          "output_type": "stream",
          "name": "stdout",
          "text": [
            "Number of repeated questions: 213\n",
            "Examples of repeated questions:\n",
            " question\n",
            "What is (are) High Blood Cholesterol ?           18\n",
            "What is (are) Medicare and Continuing Care ?     14\n",
            "What is (are) Colorectal Cancer ?                12\n",
            "What is (are) Breast Cancer ?                    12\n",
            "What is (are) Skin Cancer ?                      12\n",
            "What are the treatments for Breast Cancer ?      12\n",
            "What is (are) Stroke ?                           11\n",
            "What is (are) High Blood Pressure ?              10\n",
            "What are the treatments for Prostate Cancer ?    10\n",
            "What is (are) Leukemia ?                         10\n",
            "Name: count, dtype: int64\n"
          ]
        }
      ],
      "source": [
        "# Find questions that appear more than once\n",
        "repeated_questions = data[data.duplicated(subset=['question'], keep=False)]\n",
        "\n",
        "# Display repeated questions and their counts\n",
        "repeated_questions_summary = repeated_questions['question'].value_counts()\n",
        "print(\"Number of repeated questions:\", len(repeated_questions_summary))\n",
        "print(\"Examples of repeated questions:\\n\", repeated_questions_summary.head(10))\n"
      ]
    },
    {
      "cell_type": "markdown",
      "metadata": {
        "id": "7ngEN7wQBiyQ"
      },
      "source": [
        "### 4. Check if repeated questions have the same or different answers"
      ]
    },
    {
      "cell_type": "markdown",
      "metadata": {
        "id": "axhdFHCJCErV"
      },
      "source": [
        "Here we group the dataset by question and calculates the number of unique answers for each question. It then filters for questions that have more than one unique answer, showing only those with multiple responses."
      ]
    },
    {
      "cell_type": "code",
      "execution_count": null,
      "metadata": {
        "colab": {
          "base_uri": "https://localhost:8080/"
        },
        "id": "71sNGlmyBp3B",
        "outputId": "7609607b-477b-43c5-8d74-3c248394cb7a"
      },
      "outputs": [
        {
          "output_type": "stream",
          "name": "stdout",
          "text": [
            "Questions with multiple unique answers:\n",
            "                                               question  unique_answer_count\n",
            "183            How to diagnose Alzheimer's Caregiving ?                    2\n",
            "184               How to diagnose Alzheimer's Disease ?                    3\n",
            "188                     How to diagnose Breast Cancer ?                    3\n",
            "189                              How to diagnose COPD ?                    2\n",
            "211   How to diagnose Creating a Family Health Histo...                    2\n",
            "...                                                 ...                  ...\n",
            "1415  what research (or clinical trials) is being do...                    2\n",
            "1416  what research (or clinical trials) is being do...                    3\n",
            "1417  what research (or clinical trials) is being do...                    2\n",
            "1423  what research (or clinical trials) is being do...                    4\n",
            "1425  what research (or clinical trials) is being do...                    2\n",
            "\n",
            "[213 rows x 2 columns]\n"
          ]
        }
      ],
      "source": [
        "# Group by 'question' and count unique answers for each question\n",
        "question_answer_variation = data.groupby('question')['answer'].nunique().reset_index()\n",
        "question_answer_variation.columns = ['question', 'unique_answer_count']\n",
        "\n",
        "# Filter questions with multiple unique answers\n",
        "repeated_questions_with_different_answers = question_answer_variation[question_answer_variation['unique_answer_count'] > 1]\n",
        "\n",
        "# Display questions that have multiple unique answers\n",
        "print(\"Questions with multiple unique answers:\")\n",
        "print(repeated_questions_with_different_answers)\n"
      ]
    },
    {
      "cell_type": "code",
      "execution_count": null,
      "metadata": {
        "colab": {
          "base_uri": "https://localhost:8080/"
        },
        "id": "-vAXsh0pCaCv",
        "outputId": "a3c580b6-3a8d-4a63-aad8-a4adc4a473d2"
      },
      "outputs": [
        {
          "output_type": "stream",
          "name": "stdout",
          "text": [
            "\n",
            "Question: How to diagnose Alzheimer's Caregiving ?\n",
            "\n",
            "Answer 1: Now that your family member or friend has received a diagnosis of Alzheimers disease, its important to learn as much as you can about the disease and how to care for someone who has it. You may also want to know the right way to share the news with family and friends. Learning About Alzheimers Sometimes, you may feel that you don't know how to care for the person with Alzheimers. This is a common feeling among caregivers of people with Alzheimers because each day may bring different challenges. Learning about the disease can help you understand and cope with these challenges. Here is some information about Alzheimers and ways you can learn more about it. Alzheimers disease is an illness of the brain. It causes large numbers of nerve cells in the brain to die. This affects a persons ability to remember things and think clearly. People with Alzheimers become forgetful and easily confused and may have a hard time concentrating. They may have trouble taking care of themselves and doing basic things like making meals, bathing, and getting dressed. Alzheimers varies from person to person. It can progress faster in some people than in others, and not everyone will have the same symptoms. In general, though, Alzheimers takes many years to develop, becoming increasingly severe over time. As the disease gets worse, people need more help. Eventually, they require total care. Alzheimer's disease consists of three main stages: mild (sometimes called early-stage), moderate, and severe (sometimes called late-stage). Understanding these stages can help you care for your loved one and plan ahead. Mild Alzheimers Disease In the mild stage of Alzheimers, people often have some memory loss and small changes in personality. They may have trouble remembering recent events or the names of familiar people or things. They may no longer be able to solve simple math problems or balance a checkbook. People with mild Alzheimers also slowly lose the ability to plan and organize. For example, they may have trouble making a grocery list and finding items in the store. Moderate Alzheimers Disease In the moderate stage of Alzheimers, memory loss and confusion become more obvious. People have more trouble organizing, planning, and following instructions. They may need help getting dressed and may start having problems with bladder or bowel control. People with moderate Alzheimers may have trouble recognizing family members and friends. They may not know where they are or what day or year it is. They also may begin to wander, so they should not be left alone. Personality changes can become more serious. For example, people may make threats or accuse others of stealing. Severe Alzheimers Disease In the severe stage of Alzheimer's, people usually need help with all of their daily needs. They may not be able to walk or sit up without help. They may not be able to talk and often cannot recognize family members. They may have trouble swallowing and refuse to eat. For a short overview of Alzheimers, see  Understanding Alzheimers Disease: What You Need to Know. Learn More About Alzheimers Disease So far, there is no cure for Alzheimers, but there are treatments that can prevent some symptoms from getting worse for a limited time. Here are some ways you can learn more about Alzheimers disease. - Talk with a doctor or other healthcare provider who specializes in Alzheimers disease.   - Check out books or videos about Alzheimers from the library.   - Go to educational programs about the disease.   - Visit the website of the National Institute on Agings Alzheimers Disease Education and Referral (ADEAR) Center. The Institute has a guide, Caring for a Person with Alzheimers Disease,which can be viewed online and ordered in print.   - Read about  Alzheimers disease on NIHSeniorHealth.  - Find a support group for caregivers, ideally one in which members are taking care of someone who is in the same stage of Alzheimers as the person you are caring for.  Talk with a doctor or other healthcare provider who specializes in Alzheimers disease. Check out books or videos about Alzheimers from the library. Go to educational programs about the disease. Visit the website of the National Institute on Agings Alzheimers Disease Education and Referral (ADEAR) Center. The Institute has a guide, Caring for a Person with Alzheimers Disease,which can be viewed online and ordered in print. Read about  Alzheimers disease on NIHSeniorHealth. Find a support group for caregivers, ideally one in which members are taking care of someone who is in the same stage of Alzheimers as the person you are caring for. Talking With Family and Friends When you learn that someone has Alzheimers disease, you may wonder when and how to tell your family and friends. You may be worried about how others will react to or treat the person. Others often sense that something is wrong before they are told. Alzheimers disease is hard to keep secret. When the time seems right, be honest with family, friends, and others. Use this as a chance to educate them about Alzheimers disease. You can share information to help them understand what you and the person with Alzheimers are going through. You can also tell them what they can do to help. You can help family and friends understand how to interact with the person who has Alzheimers. - Help them realize what the person can still do and how much he or she can still understand.  - Give them suggestions about how to start talking with the person. For example, \"Hello George, I'm John. We used to work together.\"  - Help them avoid correcting the person with Alzheimers if he or she makes a mistake or forgets something.  - Help them plan fun activities with the person, such as going to family reunions or visiting old friends. Help them realize what the person can still do and how much he or she can still understand. Give them suggestions about how to start talking with the person. For example, \"Hello George, I'm John. We used to work together.\" Help them avoid correcting the person with Alzheimers if he or she makes a mistake or forgets something. Help them plan fun activities with the person, such as going to family reunions or visiting old friends. Helping Children Understand Alzheimers If the person with Alzheimers has young children or grandchildren, you can help them understand what is happening. Answer their questions simply and honestly. For example, you might tell a young child, \"Grandma has an illness that makes it hard for her to remember things.\" Know that their feelings of sadness and anger are normal. Comfort them. Tell them they didn't cause the disease. If the child lives with someone who has Alzheimers, don't expect him or her to \"babysit\" the person. Make sure the child has time for his or her own interests and needs, such as playing with friends and going to school activities. Spend time with the child, so he or she doesn't feel that all your attention is on the person with Alzheimers. Many younger children will look to you to see how to act around the person with Alzheimers disease. Show children they can still talk with the person and help them enjoy things. Doing fun things together, like arts and crafts or looking through photo albums, can help both the child and the person with Alzheimer's. Challenges for Teens A teenager might find it hard to accept how the person with Alzheimers has changed. He or she may find the changes upsetting or embarrassing and not want to be around the person. Talk with teenagers about their concerns and feelings. Don't force them to spend time with the person who has Alzheimers.  Get more information about helping family and friends understand Alzheimers disease.\n",
            "\n",
            "Answer 2: When you learn that someone has Alzheimers disease, you may wonder when and how to tell your family and friends. You may be worried about how others will react to or treat the person. Others often sense that something is wrong before they are told. Alzheimers disease is hard to keep secret. When the time seems right, be honest with family, friends, and others. Use this as a chance to educate them about Alzheimers disease. You can share information to help them understand what you and the person with Alzheimers are going through. You can also tell them what they can do to help. Get more information about helping family and friends understand Alzheimer's disease.\n",
            "\n",
            "\n",
            "Question: How to diagnose Alzheimer's Disease ?\n",
            "\n",
            "Answer 1: The only definitive way to diagnose Alzheimer's disease is to find out whether plaques and tangles exist in brain tissue. To look at brain tissue, doctors perform a brain autopsy, an examination of the brain done after a person dies. Doctors can only make a diagnosis of \"possible\" or probable Alzheimers disease while a person is alive. Doctors with special training can diagnose Alzheimer's disease correctly up to 90 percent of the time. Doctors who can diagnose Alzheimers include geriatricians, geriatric psychiatrists, and neurologists. A geriatrician specializes in the treatment of older adults. A geriatric psychiatrist specializes in mental problems in older adults. A neurologist specializes in brain and nervous system disorders. To diagnose Alzheimer's disease, doctors may - ask questions about overall health, past medical problems, ability to carry out daily activities, and changes in behavior and personality  - conduct tests to measure memory, problem solving, attention, counting, and language skills   - carry out standard medical tests, such as blood and urine tests  - perform brain scans to look for anything in the brain that does not look normal. ask questions about overall health, past medical problems, ability to carry out daily activities, and changes in behavior and personality conduct tests to measure memory, problem solving, attention, counting, and language skills carry out standard medical tests, such as blood and urine tests perform brain scans to look for anything in the brain that does not look normal.\n",
            "\n",
            "Answer 2: An early, accurate diagnosis of Alzheimer's disease helps people and their families plan for the future. It gives them time to discuss care options, find support, and make legal and financial arrangements while the person with Alzheimers can still take part in making decisions. Also, even though no medicine or other treatment can stop or slow the disease, early diagnosis offers the best chance to treat the symptoms.\n",
            "\n",
            "Answer 3: The time from diagnosis of Alzheimers disease to death varies. It can be as little as 3 or 4 years if the person is over 80 years old when diagnosed or as long as 10 years or more if the person is younger.\n",
            "\n"
          ]
        }
      ],
      "source": [
        "# Select two questions with multiple unique answers for display\n",
        "sample_questions = repeated_questions_with_different_answers['question'].head(2)\n",
        "\n",
        "# Filter the main dataset for these two questions\n",
        "sample_repeated_questions_data = data[data['question'].isin(sample_questions)]\n",
        "\n",
        "# Sort by question for organized display\n",
        "sample_repeated_questions_data = sample_repeated_questions_data.sort_values(by='question')\n",
        "\n",
        "\n",
        "for question in sample_questions:\n",
        "    print(f\"\\nQuestion: {question}\\n\")\n",
        "    answers = sample_repeated_questions_data[sample_repeated_questions_data['question'] == question]['answer']\n",
        "    for idx, answer in enumerate(answers, 1):\n",
        "        print(f\"Answer {idx}: {answer}\\n\")\n",
        "\n"
      ]
    },
    {
      "cell_type": "markdown",
      "metadata": {
        "id": "1iX6YmQiF0Mi"
      },
      "source": [
        "# **Data Preprocessing**"
      ]
    },
    {
      "cell_type": "markdown",
      "metadata": {
        "id": "R-Ru80D-Epcd"
      },
      "source": [
        "### Remove Exact Duplicates"
      ]
    },
    {
      "cell_type": "code",
      "execution_count": null,
      "metadata": {
        "colab": {
          "base_uri": "https://localhost:8080/"
        },
        "id": "a8pEClmCEf6m",
        "outputId": "4e608973-f697-4dd2-df31-f26b6d1863b2"
      },
      "outputs": [
        {
          "output_type": "stream",
          "name": "stdout",
          "text": [
            "Number of rows after removing exact duplicates: 2000\n"
          ]
        }
      ],
      "source": [
        "# Remove rows where both the question and answer are identical\n",
        "data_unique = data.drop_duplicates(subset=['question', 'answer'])\n",
        "\n",
        "# Check new number of rows after removing exact duplicates\n",
        "print(\"Number of rows after removing exact duplicates:\", data_unique.shape[0])\n"
      ]
    },
    {
      "cell_type": "markdown",
      "metadata": {
        "id": "k2LnxsoRGCRn"
      },
      "source": [
        "### Check for Missing Values"
      ]
    },
    {
      "cell_type": "code",
      "execution_count": null,
      "metadata": {
        "colab": {
          "base_uri": "https://localhost:8080/"
        },
        "id": "d6CC0WLbGQnR",
        "outputId": "a8e46b2f-556a-4398-a3f5-14a43b64df27"
      },
      "outputs": [
        {
          "output_type": "stream",
          "name": "stdout",
          "text": [
            "Missing values per column:\n",
            " question      0\n",
            "answer        0\n",
            "source        0\n",
            "focus_area    0\n",
            "dtype: int64\n",
            "\n",
            "Percentage of missing values per column:\n",
            " question      0.0\n",
            "answer        0.0\n",
            "source        0.0\n",
            "focus_area    0.0\n",
            "dtype: float64\n"
          ]
        }
      ],
      "source": [
        "# Display the count of missing values for each column\n",
        "missing_values = data.isnull().sum()\n",
        "print(\"Missing values per column:\\n\", missing_values)\n",
        "\n",
        "# Display the percentage of missing values for each column\n",
        "missing_percentage = (data.isnull().sum() / len(data)) * 100\n",
        "print(\"\\nPercentage of missing values per column:\\n\", missing_percentage)\n"
      ]
    },
    {
      "cell_type": "markdown",
      "metadata": {
        "id": "wMarOtetHHPm"
      },
      "source": [
        "### Handling Missing Values"
      ]
    },
    {
      "cell_type": "markdown",
      "metadata": {
        "id": "XP_dPOG_G1Q6"
      },
      "source": [
        "* Since source and focus_area don’t directly contribute to the question-answering task, we can safely remove these columns. Retaining only question and answer will simplify the dataset and reduce unnecessary information that won’t be used during model training.\n",
        "* Since only 5 answers are missing we can delete the columns that have missing values"
      ]
    },
    {
      "cell_type": "code",
      "execution_count": null,
      "metadata": {
        "id": "pN4pPYy_HQZU"
      },
      "outputs": [],
      "source": [
        "# Drop the columns 'source' and 'focus_area'\n",
        "data = data.drop(columns=['source', 'focus_area'])"
      ]
    },
    {
      "cell_type": "code",
      "execution_count": null,
      "metadata": {
        "colab": {
          "base_uri": "https://localhost:8080/"
        },
        "id": "l1FcqOVJHVNX",
        "outputId": "54a1ac52-b136-4e35-a62d-2d36cfa826f4"
      },
      "outputs": [
        {
          "output_type": "stream",
          "name": "stdout",
          "text": [
            "Remaining missing values:\n",
            " question    0\n",
            "answer      0\n",
            "dtype: int64\n"
          ]
        }
      ],
      "source": [
        "# Remove rows where 'answer' is missing\n",
        "data = data.dropna(subset=['answer'])\n",
        "\n",
        "# Verify that no missing values remain in 'question' and 'answer'\n",
        "print(\"Remaining missing values:\\n\", data.isnull().sum())\n"
      ]
    },
    {
      "cell_type": "markdown",
      "metadata": {
        "id": "Ccy6_K-FOHf-"
      },
      "source": [
        "### Removing Unwanted Characters or Excessive Whitespace:"
      ]
    },
    {
      "cell_type": "code",
      "execution_count": null,
      "metadata": {
        "id": "NLlDIhyHOHGV"
      },
      "outputs": [],
      "source": [
        "# Minimal Preprocessing\n",
        "def clean_text(text):\n",
        "    # Remove excessive whitespace\n",
        "    text = ' '.join(text.split())\n",
        "    return text\n",
        "\n",
        "# Apply cleaning to the 'question' and 'answer' columns\n",
        "data['question'] = data['question'].apply(clean_text)\n",
        "data['answer'] = data['answer'].apply(clean_text)\n"
      ]
    },
    {
      "cell_type": "markdown",
      "metadata": {
        "id": "q0SDkKrbOQi9"
      },
      "source": [
        "# **Splitting to train and test dataset**"
      ]
    },
    {
      "cell_type": "code",
      "execution_count": null,
      "metadata": {
        "colab": {
          "base_uri": "https://localhost:8080/"
        },
        "id": "xelnFSGEb5qc",
        "outputId": "0958d8f3-167a-4b37-b47f-e21ac5c4e0eb"
      },
      "outputs": [
        {
          "output_type": "stream",
          "name": "stdout",
          "text": [
            "                                          question  \\\n",
            "968      What is (are) Myelodysplastic Syndromes ?   \n",
            "240                 What is (are) Kidney Disease ?   \n",
            "819  What is (are) Childhood Soft Tissue Sarcoma ?   \n",
            "692                           What is (are) Gout ?   \n",
            "420   What are the symptoms of Colorectal Cancer ?   \n",
            "\n",
            "                                                answer  \n",
            "968  Key Points - Myelodysplastic syndromes are a g...  \n",
            "240  When you visit your doctor, here are questions...  \n",
            "819  Key Points - Childhood soft tissue sarcoma is ...  \n",
            "692  Sudden, Intense Joint Pain Gout is a form of a...  \n",
            "420  Possible signs of colorectal cancer include: -...  \n"
          ]
        }
      ],
      "source": [
        "import pandas as pd\n",
        "from sklearn.model_selection import train_test_split\n",
        "\n",
        "# Now split into train and validation sets\n",
        "train_data, val_data = train_test_split(data, test_size=0.2, random_state=42)\n",
        "\n",
        "# Display the first few rows to confirm the change\n",
        "print(train_data.head())"
      ]
    },
    {
      "cell_type": "markdown",
      "metadata": {
        "id": "jTK5IsW6VzKR"
      },
      "source": [
        "# **Model Setup**"
      ]
    },
    {
      "cell_type": "markdown",
      "metadata": {
        "id": "oNaVumzLV6h4"
      },
      "source": [
        "## 1.Load the Model and Tokenizer"
      ]
    },
    {
      "cell_type": "code",
      "execution_count": null,
      "metadata": {
        "colab": {
          "base_uri": "https://localhost:8080/"
        },
        "id": "WEys3ptxl6uA",
        "outputId": "184e3dc2-0f23-4269-bc99-b709dcc34983"
      },
      "outputs": [
        {
          "output_type": "stream",
          "name": "stdout",
          "text": [
            "Requirement already satisfied: transformers in /usr/local/lib/python3.10/dist-packages (4.32.0)\n",
            "Requirement already satisfied: torch in /usr/local/lib/python3.10/dist-packages (2.5.0+cu121)\n",
            "Requirement already satisfied: filelock in /usr/local/lib/python3.10/dist-packages (from transformers) (3.16.1)\n",
            "Requirement already satisfied: huggingface-hub<1.0,>=0.15.1 in /usr/local/lib/python3.10/dist-packages (from transformers) (0.24.7)\n",
            "Requirement already satisfied: numpy>=1.17 in /usr/local/lib/python3.10/dist-packages (from transformers) (1.26.4)\n",
            "Requirement already satisfied: packaging>=20.0 in /usr/local/lib/python3.10/dist-packages (from transformers) (24.1)\n",
            "Requirement already satisfied: pyyaml>=5.1 in /usr/local/lib/python3.10/dist-packages (from transformers) (6.0.2)\n",
            "Requirement already satisfied: regex!=2019.12.17 in /usr/local/lib/python3.10/dist-packages (from transformers) (2024.9.11)\n",
            "Requirement already satisfied: requests in /usr/local/lib/python3.10/dist-packages (from transformers) (2.32.3)\n",
            "Requirement already satisfied: tokenizers!=0.11.3,<0.14,>=0.11.1 in /usr/local/lib/python3.10/dist-packages (from transformers) (0.13.3)\n",
            "Requirement already satisfied: safetensors>=0.3.1 in /usr/local/lib/python3.10/dist-packages (from transformers) (0.4.5)\n",
            "Requirement already satisfied: tqdm>=4.27 in /usr/local/lib/python3.10/dist-packages (from transformers) (4.66.6)\n",
            "Requirement already satisfied: typing-extensions>=4.8.0 in /usr/local/lib/python3.10/dist-packages (from torch) (4.12.2)\n",
            "Requirement already satisfied: networkx in /usr/local/lib/python3.10/dist-packages (from torch) (3.4.2)\n",
            "Requirement already satisfied: jinja2 in /usr/local/lib/python3.10/dist-packages (from torch) (3.1.4)\n",
            "Requirement already satisfied: fsspec in /usr/local/lib/python3.10/dist-packages (from torch) (2023.6.0)\n",
            "Requirement already satisfied: sympy==1.13.1 in /usr/local/lib/python3.10/dist-packages (from torch) (1.13.1)\n",
            "Requirement already satisfied: mpmath<1.4,>=1.1.0 in /usr/local/lib/python3.10/dist-packages (from sympy==1.13.1->torch) (1.3.0)\n",
            "Requirement already satisfied: MarkupSafe>=2.0 in /usr/local/lib/python3.10/dist-packages (from jinja2->torch) (3.0.2)\n",
            "Requirement already satisfied: charset-normalizer<4,>=2 in /usr/local/lib/python3.10/dist-packages (from requests->transformers) (3.4.0)\n",
            "Requirement already satisfied: idna<4,>=2.5 in /usr/local/lib/python3.10/dist-packages (from requests->transformers) (3.10)\n",
            "Requirement already satisfied: urllib3<3,>=1.21.1 in /usr/local/lib/python3.10/dist-packages (from requests->transformers) (2.2.3)\n",
            "Requirement already satisfied: certifi>=2017.4.17 in /usr/local/lib/python3.10/dist-packages (from requests->transformers) (2024.8.30)\n"
          ]
        }
      ],
      "source": [
        "pip install transformers torch\n"
      ]
    },
    {
      "cell_type": "code",
      "execution_count": null,
      "metadata": {
        "colab": {
          "base_uri": "https://localhost:8080/"
        },
        "id": "bS7iAt1nl_7r",
        "outputId": "a55d7032-2631-4dcc-dcd0-42665c69d672"
      },
      "outputs": [
        {
          "output_type": "stream",
          "name": "stderr",
          "text": [
            "/usr/local/lib/python3.10/dist-packages/huggingface_hub/file_download.py:1150: FutureWarning: `resume_download` is deprecated and will be removed in version 1.0.0. Downloads always resume when possible. If you want to force a new download, use `force_download=True`.\n",
            "  warnings.warn(\n",
            "/usr/local/lib/python3.10/dist-packages/huggingface_hub/utils/_token.py:89: UserWarning: \n",
            "The secret `HF_TOKEN` does not exist in your Colab secrets.\n",
            "To authenticate with the Hugging Face Hub, create a token in your settings tab (https://huggingface.co/settings/tokens), set it as secret in your Google Colab and restart your session.\n",
            "You will be able to reuse this secret in all of your notebooks.\n",
            "Please note that authentication is recommended but still optional to access public models or datasets.\n",
            "  warnings.warn(\n",
            "/usr/local/lib/python3.10/dist-packages/transformers/utils/generic.py:260: FutureWarning: `torch.utils._pytree._register_pytree_node` is deprecated. Please use `torch.utils._pytree.register_pytree_node` instead.\n",
            "  torch.utils._pytree._register_pytree_node(\n",
            "/usr/local/lib/python3.10/dist-packages/transformers/utils/generic.py:260: FutureWarning: `torch.utils._pytree._register_pytree_node` is deprecated. Please use `torch.utils._pytree.register_pytree_node` instead.\n",
            "  torch.utils._pytree._register_pytree_node(\n",
            "/usr/local/lib/python3.10/dist-packages/huggingface_hub/file_download.py:1150: FutureWarning: `resume_download` is deprecated and will be removed in version 1.0.0. Downloads always resume when possible. If you want to force a new download, use `force_download=True`.\n",
            "  warnings.warn(\n"
          ]
        }
      ],
      "source": [
        "# Load model directly\n",
        "from transformers import AutoTokenizer, AutoModelForSeq2SeqLM\n",
        "\n",
        "tokenizer = AutoTokenizer.from_pretrained(\"google/flan-t5-large\")\n",
        "model = AutoModelForSeq2SeqLM.from_pretrained(\"google/flan-t5-large\")"
      ]
    },
    {
      "cell_type": "markdown",
      "metadata": {
        "id": "HQ_lwm3vyar9"
      },
      "source": [
        "## 2. Convert the DataFrame to a Hugging Face Dataset"
      ]
    },
    {
      "cell_type": "code",
      "execution_count": null,
      "metadata": {
        "colab": {
          "base_uri": "https://localhost:8080/"
        },
        "id": "NGO2a9l1zhl2",
        "outputId": "44006b48-66ac-4f50-b26f-2854a4cdeba5"
      },
      "outputs": [
        {
          "output_type": "stream",
          "name": "stdout",
          "text": [
            "Requirement already satisfied: datasets in /usr/local/lib/python3.10/dist-packages (2.14.5)\n",
            "Requirement already satisfied: numpy>=1.17 in /usr/local/lib/python3.10/dist-packages (from datasets) (1.26.4)\n",
            "Requirement already satisfied: pyarrow>=8.0.0 in /usr/local/lib/python3.10/dist-packages (from datasets) (17.0.0)\n",
            "Requirement already satisfied: dill<0.3.8,>=0.3.0 in /usr/local/lib/python3.10/dist-packages (from datasets) (0.3.7)\n",
            "Requirement already satisfied: pandas in /usr/local/lib/python3.10/dist-packages (from datasets) (2.2.2)\n",
            "Requirement already satisfied: requests>=2.19.0 in /usr/local/lib/python3.10/dist-packages (from datasets) (2.32.3)\n",
            "Requirement already satisfied: tqdm>=4.62.1 in /usr/local/lib/python3.10/dist-packages (from datasets) (4.66.6)\n",
            "Requirement already satisfied: xxhash in /usr/local/lib/python3.10/dist-packages (from datasets) (3.5.0)\n",
            "Requirement already satisfied: multiprocess in /usr/local/lib/python3.10/dist-packages (from datasets) (0.70.15)\n",
            "Requirement already satisfied: fsspec<2023.9.0,>=2023.1.0 in /usr/local/lib/python3.10/dist-packages (from fsspec[http]<2023.9.0,>=2023.1.0->datasets) (2023.6.0)\n",
            "Requirement already satisfied: aiohttp in /usr/local/lib/python3.10/dist-packages (from datasets) (3.10.10)\n",
            "Requirement already satisfied: huggingface-hub<1.0.0,>=0.14.0 in /usr/local/lib/python3.10/dist-packages (from datasets) (0.24.7)\n",
            "Requirement already satisfied: packaging in /usr/local/lib/python3.10/dist-packages (from datasets) (24.1)\n",
            "Requirement already satisfied: pyyaml>=5.1 in /usr/local/lib/python3.10/dist-packages (from datasets) (6.0.2)\n",
            "Requirement already satisfied: aiohappyeyeballs>=2.3.0 in /usr/local/lib/python3.10/dist-packages (from aiohttp->datasets) (2.4.3)\n",
            "Requirement already satisfied: aiosignal>=1.1.2 in /usr/local/lib/python3.10/dist-packages (from aiohttp->datasets) (1.3.1)\n",
            "Requirement already satisfied: attrs>=17.3.0 in /usr/local/lib/python3.10/dist-packages (from aiohttp->datasets) (24.2.0)\n",
            "Requirement already satisfied: frozenlist>=1.1.1 in /usr/local/lib/python3.10/dist-packages (from aiohttp->datasets) (1.5.0)\n",
            "Requirement already satisfied: multidict<7.0,>=4.5 in /usr/local/lib/python3.10/dist-packages (from aiohttp->datasets) (6.1.0)\n",
            "Requirement already satisfied: yarl<2.0,>=1.12.0 in /usr/local/lib/python3.10/dist-packages (from aiohttp->datasets) (1.17.1)\n",
            "Requirement already satisfied: async-timeout<5.0,>=4.0 in /usr/local/lib/python3.10/dist-packages (from aiohttp->datasets) (4.0.3)\n",
            "Requirement already satisfied: filelock in /usr/local/lib/python3.10/dist-packages (from huggingface-hub<1.0.0,>=0.14.0->datasets) (3.16.1)\n",
            "Requirement already satisfied: typing-extensions>=3.7.4.3 in /usr/local/lib/python3.10/dist-packages (from huggingface-hub<1.0.0,>=0.14.0->datasets) (4.12.2)\n",
            "Requirement already satisfied: charset-normalizer<4,>=2 in /usr/local/lib/python3.10/dist-packages (from requests>=2.19.0->datasets) (3.4.0)\n",
            "Requirement already satisfied: idna<4,>=2.5 in /usr/local/lib/python3.10/dist-packages (from requests>=2.19.0->datasets) (3.10)\n",
            "Requirement already satisfied: urllib3<3,>=1.21.1 in /usr/local/lib/python3.10/dist-packages (from requests>=2.19.0->datasets) (2.2.3)\n",
            "Requirement already satisfied: certifi>=2017.4.17 in /usr/local/lib/python3.10/dist-packages (from requests>=2.19.0->datasets) (2024.8.30)\n",
            "Requirement already satisfied: python-dateutil>=2.8.2 in /usr/local/lib/python3.10/dist-packages (from pandas->datasets) (2.8.2)\n",
            "Requirement already satisfied: pytz>=2020.1 in /usr/local/lib/python3.10/dist-packages (from pandas->datasets) (2024.2)\n",
            "Requirement already satisfied: tzdata>=2022.7 in /usr/local/lib/python3.10/dist-packages (from pandas->datasets) (2024.2)\n",
            "Requirement already satisfied: six>=1.5 in /usr/local/lib/python3.10/dist-packages (from python-dateutil>=2.8.2->pandas->datasets) (1.16.0)\n",
            "Requirement already satisfied: propcache>=0.2.0 in /usr/local/lib/python3.10/dist-packages (from yarl<2.0,>=1.12.0->aiohttp->datasets) (0.2.0)\n"
          ]
        }
      ],
      "source": [
        "!pip install datasets\n"
      ]
    },
    {
      "cell_type": "code",
      "execution_count": null,
      "metadata": {
        "id": "JbQ361mLyelq"
      },
      "outputs": [],
      "source": [
        "from datasets import Dataset\n",
        "# Convert DataFrames to Hugging Face Datasets\n",
        "train_dataset = Dataset.from_pandas(train_data)\n",
        "val_dataset = Dataset.from_pandas(val_data)\n"
      ]
    },
    {
      "cell_type": "markdown",
      "metadata": {
        "id": "FXlYywGOzvvy"
      },
      "source": [
        "##  3. Define Tokenization and Preprocessing Function"
      ]
    },
    {
      "cell_type": "code",
      "execution_count": null,
      "metadata": {
        "colab": {
          "base_uri": "https://localhost:8080/",
          "height": 81,
          "referenced_widgets": [
            "cd6b57338616400aa2eb7fdec771db4e",
            "3a73df4d41194f4e8399cff0db99eba3",
            "7ffac5ec93d746cf89a8fc14be8ca8fb",
            "9ebbdf4e293f42fe9a60d7aa9d770dc5",
            "b16dde6786c94bbe8364d6916c4fa3a7",
            "6e03e2936ef64b088e536c87af704773",
            "ffeb8c32f821459e8572bfe276b7dc3e",
            "fa810404aaf146ed80a4479d9916c743",
            "087604d5488848249a7ed8bbb3e2cbf4",
            "9235d7ec96424980926b445179c40a5c",
            "7ccc81138f8f4eed988cacd34673c2b8",
            "9ca1c4fe95994e92a6956ccc1d7188d3",
            "8ace5ee83d4545f18846e7b7abcd8ebb",
            "6595b7b50d56430c948cff4979f3d789",
            "a81785fad28748db90a67e9c2327f201",
            "9547d7416e40481ea3d02a6bce9f0135",
            "95fe4a0bcc4a453fb53aea0633a1a8e2",
            "359ff284d3a1494980ed1c54e205cd88",
            "aa95fb9c21bb4740b10201711bdaaf3f",
            "2540d0494ca34d6399fad889d37b277d",
            "fc2af586b16746fe8b768b3f5598eecc",
            "a3dc2d8018d04ca5863939edfc891924"
          ]
        },
        "id": "zE6DpCa4zxte",
        "outputId": "61a9cd88-fa45-4355-d4ed-4285a0950f9b"
      },
      "outputs": [
        {
          "output_type": "display_data",
          "data": {
            "text/plain": [
              "Map:   0%|          | 0/1600 [00:00<?, ? examples/s]"
            ],
            "application/vnd.jupyter.widget-view+json": {
              "version_major": 2,
              "version_minor": 0,
              "model_id": "cd6b57338616400aa2eb7fdec771db4e"
            }
          },
          "metadata": {}
        },
        {
          "output_type": "display_data",
          "data": {
            "text/plain": [
              "Map:   0%|          | 0/400 [00:00<?, ? examples/s]"
            ],
            "application/vnd.jupyter.widget-view+json": {
              "version_major": 2,
              "version_minor": 0,
              "model_id": "9ca1c4fe95994e92a6956ccc1d7188d3"
            }
          },
          "metadata": {}
        }
      ],
      "source": [
        "def preprocess_function(examples):\n",
        "    inputs = examples['question']\n",
        "    targets = examples['answer']\n",
        "\n",
        "    # Tokenize inputs and targets\n",
        "    model_inputs = tokenizer(inputs, max_length=512, truncation=True, padding=\"max_length\")\n",
        "\n",
        "    # Setup the tokenizer for targets\n",
        "    labels = tokenizer(targets, max_length=512, truncation=True, padding=\"max_length\")\n",
        "\n",
        "    model_inputs[\"labels\"] = labels[\"input_ids\"]\n",
        "    return model_inputs\n",
        "\n",
        "# Apply the preprocessing function to the datasets\n",
        "train_dataset = train_dataset.map(preprocess_function, batched=True)\n",
        "val_dataset = val_dataset.map(preprocess_function, batched=True)\n"
      ]
    },
    {
      "cell_type": "code",
      "source": [
        "print(val_data[:5])\n"
      ],
      "metadata": {
        "colab": {
          "base_uri": "https://localhost:8080/"
        },
        "id": "Ae4XKu8HU0rR",
        "outputId": "2a32c509-24b9-464b-c5d8-b5138d7eb046"
      },
      "execution_count": null,
      "outputs": [
        {
          "output_type": "stream",
          "name": "stdout",
          "text": [
            "                                               question  \\\n",
            "1860                        What is (are) Thalassemia ?   \n",
            "353   what research (or clinical trials) is being do...   \n",
            "1333  What is the outlook for Childhood Central Nerv...   \n",
            "905   what research (or clinical trials) is being do...   \n",
            "1289  What are the stages of Chronic Myeloproliferat...   \n",
            "\n",
            "                                                 answer  \n",
            "1860  Thalassemias are inherited blood disorders. If...  \n",
            "353   The National Eye Institute, or NEI, is conduct...  \n",
            "1333  Certain factors affect prognosis (chance of re...  \n",
            "905   New types of treatment are being tested in cli...  \n",
            "1289  Key Points - There is no standard staging syst...  \n"
          ]
        }
      ]
    },
    {
      "cell_type": "code",
      "source": [
        "print(val_data)"
      ],
      "metadata": {
        "colab": {
          "base_uri": "https://localhost:8080/"
        },
        "id": "2LmLinYrX_-Q",
        "outputId": "d87e49b0-170e-4525-80d3-cc587911ea1d"
      },
      "execution_count": null,
      "outputs": [
        {
          "output_type": "stream",
          "name": "stdout",
          "text": [
            "                                               question  \\\n",
            "1860                        What is (are) Thalassemia ?   \n",
            "353   what research (or clinical trials) is being do...   \n",
            "1333  What is the outlook for Childhood Central Nerv...   \n",
            "905   what research (or clinical trials) is being do...   \n",
            "1289  What are the stages of Chronic Myeloproliferat...   \n",
            "...                                                 ...   \n",
            "965              What are the stages of Rectal Cancer ?   \n",
            "1284  Who is at risk for Adult Acute Lymphoblastic L...   \n",
            "1739                       What is (are) Hypoglycemia ?   \n",
            "261               How to diagnose Alzheimer's Disease ?   \n",
            "535                             What causes Psoriasis ?   \n",
            "\n",
            "                                                 answer  \n",
            "1860  Thalassemias are inherited blood disorders. If...  \n",
            "353   The National Eye Institute, or NEI, is conduct...  \n",
            "1333  Certain factors affect prognosis (chance of re...  \n",
            "905   New types of treatment are being tested in cli...  \n",
            "1289  Key Points - There is no standard staging syst...  \n",
            "...                                                 ...  \n",
            "965   Key Points - After rectal cancer has been diag...  \n",
            "1284  Previous chemotherapy and exposure to radiatio...  \n",
            "1739  Hypoglycemia means low blood glucose, or blood...  \n",
            "261   An early, accurate diagnosis of Alzheimer's di...  \n",
            "535   Although the cause of psoriasis is not complet...  \n",
            "\n",
            "[400 rows x 2 columns]\n"
          ]
        }
      ]
    },
    {
      "cell_type": "markdown",
      "metadata": {
        "id": "-UBSoaxUz0q6"
      },
      "source": [
        "## 4. Set Up Training Arguments"
      ]
    },
    {
      "cell_type": "code",
      "execution_count": null,
      "metadata": {
        "id": "3ot9g9_K0zYs"
      },
      "outputs": [],
      "source": [
        "import torch\n",
        "torch.cuda.empty_cache()\n"
      ]
    },
    {
      "cell_type": "code",
      "execution_count": null,
      "metadata": {
        "id": "il8FDLBpz7p-"
      },
      "outputs": [],
      "source": [
        "from transformers import AutoModelForQuestionAnswering, Trainer, TrainingArguments\n",
        "from transformers import TrainingArguments\n",
        "\n",
        "\n",
        "training_args = TrainingArguments(\n",
        "    output_dir=\"./results\",\n",
        "    evaluation_strategy=\"epoch\",\n",
        "    logging_strategy=\"steps\",   # Enables step-by-step logging\n",
        "    logging_steps=10,           # Display training loss every 10 steps\n",
        "    learning_rate=2e-5,\n",
        "    per_device_train_batch_size=8,\n",
        "    per_device_eval_batch_size=8,\n",
        "    num_train_epochs=3,\n",
        "    weight_decay=0.01,\n",
        ")\n",
        "model.gradient_checkpointing_enable()\n"
      ]
    },
    {
      "cell_type": "markdown",
      "metadata": {
        "id": "n5rqX9zm0Mr9"
      },
      "source": [
        "## 5. Initialize the Trainer and train the model"
      ]
    },
    {
      "cell_type": "code",
      "execution_count": null,
      "metadata": {
        "colab": {
          "base_uri": "https://localhost:8080/",
          "height": 484
        },
        "id": "PIVjqgLw0OXw",
        "outputId": "2e98699c-05df-4156-801d-1d4e3076efd1"
      },
      "outputs": [
        {
          "output_type": "stream",
          "name": "stderr",
          "text": [
            "/usr/local/lib/python3.10/dist-packages/accelerate/accelerator.py:457: FutureWarning: Passing the following arguments to `Accelerator` is deprecated and will be removed in version 1.0 of Accelerate: dict_keys(['dispatch_batches']). Please pass an `accelerate.DataLoaderConfiguration` instead: \n",
            "dataloader_config = DataLoaderConfiguration(dispatch_batches=None)\n",
            "  warnings.warn(\n",
            "\u001b[34m\u001b[1mwandb\u001b[0m: Using wandb-core as the SDK backend. Please refer to https://wandb.me/wandb-core for more information.\n",
            "\u001b[34m\u001b[1mwandb\u001b[0m: Currently logged in as: \u001b[33msarasafer59\u001b[0m (\u001b[33msarasafer59-esprit\u001b[0m). Use \u001b[1m`wandb login --relogin`\u001b[0m to force relogin\n"
          ]
        },
        {
          "output_type": "display_data",
          "data": {
            "text/plain": [
              "<IPython.core.display.HTML object>"
            ],
            "text/html": [
              "Tracking run with wandb version 0.18.5"
            ]
          },
          "metadata": {}
        },
        {
          "output_type": "display_data",
          "data": {
            "text/plain": [
              "<IPython.core.display.HTML object>"
            ],
            "text/html": [
              "Run data is saved locally in <code>/content/wandb/run-20241112_192632-e4p1j89t</code>"
            ]
          },
          "metadata": {}
        },
        {
          "output_type": "display_data",
          "data": {
            "text/plain": [
              "<IPython.core.display.HTML object>"
            ],
            "text/html": [
              "Syncing run <strong><a href='https://wandb.ai/sarasafer59-esprit/huggingface/runs/e4p1j89t' target=\"_blank\">vivid-thunder-20</a></strong> to <a href='https://wandb.ai/sarasafer59-esprit/huggingface' target=\"_blank\">Weights & Biases</a> (<a href='https://wandb.me/run' target=\"_blank\">docs</a>)<br/>"
            ]
          },
          "metadata": {}
        },
        {
          "output_type": "display_data",
          "data": {
            "text/plain": [
              "<IPython.core.display.HTML object>"
            ],
            "text/html": [
              " View project at <a href='https://wandb.ai/sarasafer59-esprit/huggingface' target=\"_blank\">https://wandb.ai/sarasafer59-esprit/huggingface</a>"
            ]
          },
          "metadata": {}
        },
        {
          "output_type": "display_data",
          "data": {
            "text/plain": [
              "<IPython.core.display.HTML object>"
            ],
            "text/html": [
              " View run at <a href='https://wandb.ai/sarasafer59-esprit/huggingface/runs/e4p1j89t' target=\"_blank\">https://wandb.ai/sarasafer59-esprit/huggingface/runs/e4p1j89t</a>"
            ]
          },
          "metadata": {}
        },
        {
          "output_type": "stream",
          "name": "stderr",
          "text": [
            "/usr/local/lib/python3.10/dist-packages/torch/_dynamo/eval_frame.py:632: UserWarning: torch.utils.checkpoint: the use_reentrant parameter should be passed explicitly. In version 2.5 we will raise an exception if use_reentrant is not passed. use_reentrant=False is recommended, but if you need to preserve the current default behavior, you can pass use_reentrant=True. Refer to docs for more details on the differences between the two variants.\n",
            "  return fn(*args, **kwargs)\n",
            "`use_cache=True` is incompatible with gradient checkpointing. Setting `use_cache=False`...\n"
          ]
        },
        {
          "output_type": "display_data",
          "data": {
            "text/plain": [
              "<IPython.core.display.HTML object>"
            ],
            "text/html": [
              "\n",
              "    <div>\n",
              "      \n",
              "      <progress value='600' max='600' style='width:300px; height:20px; vertical-align: middle;'></progress>\n",
              "      [600/600 56:26, Epoch 3/3]\n",
              "    </div>\n",
              "    <table border=\"1\" class=\"dataframe\">\n",
              "  <thead>\n",
              " <tr style=\"text-align: left;\">\n",
              "      <th>Epoch</th>\n",
              "      <th>Training Loss</th>\n",
              "      <th>Validation Loss</th>\n",
              "    </tr>\n",
              "  </thead>\n",
              "  <tbody>\n",
              "    <tr>\n",
              "      <td>1</td>\n",
              "      <td>1.242700</td>\n",
              "      <td>1.062044</td>\n",
              "    </tr>\n",
              "    <tr>\n",
              "      <td>2</td>\n",
              "      <td>1.014700</td>\n",
              "      <td>0.927548</td>\n",
              "    </tr>\n",
              "    <tr>\n",
              "      <td>3</td>\n",
              "      <td>0.924500</td>\n",
              "      <td>0.909394</td>\n",
              "    </tr>\n",
              "  </tbody>\n",
              "</table><p>"
            ]
          },
          "metadata": {}
        },
        {
          "output_type": "stream",
          "name": "stderr",
          "text": [
            "/usr/local/lib/python3.10/dist-packages/torch/_dynamo/eval_frame.py:632: UserWarning: torch.utils.checkpoint: the use_reentrant parameter should be passed explicitly. In version 2.5 we will raise an exception if use_reentrant is not passed. use_reentrant=False is recommended, but if you need to preserve the current default behavior, you can pass use_reentrant=True. Refer to docs for more details on the differences between the two variants.\n",
            "  return fn(*args, **kwargs)\n"
          ]
        },
        {
          "output_type": "execute_result",
          "data": {
            "text/plain": [
              "TrainOutput(global_step=600, training_loss=3.0281810029347738, metrics={'train_runtime': 3397.4751, 'train_samples_per_second': 1.413, 'train_steps_per_second': 0.177, 'total_flos': 1.10628861640704e+16, 'train_loss': 3.0281810029347738, 'epoch': 3.0})"
            ]
          },
          "metadata": {},
          "execution_count": 25
        }
      ],
      "source": [
        "trainer = Trainer(\n",
        "    model=model,\n",
        "    args=training_args,\n",
        "    train_dataset=train_dataset,\n",
        "    eval_dataset=val_dataset,\n",
        ")\n",
        "\n",
        "trainer.train()"
      ]
    },
    {
      "cell_type": "markdown",
      "metadata": {
        "id": "3zQPvhaoRQJw"
      },
      "source": [
        "## 6. Save the model"
      ]
    },
    {
      "cell_type": "code",
      "execution_count": null,
      "metadata": {
        "id": "cKIJCk-XInBE"
      },
      "outputs": [],
      "source": [
        "trainer.save_model(\"./fine_tuned_flan_t5_large\")\n",
        "tokenizer.save_pretrained(\"./fine_tuned_flan_t5_large\")\n"
      ]
    },
    {
      "cell_type": "markdown",
      "metadata": {
        "id": "lBQPK0YmRYhG"
      },
      "source": [
        "# **Evaluation before Fine Tuning**"
      ]
    },
    {
      "cell_type": "markdown",
      "metadata": {
        "id": "s-pM_JLZR2Ff"
      },
      "source": [
        "## 1. Validation loss"
      ]
    },
    {
      "cell_type": "code",
      "execution_count": null,
      "metadata": {
        "colab": {
          "base_uri": "https://localhost:8080/",
          "height": 54
        },
        "id": "-1IZx1-uJCOA",
        "outputId": "ec6074e8-022c-4020-ed5c-02ba561ca135"
      },
      "outputs": [
        {
          "output_type": "display_data",
          "data": {
            "text/plain": [
              "<IPython.core.display.HTML object>"
            ],
            "text/html": [
              "\n",
              "    <div>\n",
              "      \n",
              "      <progress value='100' max='50' style='width:300px; height:20px; vertical-align: middle;'></progress>\n",
              "      [50/50 07:41]\n",
              "    </div>\n",
              "    "
            ]
          },
          "metadata": {}
        },
        {
          "output_type": "stream",
          "name": "stdout",
          "text": [
            "Validation Loss: 0.9094\n"
          ]
        }
      ],
      "source": [
        "# Evaluate model performance on the validation set\n",
        "eval_results = trainer.evaluate()\n",
        "print(f\"Validation Loss: {eval_results['eval_loss']:.4f}\")\n"
      ]
    },
    {
      "cell_type": "markdown",
      "metadata": {
        "id": "lZt5ZglKR7DR"
      },
      "source": [
        "## 2. Define the Test Function\n",
        "\n",
        "Create a function to handle testing on a set of input questions and contexts. This function will generate answers using the fine-tuned model and print or store the results for evaluation."
      ]
    },
    {
      "cell_type": "code",
      "execution_count": null,
      "metadata": {
        "id": "tg7yRK0_IyRa"
      },
      "outputs": [],
      "source": [
        "import torch\n",
        "\n",
        "def test_model(model, tokenizer, dataset, num_samples=5, max_length=100):\n",
        "    model.eval()  # Set model to evaluation mode\n",
        "    device = torch.device(\"cuda\" if torch.cuda.is_available() else \"cpu\")\n",
        "    model = model.to(device)\n",
        "\n",
        "    # Loop over the dataset and generate predictions\n",
        "    for i in range(num_samples):\n",
        "        # Prepare inputs\n",
        "        sample = dataset[i]\n",
        "        input_text = sample['question'] + \" \" + sample['answer']  # Adjust based on your dataset structure\n",
        "        inputs = tokenizer(input_text, return_tensors=\"pt\").to(device)\n",
        "\n",
        "        # Generate output\n",
        "        with torch.no_grad():\n",
        "            outputs = model.generate(inputs['input_ids'], max_length=max_length)\n",
        "\n",
        "        # Decode and print the generated answer\n",
        "        generated_answer = tokenizer.decode(outputs[0], skip_special_tokens=True)\n",
        "        true_answer = sample['answer']  # Adjust if necessary for your dataset\n",
        "\n",
        "        print(f\"Question: {sample['question']}\")\n",
        "        print(f\"Context: {sample['answer']}\")\n",
        "        print(f\"Generated Answer: {generated_answer}\")\n",
        "        print(f\"True Answer: {true_answer}\")\n",
        "        print(\"=\" * 50)\n",
        "\n",
        "\n"
      ]
    },
    {
      "cell_type": "code",
      "execution_count": null,
      "metadata": {
        "colab": {
          "base_uri": "https://localhost:8080/"
        },
        "id": "VU37e5gGR94-",
        "outputId": "ed851a54-4c13-4476-8010-98e303c0e792"
      },
      "outputs": [
        {
          "output_type": "stream",
          "name": "stdout",
          "text": [
            "Question: What is (are) Thalassemia ?\n",
            "Context: Thalassemias are inherited blood disorders. If you have one, your body makes fewer healthy red blood cells and less hemoglobin. Hemoglobin is a protein that carries oxygen to the body. That leads to anemia. Thalassemias occur most often among people of Italian, Greek, Middle Eastern, Southern Asian, and African descent. Thalassemias can be mild or severe. Some people have no symptoms or mild anemia. The most common severe type in the United States is called Cooley's anemia. It usually appears during the first two years of life. People with it may have severe anemia, slowed growth and delayed puberty, and problems with the spleen, liver, heart, or bones. Doctors diagnose thalassemias using blood tests. Treatments include blood transfusions and treatment to remove excess iron from the body. If you have mild symptoms or no symptoms, you may not need treatment. In some severe cases, you may need a bone marrow transplant. NIH: National Heart, Lung, and Blood Institute\n",
            "Generated Answer: Thalassemias are inherited blood disorders. If you have one, your body makes fewer healthy red blood cells and less hemoglobin. Hemoglobin is a protein that carries oxygen to the body. That leads to anemia. Thalassemias occur most often among people of Italian, Greek, Middle Eastern, Southern Asian, and African descent. Thalassemias can be mild or severe. Some people have no symptoms or mild anemia. The most\n",
            "True Answer: Thalassemias are inherited blood disorders. If you have one, your body makes fewer healthy red blood cells and less hemoglobin. Hemoglobin is a protein that carries oxygen to the body. That leads to anemia. Thalassemias occur most often among people of Italian, Greek, Middle Eastern, Southern Asian, and African descent. Thalassemias can be mild or severe. Some people have no symptoms or mild anemia. The most common severe type in the United States is called Cooley's anemia. It usually appears during the first two years of life. People with it may have severe anemia, slowed growth and delayed puberty, and problems with the spleen, liver, heart, or bones. Doctors diagnose thalassemias using blood tests. Treatments include blood transfusions and treatment to remove excess iron from the body. If you have mild symptoms or no symptoms, you may not need treatment. In some severe cases, you may need a bone marrow transplant. NIH: National Heart, Lung, and Blood Institute\n",
            "==================================================\n",
            "Question: what research (or clinical trials) is being done for Diabetic Retinopathy ?\n",
            "Context: The National Eye Institute, or NEI, is conducting and supporting research that seeks better ways to detect, treat, and prevent vision loss in people with diabetes. This research is conducted through studies in the laboratory and with patients. For example, researchers are studying drugs for the treatment of proliferative retinopathy that may reduce the need for laser surgery.\n",
            "Generated Answer: Research is being conducted to find better ways to detect, treat, and prevent vision loss in people with diabetes. This research is conducted through studies in the laboratory and with patients. For example, researchers are studying drugs for the treatment of proliferative retinopathy that may reduce the need for laser surgery.\n",
            "True Answer: The National Eye Institute, or NEI, is conducting and supporting research that seeks better ways to detect, treat, and prevent vision loss in people with diabetes. This research is conducted through studies in the laboratory and with patients. For example, researchers are studying drugs for the treatment of proliferative retinopathy that may reduce the need for laser surgery.\n",
            "==================================================\n",
            "Question: What is the outlook for Childhood Central Nervous System Germ Cell Tumors ?\n",
            "Context: Certain factors affect prognosis (chance of recovery). The prognosis (chance of recovery) depends on the following: - The type of germ cell tumor. - The type and level of any tumor markers. - Where the tumor is in the brain or in the spinal cord. - Whether the cancer has spread within the brain and spinal cord or to other parts of the body. - Whether the tumor is newly diagnosed or has recurred (come back) after treatment.\n",
            "Generated Answer: Whether the tumor is newly diagnosed or has recurred (come back) after treatment.\n",
            "True Answer: Certain factors affect prognosis (chance of recovery). The prognosis (chance of recovery) depends on the following: - The type of germ cell tumor. - The type and level of any tumor markers. - Where the tumor is in the brain or in the spinal cord. - Whether the cancer has spread within the brain and spinal cord or to other parts of the body. - Whether the tumor is newly diagnosed or has recurred (come back) after treatment.\n",
            "==================================================\n",
            "Question: what research (or clinical trials) is being done for Renal Cell Cancer ?\n",
            "Context: New types of treatment are being tested in clinical trials. Information about clinical trials is available from the NCI website. Patients may want to think about taking part in a clinical trial. For some patients, taking part in a clinical trial may be the best treatment choice. Clinical trials are part of the cancer research process. Clinical trials are done to find out if new cancer treatments are safe and effective or better than the standard treatment. Many of today's standard treatments for cancer are based on earlier clinical trials. Patients who take part in a clinical trial may receive the standard treatment or be among the first to receive a new treatment. Patients who take part in clinical trials also help improve the way cancer will be treated in the future. Even when clinical trials do not lead to effective new treatments, they often answer important questions and help move research forward. Patients can enter clinical trials before, during, or after starting their cancer treatment. Some clinical trials only include patients who have not yet received treatment. Other trials test treatments for patients whose cancer has not gotten better. There are also clinical trials that test new ways to stop cancer from recurring (coming back) or reduce the side effects of cancer treatment. Clinical trials are taking place in many parts of the country. See the Treatment Options section that follows for links to current treatment clinical trials. These have been retrieved from NCI's listing of clinical trials.\n",
            "Generated Answer: Clinical trials are part of the cancer research process. Clinical trials are done to find out if new cancer treatments are safe and effective or better than the standard treatment. Many of today's standard treatments for cancer are based on earlier clinical trials. Patients who take part in a clinical trial may receive the standard treatment or be among the first to receive a new treatment. Patients who take part in clinical trials also help improve the way cancer will be treated in the future. Even when clinical\n",
            "True Answer: New types of treatment are being tested in clinical trials. Information about clinical trials is available from the NCI website. Patients may want to think about taking part in a clinical trial. For some patients, taking part in a clinical trial may be the best treatment choice. Clinical trials are part of the cancer research process. Clinical trials are done to find out if new cancer treatments are safe and effective or better than the standard treatment. Many of today's standard treatments for cancer are based on earlier clinical trials. Patients who take part in a clinical trial may receive the standard treatment or be among the first to receive a new treatment. Patients who take part in clinical trials also help improve the way cancer will be treated in the future. Even when clinical trials do not lead to effective new treatments, they often answer important questions and help move research forward. Patients can enter clinical trials before, during, or after starting their cancer treatment. Some clinical trials only include patients who have not yet received treatment. Other trials test treatments for patients whose cancer has not gotten better. There are also clinical trials that test new ways to stop cancer from recurring (coming back) or reduce the side effects of cancer treatment. Clinical trials are taking place in many parts of the country. See the Treatment Options section that follows for links to current treatment clinical trials. These have been retrieved from NCI's listing of clinical trials.\n",
            "==================================================\n",
            "Question: What are the stages of Chronic Myeloproliferative Neoplasms ?\n",
            "Context: Key Points - There is no standard staging system for chronic myeloproliferative neoplasms. There is no standard staging system for chronic myeloproliferative neoplasms. Staging is the process used to find out how far the cancer has spread. There is no standard staging system for chronic myeloproliferative neoplasms. Treatment is based on the type of myeloproliferative neoplasm the patient has. It is important to know the type in order to plan treatment.\n",
            "Generated Answer: There is no standard staging system for chronic myeloproliferative neoplasms. Treatment is based on the type of myeloproliferative neoplasm the patient has. It is important to know the type in order to plan treatment.\n",
            "True Answer: Key Points - There is no standard staging system for chronic myeloproliferative neoplasms. There is no standard staging system for chronic myeloproliferative neoplasms. Staging is the process used to find out how far the cancer has spread. There is no standard staging system for chronic myeloproliferative neoplasms. Treatment is based on the type of myeloproliferative neoplasm the patient has. It is important to know the type in order to plan treatment.\n",
            "==================================================\n"
          ]
        }
      ],
      "source": [
        "test_model(model, tokenizer, val_dataset, num_samples=5, max_length=100)\n"
      ]
    },
    {
      "cell_type": "markdown",
      "metadata": {
        "id": "yDzWP8Sg0UFZ"
      },
      "source": [
        "## 3. Evaluate Model Performance Quantitatively"
      ]
    },
    {
      "cell_type": "markdown",
      "metadata": {
        "id": "zgT2GpQETE6o"
      },
      "source": [
        "### **BLEU Score**"
      ]
    },
    {
      "cell_type": "code",
      "execution_count": null,
      "metadata": {
        "colab": {
          "base_uri": "https://localhost:8080/"
        },
        "id": "7FSc4vt7TKbe",
        "outputId": "f7b9ea7d-d935-4801-d2a9-4773645610b1"
      },
      "outputs": [
        {
          "output_type": "stream",
          "name": "stdout",
          "text": [
            "Average BLEU score: 0.008185154286891651\n"
          ]
        }
      ],
      "source": [
        "from nltk.translate.bleu_score import sentence_bleu, SmoothingFunction\n",
        "\n",
        "def calculate_bleu(model, tokenizer, dataset, num_samples=100):\n",
        "    bleu_scores = []\n",
        "    device = model.device  # Make sure the model and tokenizer are on the same device\n",
        "\n",
        "    for i in range(min(num_samples, len(dataset))):\n",
        "        sample = dataset[i]\n",
        "\n",
        "        # Input text consists only of the question in this case\n",
        "        input_text = sample['question']\n",
        "\n",
        "        # Tokenize and prepare input\n",
        "        inputs = tokenizer(input_text, return_tensors=\"pt\").to(device)\n",
        "        outputs = model.generate(inputs['input_ids'], max_length=100)\n",
        "\n",
        "        # Decode the generated output\n",
        "        generated_text = tokenizer.decode(outputs[0], skip_special_tokens=True)\n",
        "\n",
        "        # Reference answer for calculating BLEU score\n",
        "        reference_text = sample['answer']\n",
        "\n",
        "        # Calculate BLEU score with smoothing\n",
        "        score = sentence_bleu([reference_text.split()], generated_text.split(),\n",
        "                              smoothing_function=SmoothingFunction().method1)\n",
        "        bleu_scores.append(score)\n",
        "\n",
        "    # Calculate the average BLEU score across all samples\n",
        "    avg_bleu_score = sum(bleu_scores) / len(bleu_scores)\n",
        "    print(\"Average BLEU score:\", avg_bleu_score)\n",
        "    return avg_bleu_score\n",
        "\n",
        "# Now run the BLEU calculation on your model and dataset\n",
        "average_bleu = calculate_bleu(model, tokenizer, val_dataset, num_samples=100)\n"
      ]
    },
    {
      "cell_type": "markdown",
      "metadata": {
        "id": "z9zc4N_cWJOW"
      },
      "source": [
        "### **ROUGE (Recall-Oriented Understudy for Gisting Evaluation)**\n"
      ]
    },
    {
      "cell_type": "code",
      "execution_count": null,
      "metadata": {
        "colab": {
          "base_uri": "https://localhost:8080/"
        },
        "id": "OsqVv_z3XBm9",
        "outputId": "437c13e2-3e83-4d66-a7e6-169be1a41cda"
      },
      "outputs": [
        {
          "output_type": "stream",
          "name": "stdout",
          "text": [
            "Average ROUGE score: {'rouge1': 0.18099617450861827, 'rouge2': 0.039737180608210076, 'rougeL': 0.1378623999401774, 'rougeLsum': 0.1378623999401774}\n"
          ]
        }
      ],
      "source": [
        "import evaluate\n",
        "\n",
        "# Load ROUGE metric\n",
        "rouge = evaluate.load(\"rouge\")\n",
        "\n",
        "def calculate_rouge(model, tokenizer, dataset, num_samples=100):\n",
        "    rouge_scores = []\n",
        "    for i in range(num_samples):\n",
        "        sample = dataset[i]\n",
        "        input_text = sample['question']\n",
        "        reference = sample['answer']\n",
        "\n",
        "        # Generate the model's answer\n",
        "        inputs = tokenizer(input_text, return_tensors=\"pt\").to(model.device)\n",
        "        output_ids = model.generate(inputs[\"input_ids\"], max_length=100)\n",
        "        generated_answer = tokenizer.decode(output_ids[0], skip_special_tokens=True)\n",
        "\n",
        "        # Compute ROUGE score\n",
        "        rouge_score = rouge.compute(predictions=[generated_answer], references=[reference])\n",
        "        rouge_scores.append(rouge_score)\n",
        "\n",
        "    # Calculate average ROUGE scores\n",
        "    avg_rouge = {key: sum(score[key] for score in rouge_scores) / num_samples for key in rouge_scores[0]}\n",
        "    print(\"Average ROUGE score:\", avg_rouge)\n",
        "    return avg_rouge\n",
        "rouge = calculate_rouge(model, tokenizer, val_dataset, num_samples=100)"
      ]
    },
    {
      "cell_type": "markdown",
      "metadata": {
        "id": "sSB4OkzJY9vc"
      },
      "source": [
        "### **Perplexity**"
      ]
    },
    {
      "cell_type": "code",
      "execution_count": null,
      "metadata": {
        "colab": {
          "base_uri": "https://localhost:8080/"
        },
        "id": "78N4amioZA_f",
        "outputId": "a6090155-eb19-4579-9093-392277ffcf3c"
      },
      "outputs": [
        {
          "output_type": "stream",
          "name": "stderr",
          "text": [
            "Token indices sequence length is longer than the specified maximum sequence length for this model (1648 > 512). Running this sequence through the model will result in indexing errors\n"
          ]
        },
        {
          "output_type": "stream",
          "name": "stdout",
          "text": [
            "Average Perplexity: 6.247942788600922\n"
          ]
        }
      ],
      "source": [
        "import torch.nn.functional as F\n",
        "\n",
        "def calculate_perplexity(model, tokenizer, dataset, num_samples=100):\n",
        "    perplexities = []\n",
        "    for i in range(min(num_samples, len(dataset))):\n",
        "        sample = dataset[i]\n",
        "        input_text = sample['question']\n",
        "        reference_text = sample['answer']\n",
        "\n",
        "        inputs = tokenizer(input_text, return_tensors=\"pt\").to(model.device)\n",
        "        labels = tokenizer(reference_text, return_tensors=\"pt\").input_ids.to(model.device)\n",
        "\n",
        "        with torch.no_grad():\n",
        "            outputs = model(**inputs, labels=labels)\n",
        "            loss = outputs.loss\n",
        "            perplexity = torch.exp(loss).item()\n",
        "            perplexities.append(perplexity)\n",
        "\n",
        "    avg_perplexity = sum(perplexities) / len(perplexities)\n",
        "    print(\"Average Perplexity:\", avg_perplexity)\n",
        "    return avg_perplexity\n",
        "\n",
        "perplexity = calculate_perplexity(model, tokenizer, val_dataset, num_samples=100)"
      ]
    },
    {
      "cell_type": "markdown",
      "metadata": {
        "id": "fMj1xptBZYOj"
      },
      "source": [
        "# **Fine**-**tuning**"
      ]
    },
    {
      "cell_type": "markdown",
      "metadata": {
        "id": "nGBHP6tDdOpK"
      },
      "source": [
        "## **1. Applying PEFT with LoRA**"
      ]
    },
    {
      "cell_type": "markdown",
      "metadata": {
        "id": "M6r2mBh0MpoG"
      },
      "source": [
        "## Install Necessary Libraries"
      ]
    },
    {
      "cell_type": "code",
      "execution_count": null,
      "metadata": {
        "id": "nL7zKovfMwtN"
      },
      "outputs": [],
      "source": [
        "from transformers import T5Tokenizer, T5ForConditionalGeneration, Trainer, TrainingArguments\n",
        "from peft import LoraConfig, get_peft_model\n",
        "import torch"
      ]
    },
    {
      "cell_type": "markdown",
      "metadata": {
        "id": "ZxMk4yTCRh1n"
      },
      "source": [
        "## Load the Pretrained Model and Tokenizer"
      ]
    },
    {
      "cell_type": "code",
      "execution_count": null,
      "metadata": {
        "id": "jcGe1Vw_RmAI",
        "colab": {
          "base_uri": "https://localhost:8080/"
        },
        "outputId": "7b42092e-3d45-40a3-d507-57f8ad885d0b"
      },
      "outputs": [
        {
          "output_type": "stream",
          "name": "stderr",
          "text": [
            "/usr/local/lib/python3.10/dist-packages/huggingface_hub/file_download.py:1150: FutureWarning: `resume_download` is deprecated and will be removed in version 1.0.0. Downloads always resume when possible. If you want to force a new download, use `force_download=True`.\n",
            "  warnings.warn(\n"
          ]
        }
      ],
      "source": [
        "# Load model directly\n",
        "from transformers import AutoTokenizer, AutoModelForSeq2SeqLM\n",
        "\n",
        "tokenizer = AutoTokenizer.from_pretrained(\"google/flan-t5-large\")\n",
        "model_lora = AutoModelForSeq2SeqLM.from_pretrained(\"google/flan-t5-large\")\n"
      ]
    },
    {
      "cell_type": "markdown",
      "metadata": {
        "id": "jCPa7HI9Rq5N"
      },
      "source": [
        "## Configure LoRA\n"
      ]
    },
    {
      "cell_type": "code",
      "execution_count": null,
      "metadata": {
        "id": "co8HKkFJRshU"
      },
      "outputs": [],
      "source": [
        "from peft import TaskType\n",
        "\n",
        "lora_config = LoraConfig(\n",
        "    task_type=TaskType.SEQ_2_SEQ_LM,  # Since T5 is a sequence-to-sequence model\n",
        "    inference_mode=False,  # Set to False for training mode\n",
        "    r=8,  # Rank of the LoRA adaptation matrix; adjust as needed\n",
        "    lora_alpha=32,  # Scaling factor for LoRA\n",
        "    lora_dropout=0.1  # Dropout rate for LoRA layers\n",
        ")\n",
        "\n",
        "# Wrap the model with LoRA\n",
        "model = get_peft_model(model_lora, lora_config)\n"
      ]
    },
    {
      "cell_type": "markdown",
      "metadata": {
        "id": "koUYPSXohN5a"
      },
      "source": [
        "## Prepare The Dataset"
      ]
    },
    {
      "cell_type": "code",
      "execution_count": null,
      "metadata": {
        "id": "4ASpdjFFYIDl"
      },
      "outputs": [],
      "source": [
        "from datasets import Dataset\n",
        "# Convert DataFrames to Hugging Face Datasets\n",
        "train_data = Dataset.from_pandas(train_data)\n",
        "val_data = Dataset.from_pandas(val_data)"
      ]
    },
    {
      "cell_type": "code",
      "execution_count": null,
      "metadata": {
        "colab": {
          "base_uri": "https://localhost:8080/",
          "height": 81,
          "referenced_widgets": [
            "4761c83dfa8f4dbebfd0797f45530240",
            "62979ebb8e3e479595e2c3a685ced258",
            "13011e85ca224728ba1ffb5c4c84538c",
            "a430a9b799584b45993b0b4b6607e968",
            "daf5817a1955436c8bb50cc7665324ad",
            "39715dd69e514f3b833584825fc84e87",
            "10320feabc3d4b1c8de2b0012a529ce0",
            "786b73ff658a4505884fb0a52e78e3fd",
            "97af4ebf74d04345b065e269f78bff6f",
            "6b2c23c3ca93445ba762560dc4217564",
            "060d070913b2445eb5185dff61b130a6",
            "3b1e7421e32b4fd48e5ee8c88eff96e0",
            "5aa9270168eb4ec7ad6f3f5f6bf859d4",
            "ee4732cb0d0a46fbae72659d6836fe7b",
            "27bbc4ef8a9c4092a8e25e7b150cb08b",
            "354cad2a969c417e922d75686e72f601",
            "e5dfeca998ba4df798cf925b6078697f",
            "a34f8cc210a544a09056148c859fd401",
            "55253e6d9e764ae6be1a51de88d8b065",
            "1eedf14abbcd41c5865d465372a30894",
            "e2d276b87145419893b49c807065b5e6",
            "26932279bcb04a0490c331eb3b9dcf33"
          ]
        },
        "id": "PgvcZrE0kxi_",
        "outputId": "9963ed28-e12c-41ef-9b54-b40aab1dddfc"
      },
      "outputs": [
        {
          "output_type": "display_data",
          "data": {
            "text/plain": [
              "Map:   0%|          | 0/1600 [00:00<?, ? examples/s]"
            ],
            "application/vnd.jupyter.widget-view+json": {
              "version_major": 2,
              "version_minor": 0,
              "model_id": "4761c83dfa8f4dbebfd0797f45530240"
            }
          },
          "metadata": {}
        },
        {
          "output_type": "display_data",
          "data": {
            "text/plain": [
              "Map:   0%|          | 0/400 [00:00<?, ? examples/s]"
            ],
            "application/vnd.jupyter.widget-view+json": {
              "version_major": 2,
              "version_minor": 0,
              "model_id": "3b1e7421e32b4fd48e5ee8c88eff96e0"
            }
          },
          "metadata": {}
        }
      ],
      "source": [
        "def preprocess_function(examples):\n",
        "    inputs = [f\"Question: {q}\" for q in examples[\"question\"]]\n",
        "    targets = examples[\"answer\"]\n",
        "    model_inputs = tokenizer(inputs, max_length=128, padding=\"max_length\", truncation=True)\n",
        "    labels = tokenizer(targets, max_length=128, padding=\"max_length\", truncation=True).input_ids\n",
        "\n",
        "    model_inputs[\"labels\"] = labels\n",
        "    return model_inputs\n",
        "\n",
        "# Apply preprocessing on your dataset\n",
        "train_data = train_data.map(preprocess_function, batched=True)\n",
        "val_data = val_data.map(preprocess_function, batched=True)\n"
      ]
    },
    {
      "cell_type": "markdown",
      "metadata": {
        "id": "XtESEOmAUWIl"
      },
      "source": [
        "## Train the model"
      ]
    },
    {
      "cell_type": "code",
      "execution_count": null,
      "metadata": {
        "colab": {
          "base_uri": "https://localhost:8080/",
          "height": 363
        },
        "id": "2nUoU7jQplH5",
        "outputId": "5f53236a-b267-4b64-9fee-62aedbb81883"
      },
      "outputs": [
        {
          "output_type": "stream",
          "name": "stderr",
          "text": [
            "/usr/local/lib/python3.10/dist-packages/accelerate/accelerator.py:457: FutureWarning: Passing the following arguments to `Accelerator` is deprecated and will be removed in version 1.0 of Accelerate: dict_keys(['dispatch_batches']). Please pass an `accelerate.DataLoaderConfiguration` instead: \n",
            "dataloader_config = DataLoaderConfiguration(dispatch_batches=None)\n",
            "  warnings.warn(\n"
          ]
        },
        {
          "output_type": "display_data",
          "data": {
            "text/plain": [
              "<IPython.core.display.HTML object>"
            ],
            "text/html": [
              "\n",
              "    <div>\n",
              "      \n",
              "      <progress value='1200' max='1200' style='width:300px; height:20px; vertical-align: middle;'></progress>\n",
              "      [1200/1200 07:05, Epoch 3/3]\n",
              "    </div>\n",
              "    <table border=\"1\" class=\"dataframe\">\n",
              "  <thead>\n",
              " <tr style=\"text-align: left;\">\n",
              "      <th>Epoch</th>\n",
              "      <th>Training Loss</th>\n",
              "      <th>Validation Loss</th>\n",
              "    </tr>\n",
              "  </thead>\n",
              "  <tbody>\n",
              "    <tr>\n",
              "      <td>1</td>\n",
              "      <td>No log</td>\n",
              "      <td>1.682542</td>\n",
              "    </tr>\n",
              "    <tr>\n",
              "      <td>2</td>\n",
              "      <td>2.517800</td>\n",
              "      <td>1.573104</td>\n",
              "    </tr>\n",
              "    <tr>\n",
              "      <td>3</td>\n",
              "      <td>1.672400</td>\n",
              "      <td>1.550586</td>\n",
              "    </tr>\n",
              "  </tbody>\n",
              "</table><p>"
            ]
          },
          "metadata": {}
        },
        {
          "output_type": "stream",
          "name": "stderr",
          "text": [
            "/usr/local/lib/python3.10/dist-packages/huggingface_hub/file_download.py:1150: FutureWarning: `resume_download` is deprecated and will be removed in version 1.0.0. Downloads always resume when possible. If you want to force a new download, use `force_download=True`.\n",
            "  warnings.warn(\n"
          ]
        },
        {
          "output_type": "execute_result",
          "data": {
            "text/plain": [
              "('./lora_fine_tuned_model/tokenizer_config.json',\n",
              " './lora_fine_tuned_model/special_tokens_map.json',\n",
              " './lora_fine_tuned_model/spiece.model',\n",
              " './lora_fine_tuned_model/added_tokens.json',\n",
              " './lora_fine_tuned_model/tokenizer.json')"
            ]
          },
          "metadata": {},
          "execution_count": 59
        }
      ],
      "source": [
        "training_args = TrainingArguments(\n",
        "    output_dir=\"./lora_fine_tuned_model\",\n",
        "    evaluation_strategy=\"epoch\",\n",
        "    learning_rate=5e-4,  # LoRA often benefits from a higher learning rate\n",
        "    num_train_epochs=3,\n",
        "    per_device_train_batch_size=4,  # Adjust based on your hardware capacity\n",
        "    save_steps=10_000,\n",
        "    weight_decay=0.01,\n",
        "    logging_dir='./logs',\n",
        "    logging_steps=500,\n",
        ")\n",
        "trainer = Trainer(\n",
        "    model=model,\n",
        "    args=training_args,\n",
        "    train_dataset=train_data,\n",
        "    eval_dataset=val_data,\n",
        ")\n",
        "\n",
        "# Start training\n",
        "trainer.train()\n",
        "\n",
        "# Save the final model and tokenizer\n",
        "trainer.save_model(\"./lora_fine_tuned_model\")\n",
        "tokenizer.save_pretrained(\"./lora_fine_tuned_model\")\n"
      ]
    },
    {
      "cell_type": "markdown",
      "metadata": {
        "id": "HyABLavY36dZ"
      },
      "source": [
        "# **Evaluation after using LoRA**"
      ]
    },
    {
      "cell_type": "markdown",
      "metadata": {
        "id": "WGfFoqfT4KBM"
      },
      "source": [
        "## 1. Validation loss"
      ]
    },
    {
      "cell_type": "code",
      "execution_count": null,
      "metadata": {
        "colab": {
          "base_uri": "https://localhost:8080/",
          "height": 54
        },
        "id": "byMd6UeC4FdC",
        "outputId": "f31f97d3-1c98-4edb-a7ca-731fcdda0cd3"
      },
      "outputs": [
        {
          "output_type": "display_data",
          "data": {
            "text/plain": [
              "<IPython.core.display.HTML object>"
            ],
            "text/html": [
              "\n",
              "    <div>\n",
              "      \n",
              "      <progress value='50' max='50' style='width:300px; height:20px; vertical-align: middle;'></progress>\n",
              "      [50/50 00:12]\n",
              "    </div>\n",
              "    "
            ]
          },
          "metadata": {}
        },
        {
          "output_type": "stream",
          "name": "stdout",
          "text": [
            "Validation Loss: 1.5506\n"
          ]
        }
      ],
      "source": [
        "# Evaluate model performance on the validation set\n",
        "eval_results = trainer.evaluate()\n",
        "print(f\"Validation Loss: {eval_results['eval_loss']:.4f}\")"
      ]
    },
    {
      "cell_type": "markdown",
      "metadata": {
        "id": "-yxqA4YepF5_"
      },
      "source": [
        "## 2. Define the Test Function"
      ]
    },
    {
      "cell_type": "code",
      "execution_count": null,
      "metadata": {
        "colab": {
          "base_uri": "https://localhost:8080/"
        },
        "id": "Jci9cDb85wy9",
        "outputId": "b2b98957-42fe-47ac-8f05-6ec84df6343b"
      },
      "outputs": [
        {
          "output_type": "stream",
          "name": "stdout",
          "text": [
            "Input Question: What is (are) Thalassemia ?\n",
            "True Answer: Thalassemias are inherited blood disorders. If you have one, your body makes fewer healthy red blood cells and less hemoglobin. Hemoglobin is a protein that carries oxygen to the body. That leads to anemia. Thalassemias occur most often among people of Italian, Greek, Middle Eastern, Southern Asian, and African descent. Thalassemias can be mild or severe. Some people have no symptoms or mild anemia. The most common severe type in the United States is called Cooley's anemia. It usually appears during the first two years of life. People with it may have severe anemia, slowed growth and delayed puberty, and problems with the spleen, liver, heart, or bones. Doctors diagnose thalassemias using blood tests. Treatments include blood transfusions and treatment to remove excess iron from the body. If you have mild symptoms or no symptoms, you may not need treatment. In some severe cases, you may need a bone marrow transplant. NIH: National Heart, Lung, and Blood Institute\n",
            "Generated Answer: Thalassemia is a disease in which the blood is too thin. It is caused by a protein called thalassaemia. The protein is made by the body's own red blood cells. It is a protein that is found in red blood cells. It is a protein that is found in red blood cells. It is a protein that is found in red blood cells. It is a protein that is found in red blood cells. It is \n",
            "\n",
            "Input Question: what research (or clinical trials) is being done for Diabetic Retinopathy ?\n",
            "True Answer: The National Eye Institute, or NEI, is conducting and supporting research that seeks better ways to detect, treat, and prevent vision loss in people with diabetes. This research is conducted through studies in the laboratory and with patients. For example, researchers are studying drugs for the treatment of proliferative retinopathy that may reduce the need for laser surgery.\n",
            "Generated Answer: Research is being done to find out if new treatments can reduce the risk of diabetic retinopathy. The goal of the research is to find out if new treatments can reduce the risk of diabetic retinopathy. The research is being done in collaboration with researchers at the University of California, Berkeley, and the National Institutes of Health. The goal of the research is to find out if new treatments can reduce the risk of diabetic retinopathy. The\n",
            "\n",
            "Input Question: What is the outlook for Childhood Central Nervous System Germ Cell Tumors ?\n",
            "True Answer: Certain factors affect prognosis (chance of recovery). The prognosis (chance of recovery) depends on the following: - The type of germ cell tumor. - The type and level of any tumor markers. - Where the tumor is in the brain or in the spinal cord. - Whether the cancer has spread within the brain and spinal cord or to other parts of the body. - Whether the tumor is newly diagnosed or has recurred (come back) after treatment.\n",
            "Generated Answer: Key Points - There are no standard prognosis (chance of recovery) for childhood central nervous system germ cell tumors. - There are no standard prognosis (chance of recovery) for childhood central nervous system germ cell tumors. - Children with childhood central nervous system germ cell tumors may have a better prognosis after treatment. - The prognosis (chance of recovery) depends on the following: -\n",
            "\n",
            "Input Question: what research (or clinical trials) is being done for Renal Cell Cancer ?\n",
            "True Answer: New types of treatment are being tested in clinical trials. Information about clinical trials is available from the NCI website. Patients may want to think about taking part in a clinical trial. For some patients, taking part in a clinical trial may be the best treatment choice. Clinical trials are part of the cancer research process. Clinical trials are done to find out if new cancer treatments are safe and effective or better than the standard treatment. Many of today's standard treatments for cancer are based on earlier clinical trials. Patients who take part in a clinical trial may receive the standard treatment or be among the first to receive a new treatment. Patients who take part in clinical trials also help improve the way cancer will be treated in the future. Even when clinical trials do not lead to effective new treatments, they often answer important questions and help move research forward. Patients can enter clinical trials before, during, or after starting their cancer treatment. Some clinical trials only include patients who have not yet received treatment. Other trials test treatments for patients whose cancer has not gotten better. There are also clinical trials that test new ways to stop cancer from recurring (coming back) or reduce the side effects of cancer treatment. Clinical trials are taking place in many parts of the country. See the Treatment Options section that follows for links to current treatment clinical trials. These have been retrieved from NCI's listing of clinical trials.\n",
            "Generated Answer: New types of treatment are being tested in clinical trials. Information about clinical trials is available from the NCI website. Patients may want to think about taking part in a clinical trial. For some patients, taking part in a clinical trial may be the best treatment choice. Clinical trials are part of the cancer research process. Clinical trials are done to find out if new cancer treatments are safe and effective or better than the standard treatment. The standard treatment for cancer is to have the standard treatment\n",
            "\n",
            "Input Question: What are the stages of Chronic Myeloproliferative Neoplasms ?\n",
            "True Answer: Key Points - There is no standard staging system for chronic myeloproliferative neoplasms. There is no standard staging system for chronic myeloproliferative neoplasms. Staging is the process used to find out how far the cancer has spread. There is no standard staging system for chronic myeloproliferative neoplasms. Treatment is based on the type of myeloproliferative neoplasm the patient has. It is important to know the type in order to plan treatment.\n",
            "Generated Answer: Key Points - After chronic myeloproliferative neoplasms have been diagnosed, tests are done to find out if cancer cells have spread within the bone marrow or to other parts of the body. - There are three ways that cancer spreads in the body. - Cancer may spread from where it began to other parts of the body. - There are three ways that cancer spreads in the body. - Cancer may spread\n",
            "\n"
          ]
        }
      ],
      "source": [
        "def test_model(model, tokenizer, dataset, num_samples=5, max_length=100):\n",
        "    model.eval()  # Set model to evaluation mode\n",
        "    device = torch.device(\"cuda\" if torch.cuda.is_available() else \"cpu\")\n",
        "    model.to(device)\n",
        "\n",
        "    for i in range(num_samples):\n",
        "        sample = dataset[i]\n",
        "        input_text = sample['question']\n",
        "        true_answer = sample['answer']  # Assuming the true answer is under 'answer' in your dataset\n",
        "\n",
        "        # Tokenize input text and move to the correct device\n",
        "        inputs = tokenizer(input_text, return_tensors=\"pt\").to(device)\n",
        "\n",
        "        # Generate output\n",
        "        with torch.no_grad():\n",
        "            outputs = model.generate(input_ids=inputs['input_ids'], max_length=max_length)\n",
        "\n",
        "        # Decode generated and true answers\n",
        "        generated_answer = tokenizer.decode(outputs[0], skip_special_tokens=True)\n",
        "        print(f\"Input Question: {input_text}\")\n",
        "        print(f\"True Answer: {true_answer}\")\n",
        "        print(f\"Generated Answer: {generated_answer}\\n\")\n",
        "\n",
        "# Run the function\n",
        "test_model(model, tokenizer, val_data, num_samples=5, max_length=100)\n"
      ]
    },
    {
      "cell_type": "markdown",
      "metadata": {
        "id": "3UZOy1ge7JV9"
      },
      "source": [
        "## **BLEU** **Score**"
      ]
    },
    {
      "cell_type": "code",
      "execution_count": null,
      "metadata": {
        "colab": {
          "base_uri": "https://localhost:8080/"
        },
        "id": "f_ChAXxN7Qv1",
        "outputId": "f348be57-d248-414d-8325-c3359fef0c8e"
      },
      "outputs": [
        {
          "output_type": "stream",
          "name": "stdout",
          "text": [
            "Average BLEU score: 0.027946411910918324\n"
          ]
        }
      ],
      "source": [
        "from nltk.translate.bleu_score import sentence_bleu, SmoothingFunction\n",
        "\n",
        "def calculate_bleu(model, tokenizer, dataset, num_samples=100):\n",
        "    bleu_scores = []\n",
        "    device = model.device  # Ensure the model and tokenizer are on the same device\n",
        "\n",
        "    for i in range(min(num_samples, len(dataset))):\n",
        "        sample = dataset[i]\n",
        "\n",
        "        # Input text consists only of the question in this case\n",
        "        input_text = sample['question']\n",
        "\n",
        "        # Tokenize and prepare input\n",
        "        inputs = tokenizer(input_text, return_tensors=\"pt\").to(device)\n",
        "\n",
        "        # Access base model's generate method\n",
        "        outputs = model.base_model.generate(inputs['input_ids'], max_length=100)\n",
        "\n",
        "        # Decode the generated output\n",
        "        generated_text = tokenizer.decode(outputs[0], skip_special_tokens=True)\n",
        "\n",
        "        # Reference answer for calculating BLEU score\n",
        "        reference_text = sample['answer']\n",
        "\n",
        "        # Calculate BLEU score with smoothing\n",
        "        score = sentence_bleu([reference_text.split()], generated_text.split(),\n",
        "                              smoothing_function=SmoothingFunction().method1)\n",
        "        bleu_scores.append(score)\n",
        "\n",
        "    # Calculate the average BLEU score across all samples\n",
        "    avg_bleu_score = sum(bleu_scores) / len(bleu_scores)\n",
        "    print(\"Average BLEU score:\", avg_bleu_score)\n",
        "    return avg_bleu_score\n",
        "\n",
        "# Run the BLEU calculation\n",
        "average_bleu = calculate_bleu(model, tokenizer, val_data, num_samples=100)\n"
      ]
    },
    {
      "cell_type": "markdown",
      "metadata": {
        "id": "3jRtVYAwf5bP"
      },
      "source": [
        "## **Perplexity**"
      ]
    },
    {
      "cell_type": "code",
      "execution_count": null,
      "metadata": {
        "colab": {
          "base_uri": "https://localhost:8080/"
        },
        "id": "IfIBcDATgAzF",
        "outputId": "f0cf9a2e-1c33-4dc5-fa4f-300b3f293689"
      },
      "outputs": [
        {
          "output_type": "stream",
          "name": "stderr",
          "text": [
            "Token indices sequence length is longer than the specified maximum sequence length for this model (1648 > 512). Running this sequence through the model will result in indexing errors\n"
          ]
        },
        {
          "output_type": "stream",
          "name": "stdout",
          "text": [
            "Average Perplexity: 7.777258045673371\n"
          ]
        }
      ],
      "source": [
        "import torch.nn.functional as F\n",
        "\n",
        "def calculate_perplexity(model, tokenizer, dataset, num_samples=100):\n",
        "    perplexities = []\n",
        "    for i in range(min(num_samples, len(dataset))):\n",
        "        sample = dataset[i]\n",
        "        input_text = sample['question']\n",
        "        reference_text = sample['answer']\n",
        "\n",
        "        inputs = tokenizer(input_text, return_tensors=\"pt\").to(model.device)\n",
        "        labels = tokenizer(reference_text, return_tensors=\"pt\").input_ids.to(model.device)\n",
        "\n",
        "        with torch.no_grad():\n",
        "            outputs = model(**inputs, labels=labels)\n",
        "            loss = outputs.loss\n",
        "            perplexity = torch.exp(loss).item()\n",
        "            perplexities.append(perplexity)\n",
        "\n",
        "    avg_perplexity = sum(perplexities) / len(perplexities)\n",
        "    print(\"Average Perplexity:\", avg_perplexity)\n",
        "    return avg_perplexity\n",
        "\n",
        "perplexity = calculate_perplexity(model, tokenizer, val_data, num_samples=100)"
      ]
    },
    {
      "cell_type": "markdown",
      "metadata": {
        "id": "eULO10S_hOx1"
      },
      "source": [
        "# **2.** **Applying Prompt Tuning**"
      ]
    },
    {
      "cell_type": "markdown",
      "source": [
        "## Import Libraries"
      ],
      "metadata": {
        "id": "f9esEzfjuC1G"
      }
    },
    {
      "cell_type": "code",
      "source": [
        "!pip install datasets"
      ],
      "metadata": {
        "colab": {
          "base_uri": "https://localhost:8080/"
        },
        "id": "zevSyesbZ5_3",
        "outputId": "8cf53ae9-25b0-42ab-b991-6ac47bc4666c"
      },
      "execution_count": null,
      "outputs": [
        {
          "output_type": "stream",
          "name": "stdout",
          "text": [
            "Collecting datasets\n",
            "  Downloading datasets-3.1.0-py3-none-any.whl.metadata (20 kB)\n",
            "Requirement already satisfied: filelock in /usr/local/lib/python3.10/dist-packages (from datasets) (3.16.1)\n",
            "Requirement already satisfied: numpy>=1.17 in /usr/local/lib/python3.10/dist-packages (from datasets) (1.26.4)\n",
            "Requirement already satisfied: pyarrow>=15.0.0 in /usr/local/lib/python3.10/dist-packages (from datasets) (17.0.0)\n",
            "Collecting dill<0.3.9,>=0.3.0 (from datasets)\n",
            "  Downloading dill-0.3.8-py3-none-any.whl.metadata (10 kB)\n",
            "Requirement already satisfied: pandas in /usr/local/lib/python3.10/dist-packages (from datasets) (2.2.2)\n",
            "Requirement already satisfied: requests>=2.32.2 in /usr/local/lib/python3.10/dist-packages (from datasets) (2.32.3)\n",
            "Requirement already satisfied: tqdm>=4.66.3 in /usr/local/lib/python3.10/dist-packages (from datasets) (4.66.6)\n",
            "Collecting xxhash (from datasets)\n",
            "  Downloading xxhash-3.5.0-cp310-cp310-manylinux_2_17_x86_64.manylinux2014_x86_64.whl.metadata (12 kB)\n",
            "Collecting multiprocess<0.70.17 (from datasets)\n",
            "  Downloading multiprocess-0.70.16-py310-none-any.whl.metadata (7.2 kB)\n",
            "Collecting fsspec<=2024.9.0,>=2023.1.0 (from fsspec[http]<=2024.9.0,>=2023.1.0->datasets)\n",
            "  Downloading fsspec-2024.9.0-py3-none-any.whl.metadata (11 kB)\n",
            "Requirement already satisfied: aiohttp in /usr/local/lib/python3.10/dist-packages (from datasets) (3.10.10)\n",
            "Requirement already satisfied: huggingface-hub>=0.23.0 in /usr/local/lib/python3.10/dist-packages (from datasets) (0.26.2)\n",
            "Requirement already satisfied: packaging in /usr/local/lib/python3.10/dist-packages (from datasets) (24.2)\n",
            "Requirement already satisfied: pyyaml>=5.1 in /usr/local/lib/python3.10/dist-packages (from datasets) (6.0.2)\n",
            "Requirement already satisfied: aiohappyeyeballs>=2.3.0 in /usr/local/lib/python3.10/dist-packages (from aiohttp->datasets) (2.4.3)\n",
            "Requirement already satisfied: aiosignal>=1.1.2 in /usr/local/lib/python3.10/dist-packages (from aiohttp->datasets) (1.3.1)\n",
            "Requirement already satisfied: attrs>=17.3.0 in /usr/local/lib/python3.10/dist-packages (from aiohttp->datasets) (24.2.0)\n",
            "Requirement already satisfied: frozenlist>=1.1.1 in /usr/local/lib/python3.10/dist-packages (from aiohttp->datasets) (1.5.0)\n",
            "Requirement already satisfied: multidict<7.0,>=4.5 in /usr/local/lib/python3.10/dist-packages (from aiohttp->datasets) (6.1.0)\n",
            "Requirement already satisfied: yarl<2.0,>=1.12.0 in /usr/local/lib/python3.10/dist-packages (from aiohttp->datasets) (1.17.1)\n",
            "Requirement already satisfied: async-timeout<5.0,>=4.0 in /usr/local/lib/python3.10/dist-packages (from aiohttp->datasets) (4.0.3)\n",
            "Requirement already satisfied: typing-extensions>=3.7.4.3 in /usr/local/lib/python3.10/dist-packages (from huggingface-hub>=0.23.0->datasets) (4.12.2)\n",
            "Requirement already satisfied: charset-normalizer<4,>=2 in /usr/local/lib/python3.10/dist-packages (from requests>=2.32.2->datasets) (3.4.0)\n",
            "Requirement already satisfied: idna<4,>=2.5 in /usr/local/lib/python3.10/dist-packages (from requests>=2.32.2->datasets) (3.10)\n",
            "Requirement already satisfied: urllib3<3,>=1.21.1 in /usr/local/lib/python3.10/dist-packages (from requests>=2.32.2->datasets) (2.2.3)\n",
            "Requirement already satisfied: certifi>=2017.4.17 in /usr/local/lib/python3.10/dist-packages (from requests>=2.32.2->datasets) (2024.8.30)\n",
            "Requirement already satisfied: python-dateutil>=2.8.2 in /usr/local/lib/python3.10/dist-packages (from pandas->datasets) (2.8.2)\n",
            "Requirement already satisfied: pytz>=2020.1 in /usr/local/lib/python3.10/dist-packages (from pandas->datasets) (2024.2)\n",
            "Requirement already satisfied: tzdata>=2022.7 in /usr/local/lib/python3.10/dist-packages (from pandas->datasets) (2024.2)\n",
            "Requirement already satisfied: six>=1.5 in /usr/local/lib/python3.10/dist-packages (from python-dateutil>=2.8.2->pandas->datasets) (1.16.0)\n",
            "Requirement already satisfied: propcache>=0.2.0 in /usr/local/lib/python3.10/dist-packages (from yarl<2.0,>=1.12.0->aiohttp->datasets) (0.2.0)\n",
            "Downloading datasets-3.1.0-py3-none-any.whl (480 kB)\n",
            "\u001b[2K   \u001b[90m━━━━━━━━━━━━━━━━━━━━━━━━━━━━━━━━━━━━━━━━\u001b[0m \u001b[32m480.6/480.6 kB\u001b[0m \u001b[31m13.1 MB/s\u001b[0m eta \u001b[36m0:00:00\u001b[0m\n",
            "\u001b[?25hDownloading dill-0.3.8-py3-none-any.whl (116 kB)\n",
            "\u001b[2K   \u001b[90m━━━━━━━━━━━━━━━━━━━━━━━━━━━━━━━━━━━━━━━━\u001b[0m \u001b[32m116.3/116.3 kB\u001b[0m \u001b[31m11.0 MB/s\u001b[0m eta \u001b[36m0:00:00\u001b[0m\n",
            "\u001b[?25hDownloading fsspec-2024.9.0-py3-none-any.whl (179 kB)\n",
            "\u001b[2K   \u001b[90m━━━━━━━━━━━━━━━━━━━━━━━━━━━━━━━━━━━━━━━━\u001b[0m \u001b[32m179.3/179.3 kB\u001b[0m \u001b[31m16.2 MB/s\u001b[0m eta \u001b[36m0:00:00\u001b[0m\n",
            "\u001b[?25hDownloading multiprocess-0.70.16-py310-none-any.whl (134 kB)\n",
            "\u001b[2K   \u001b[90m━━━━━━━━━━━━━━━━━━━━━━━━━━━━━━━━━━━━━━━━\u001b[0m \u001b[32m134.8/134.8 kB\u001b[0m \u001b[31m12.3 MB/s\u001b[0m eta \u001b[36m0:00:00\u001b[0m\n",
            "\u001b[?25hDownloading xxhash-3.5.0-cp310-cp310-manylinux_2_17_x86_64.manylinux2014_x86_64.whl (194 kB)\n",
            "\u001b[2K   \u001b[90m━━━━━━━━━━━━━━━━━━━━━━━━━━━━━━━━━━━━━━━━\u001b[0m \u001b[32m194.1/194.1 kB\u001b[0m \u001b[31m17.4 MB/s\u001b[0m eta \u001b[36m0:00:00\u001b[0m\n",
            "\u001b[?25hInstalling collected packages: xxhash, fsspec, dill, multiprocess, datasets\n",
            "  Attempting uninstall: fsspec\n",
            "    Found existing installation: fsspec 2024.10.0\n",
            "    Uninstalling fsspec-2024.10.0:\n",
            "      Successfully uninstalled fsspec-2024.10.0\n",
            "\u001b[31mERROR: pip's dependency resolver does not currently take into account all the packages that are installed. This behaviour is the source of the following dependency conflicts.\n",
            "gcsfs 2024.10.0 requires fsspec==2024.10.0, but you have fsspec 2024.9.0 which is incompatible.\u001b[0m\u001b[31m\n",
            "\u001b[0mSuccessfully installed datasets-3.1.0 dill-0.3.8 fsspec-2024.9.0 multiprocess-0.70.16 xxhash-3.5.0\n"
          ]
        }
      ]
    },
    {
      "cell_type": "code",
      "source": [
        "from transformers import AutoTokenizer, AutoModelForSeq2SeqLM, Seq2SeqTrainer, Seq2SeqTrainingArguments\n",
        "from datasets import Dataset\n",
        "import torch\n"
      ],
      "metadata": {
        "id": "OfI5sgxtuCDn"
      },
      "execution_count": null,
      "outputs": []
    },
    {
      "cell_type": "markdown",
      "source": [
        "## Define Soft Prompt Tuning Layer"
      ],
      "metadata": {
        "id": "jAmep40iuL0-"
      }
    },
    {
      "cell_type": "code",
      "source": [
        "class SoftPromptTuning(torch.nn.Module):\n",
        "    def __init__(self, model, prompt_length=10, hidden_size=768):\n",
        "        super(SoftPromptTuning, self).__init__()\n",
        "        self.prompt_embeddings = torch.nn.Parameter(torch.randn(prompt_length, hidden_size) * 0.01)  # Smaller values\n",
        "        self.model = model\n",
        "        self.prompt_length = prompt_length\n",
        "\n",
        "    def forward(self, input_ids, attention_mask, labels=None):\n",
        "        # Get the input embeddings\n",
        "        inputs_embeds = self.model.get_input_embeddings()(input_ids)\n",
        "\n",
        "        # Add the soft prompt to the beginning of the input embeddings\n",
        "        prompt_embeds = self.prompt_embeddings.unsqueeze(0).expand(inputs_embeds.size(0), -1, -1)\n",
        "        inputs_embeds = torch.cat([prompt_embeds, inputs_embeds], dim=1)\n",
        "\n",
        "        # Adjust the attention mask for the prompt tokens\n",
        "        prompt_mask = torch.ones((attention_mask.size(0), self.prompt_length), device=attention_mask.device)\n",
        "        attention_mask = torch.cat([prompt_mask, attention_mask], dim=1)\n",
        "\n",
        "        # Pass through the model with modified inputs\n",
        "        outputs = self.model(inputs_embeds=inputs_embeds, attention_mask=attention_mask, labels=labels)\n",
        "        return outputs\n"
      ],
      "metadata": {
        "id": "H-k5tr4guNJj"
      },
      "execution_count": null,
      "outputs": []
    },
    {
      "cell_type": "markdown",
      "source": [
        "## Load Model and Wrap It with Soft Prompt Tuning"
      ],
      "metadata": {
        "id": "mntC6FFrf8m6"
      }
    },
    {
      "cell_type": "code",
      "source": [
        "# Load base model and tokenizer\n",
        "model_name = \"google/flan-t5-large\"\n",
        "tokenizer = AutoTokenizer.from_pretrained(model_name)\n",
        "base_model = AutoModelForSeq2SeqLM.from_pretrained(model_name)\n",
        "\n",
        "# Define soft prompt tuning with model wrapper\n",
        "soft_prompt_model = SoftPromptTuning(base_model, prompt_length=10, hidden_size=base_model.config.d_model)\n"
      ],
      "metadata": {
        "colab": {
          "base_uri": "https://localhost:8080/",
          "height": 365,
          "referenced_widgets": [
            "03b28532322648c482e9616c1a4ac81f",
            "e586bff9d16648e284e62d3faf3551f6",
            "c7d1f6f101644ea9881fa0f25bfabda6",
            "3833c5edac1643d39fed38e70b5b010c",
            "dda733f6964644829f4259d31e4f7871",
            "9d0febec5d454ec68f80275fb8b04c9f",
            "d0e0ca975d0f4428911fa703ff154907",
            "f8a3f7e521124263b4f776980eb4e45b",
            "38e508a67ad44373982dcd3b4d87ec38",
            "8a41e3e8bedb4077a91f1594764126bc",
            "c4729e3725424deaaa61a2991f7b2ae7",
            "5c9ebd884c29423bb6619d948c78d716",
            "50d89ab7f7ca41139258ebaf9fc16d37",
            "14180a13bb484c90bc92e7593df4177f",
            "136b1ca6424a44c2bb4d54b40fb5401a",
            "1772efe6fbbc42419368cc63fc9950f0",
            "c360de6d6b2e4cd58cfe36102dc4c28b",
            "80797fa4ebc246948fa33ad6c7ee45b5",
            "6072fd9e341b47a38bdbeb07261857fe",
            "f65040e7d3494421b03eadc5357c691f",
            "d1c68001835c451fbd29404d436e1891",
            "c84934ca40e243518afc5d21cea6f088",
            "393da5b8d3604b97847c9c4421272407",
            "f4ddcc7a0a7b49979aa4a7cb00f48909",
            "b1b7c5895ca6457bbea2932c59afd916",
            "fc5f7abe17654c77bfe3bbb867354f05",
            "98779592b447468b8930b1bdb4cd1bbf",
            "1ea0f3037e3e43a691e894fae4cb2a8e",
            "3f4147ed8cad4035aac44c146faba16e",
            "cd5df01e7ae14866b52650df3a0797a6",
            "77ca88a7152445b8bf38999dd9d3d4af",
            "2d1fd7c5f54b4e2f83a542ad8b2e7ffc",
            "f48369ce087e411b9d9ab0b0c74b7f8f",
            "caa96e4f5f804bfdb5adc5826de792cf",
            "ce381cc6edee4dfaadfe49589bd22d80",
            "94359891e6c14b079250e9788a73a447",
            "32544f8dce28460d99b8cd889505b4b0",
            "d12d04ec527549bd921f6c16d4da701e",
            "67fdb8b0fd554c588516aa301569acee",
            "7f61c88d87d141af9576224c838607fe",
            "b9ebeea2ad8c408cb09092d2a115c8a5",
            "30f0fa4e4dc945a89a32ef1d2074074c",
            "3ca90cebc54f41f7adff8ed4ed958318",
            "eb302679068f43008211b0ed3a37492b",
            "ee454c26768b44b2a8dc61d640f8d19d",
            "98ba8111ccee409b92555786e64cb991",
            "dbf857b080624a529a57c22526cf403a",
            "baa1bdac9e76417789b1e5877f561f8b",
            "f0d53164ebbd40aea60973dccb04e138",
            "d6ddc52d226443bfb4218f8cc133f84b",
            "3ff09522bca84bb090368f9fe4543c57",
            "0a979d7961e0438ebc98f10eab68c9fe",
            "1bc39661b84a4b5b950177543c1decec",
            "b68fe811bc6249259b5ba99e955b46b4",
            "dd3308cfa9124770a7b7bdbf21ef9471",
            "e75bef15f8f34800aa6e3a86be9b0469",
            "148b2e55aff8433aa717b4232e170072",
            "c910c7a4a5914222920a74e663fe7b87",
            "0a15a277645d4e8bb5f378bcefc06c03",
            "f90349af7a08461f95154f94c26cf1a9",
            "fa30d96c5fe1401e9a4124d8b3eb60b1",
            "3ed659f73ef94acf91215662ffa50a73",
            "ce92c0ddad8746338fed914137c61114",
            "3f1e1fa037104096837ac55b6fcdc321",
            "9534be3a86ef4b4e82d5b346050fbcb9",
            "95d2540a007f460cafbae9e16cc49598",
            "ac7206434c5d42248e86e4c479981bc5",
            "fcb17987099d48fb85348d66bfa11e05",
            "66c03ac9cdc042ffb4efe30ab95f12f9",
            "32a061b9417248d2b7f6fe177781395b",
            "0f6a800fb34445aea806efb2b9909a69",
            "f18fc70ff14e406888055379eeb23754",
            "498ef36842c44a4b8c1aa9def8d02f3e",
            "bc71c1126d40402b8c5dc305fbfc4e99",
            "279953116e784f8a9e971f3725111148",
            "7630eb831d954288b9616ee94ca62706",
            "2e9ef978a2a9498aa6a2975b2fb1407e"
          ]
        },
        "id": "Vep_mgndf8Cm",
        "outputId": "6ee478ab-434d-4464-9753-c56b74ab11b0"
      },
      "execution_count": null,
      "outputs": [
        {
          "output_type": "stream",
          "name": "stderr",
          "text": [
            "/usr/local/lib/python3.10/dist-packages/huggingface_hub/utils/_auth.py:94: UserWarning: \n",
            "The secret `HF_TOKEN` does not exist in your Colab secrets.\n",
            "To authenticate with the Hugging Face Hub, create a token in your settings tab (https://huggingface.co/settings/tokens), set it as secret in your Google Colab and restart your session.\n",
            "You will be able to reuse this secret in all of your notebooks.\n",
            "Please note that authentication is recommended but still optional to access public models or datasets.\n",
            "  warnings.warn(\n"
          ]
        },
        {
          "output_type": "display_data",
          "data": {
            "text/plain": [
              "tokenizer_config.json:   0%|          | 0.00/2.54k [00:00<?, ?B/s]"
            ],
            "application/vnd.jupyter.widget-view+json": {
              "version_major": 2,
              "version_minor": 0,
              "model_id": "03b28532322648c482e9616c1a4ac81f"
            }
          },
          "metadata": {}
        },
        {
          "output_type": "display_data",
          "data": {
            "text/plain": [
              "spiece.model:   0%|          | 0.00/792k [00:00<?, ?B/s]"
            ],
            "application/vnd.jupyter.widget-view+json": {
              "version_major": 2,
              "version_minor": 0,
              "model_id": "5c9ebd884c29423bb6619d948c78d716"
            }
          },
          "metadata": {}
        },
        {
          "output_type": "display_data",
          "data": {
            "text/plain": [
              "tokenizer.json:   0%|          | 0.00/2.42M [00:00<?, ?B/s]"
            ],
            "application/vnd.jupyter.widget-view+json": {
              "version_major": 2,
              "version_minor": 0,
              "model_id": "393da5b8d3604b97847c9c4421272407"
            }
          },
          "metadata": {}
        },
        {
          "output_type": "display_data",
          "data": {
            "text/plain": [
              "special_tokens_map.json:   0%|          | 0.00/2.20k [00:00<?, ?B/s]"
            ],
            "application/vnd.jupyter.widget-view+json": {
              "version_major": 2,
              "version_minor": 0,
              "model_id": "caa96e4f5f804bfdb5adc5826de792cf"
            }
          },
          "metadata": {}
        },
        {
          "output_type": "display_data",
          "data": {
            "text/plain": [
              "config.json:   0%|          | 0.00/662 [00:00<?, ?B/s]"
            ],
            "application/vnd.jupyter.widget-view+json": {
              "version_major": 2,
              "version_minor": 0,
              "model_id": "ee454c26768b44b2a8dc61d640f8d19d"
            }
          },
          "metadata": {}
        },
        {
          "output_type": "display_data",
          "data": {
            "text/plain": [
              "model.safetensors:   0%|          | 0.00/3.13G [00:00<?, ?B/s]"
            ],
            "application/vnd.jupyter.widget-view+json": {
              "version_major": 2,
              "version_minor": 0,
              "model_id": "e75bef15f8f34800aa6e3a86be9b0469"
            }
          },
          "metadata": {}
        },
        {
          "output_type": "display_data",
          "data": {
            "text/plain": [
              "generation_config.json:   0%|          | 0.00/147 [00:00<?, ?B/s]"
            ],
            "application/vnd.jupyter.widget-view+json": {
              "version_major": 2,
              "version_minor": 0,
              "model_id": "ac7206434c5d42248e86e4c479981bc5"
            }
          },
          "metadata": {}
        }
      ]
    },
    {
      "cell_type": "markdown",
      "source": [
        "## Prepare the Dataset\n"
      ],
      "metadata": {
        "id": "GJ-lTdlvjUub"
      }
    },
    {
      "cell_type": "code",
      "source": [
        "from datasets import Dataset\n",
        "# Convert DataFrames to Hugging Face Datasets\n",
        "train_data_prompt = Dataset.from_pandas(train_data)\n",
        "val_data_prompt = Dataset.from_pandas(val_data)"
      ],
      "metadata": {
        "id": "tc63wNJUgOor"
      },
      "execution_count": null,
      "outputs": []
    },
    {
      "cell_type": "markdown",
      "source": [
        "## Define the Prompt and Data Preprocessing"
      ],
      "metadata": {
        "id": "DlT466tRjX1F"
      }
    },
    {
      "cell_type": "code",
      "source": [
        "def preprocess_function(examples):\n",
        "    # Add prompts to questions\n",
        "    inputs = [\"Answer the following medical question: \" + question for question in examples[\"question\"]]\n",
        "    targets = examples[\"answer\"]\n",
        "    model_inputs = tokenizer(inputs, max_length=512, truncation=True, padding=\"max_length\")\n",
        "    labels = tokenizer(targets, max_length=128, truncation=True, padding=\"max_length\").input_ids\n",
        "    model_inputs[\"labels\"] = labels\n",
        "    return model_inputs\n",
        "\n",
        "# Tokenize data\n",
        "train_data_tokenized = train_data_prompt.map(preprocess_function, batched=True)\n",
        "val_data_tokenized = val_data_prompt.map(preprocess_function, batched=True)"
      ],
      "metadata": {
        "colab": {
          "base_uri": "https://localhost:8080/",
          "height": 81,
          "referenced_widgets": [
            "8562af65d71f474da0c2ff32550f3220",
            "14214d8935e04513850da91f9f5e16fb",
            "a5a73a8369b4400baec672778be9a9d9",
            "7fb92ad054e24a9fa81b058d84413f1b",
            "1bb61e0115714043a229c721f679cea3",
            "4c2151b5986341b7ba434225206fe32f",
            "4781cdefb6e547b2b0b5a429bd91f41f",
            "f3830c1545ca4fc6adb50a3d4b2f26a0",
            "a96ca108a1b94cfc976aeaed9b5d2c60",
            "038042b291024f84b06a194bb44245d3",
            "4d5f3810d2f9405da1a83540480d4c35",
            "cbf7d93ff09e48369f308855eceeec9e",
            "21ae4c0ff7c8421991bd0ce670bef01f",
            "232f9ac8d7e84200b48bcf8c30520c2e",
            "f3bb360e1e3c45be85d1a5e1e201b4c2",
            "e7839c749fc14d50bc23a62ffd0d202d",
            "c7badaba443844f0aa96d1267061f7fe",
            "cffeb13ae8914c5498679ad35f7738a3",
            "e20963a5d70f4e3a932371abb6006d59",
            "becc2a321b9f449bafafa81d9b41f257",
            "60ed96b59503470395e71e6ca5b6f95b",
            "670ce69ce01f4517a7acd94f4fa73f9f"
          ]
        },
        "id": "ANc4JHQ8jlVM",
        "outputId": "a89637ea-41c0-4917-ad16-ecd843108a3f"
      },
      "execution_count": null,
      "outputs": [
        {
          "output_type": "display_data",
          "data": {
            "text/plain": [
              "Map:   0%|          | 0/1600 [00:00<?, ? examples/s]"
            ],
            "application/vnd.jupyter.widget-view+json": {
              "version_major": 2,
              "version_minor": 0,
              "model_id": "8562af65d71f474da0c2ff32550f3220"
            }
          },
          "metadata": {}
        },
        {
          "output_type": "display_data",
          "data": {
            "text/plain": [
              "Map:   0%|          | 0/400 [00:00<?, ? examples/s]"
            ],
            "application/vnd.jupyter.widget-view+json": {
              "version_major": 2,
              "version_minor": 0,
              "model_id": "cbf7d93ff09e48369f308855eceeec9e"
            }
          },
          "metadata": {}
        }
      ]
    },
    {
      "cell_type": "markdown",
      "source": [
        "## Initialize the Trainer with Prompt Tuning Parameters"
      ],
      "metadata": {
        "id": "8HQoNBb4j1jr"
      }
    },
    {
      "cell_type": "code",
      "source": [
        "import torch\n",
        "from transformers import Seq2SeqTrainer, Seq2SeqTrainingArguments, Trainer\n",
        "\n",
        "# Reduce batch size and add gradient accumulation\n",
        "training_args = Seq2SeqTrainingArguments(\n",
        "    output_dir=\"./soft_prompt_tuning\",\n",
        "    evaluation_strategy=\"epoch\",  # Use \"no\" if you want to skip validation during training\n",
        "    learning_rate=5e-6,\n",
        "    per_device_train_batch_size=1,  # Lower batch size\n",
        "    per_device_eval_batch_size=1,\n",
        "    num_train_epochs=5,\n",
        "    weight_decay=0.01,\n",
        "    predict_with_generate=True,\n",
        "    max_grad_norm=1.0,\n",
        "    gradient_accumulation_steps=4,  # Use accumulation for larger effective batch size\n",
        "    fp16=False,\n",
        "    save_safetensors=False,\n",
        "    save_steps=0,\n",
        ")\n",
        "\n",
        "# Enable gradient checkpointing\n",
        "base_model.gradient_checkpointing_enable()\n",
        "\n",
        "for param in soft_prompt_model.model.parameters():\n",
        "    param.requires_grad = False\n",
        "# Clear any cached memory\n",
        "torch.cuda.empty_cache()\n",
        "\n",
        "# Initialize the trainer\n",
        "trainer = Trainer(\n",
        "\n",
        "    model=soft_prompt_model,\n",
        "    args=training_args,\n",
        "    train_dataset=train_data_tokenized,\n",
        "    eval_dataset=val_data_tokenized,\n",
        "    tokenizer=tokenizer,\n",
        ")\n",
        "\n",
        "# Train the model\n",
        "trainer.train()\n"
      ],
      "metadata": {
        "colab": {
          "base_uri": "https://localhost:8080/",
          "height": 356
        },
        "id": "7BLDpVKczTWk",
        "outputId": "0712aa26-83c8-4fba-a237-308d58510fc7"
      },
      "execution_count": null,
      "outputs": [
        {
          "output_type": "stream",
          "name": "stderr",
          "text": [
            "/usr/local/lib/python3.10/dist-packages/transformers/training_args.py:1568: FutureWarning: `evaluation_strategy` is deprecated and will be removed in version 4.46 of 🤗 Transformers. Use `eval_strategy` instead\n",
            "  warnings.warn(\n",
            "<ipython-input-27-ac89f9f3a660>:30: FutureWarning: `tokenizer` is deprecated and will be removed in version 5.0.0 for `Trainer.__init__`. Use `processing_class` instead.\n",
            "  trainer = Trainer(\n"
          ]
        },
        {
          "output_type": "display_data",
          "data": {
            "text/plain": [
              "<IPython.core.display.HTML object>"
            ],
            "text/html": [
              "\n",
              "    <div>\n",
              "      \n",
              "      <progress value='2000' max='2000' style='width:300px; height:20px; vertical-align: middle;'></progress>\n",
              "      [2000/2000 49:50, Epoch 5/5]\n",
              "    </div>\n",
              "    <table border=\"1\" class=\"dataframe\">\n",
              "  <thead>\n",
              " <tr style=\"text-align: left;\">\n",
              "      <th>Epoch</th>\n",
              "      <th>Training Loss</th>\n",
              "      <th>Validation Loss</th>\n",
              "    </tr>\n",
              "  </thead>\n",
              "  <tbody>\n",
              "    <tr>\n",
              "      <td>1</td>\n",
              "      <td>No log</td>\n",
              "      <td>4.614409</td>\n",
              "    </tr>\n",
              "    <tr>\n",
              "      <td>2</td>\n",
              "      <td>5.075200</td>\n",
              "      <td>4.623473</td>\n",
              "    </tr>\n",
              "    <tr>\n",
              "      <td>3</td>\n",
              "      <td>5.114200</td>\n",
              "      <td>4.613799</td>\n",
              "    </tr>\n",
              "    <tr>\n",
              "      <td>4</td>\n",
              "      <td>4.950800</td>\n",
              "      <td>4.617537</td>\n",
              "    </tr>\n",
              "    <tr>\n",
              "      <td>5</td>\n",
              "      <td>5.112500</td>\n",
              "      <td>4.621651</td>\n",
              "    </tr>\n",
              "  </tbody>\n",
              "</table><p>"
            ]
          },
          "metadata": {}
        },
        {
          "output_type": "execute_result",
          "data": {
            "text/plain": [
              "TrainOutput(global_step=2000, training_loss=5.063213500976563, metrics={'train_runtime': 2991.9796, 'train_samples_per_second': 2.674, 'train_steps_per_second': 0.668, 'total_flos': 0.0, 'train_loss': 5.063213500976563, 'epoch': 5.0})"
            ]
          },
          "metadata": {},
          "execution_count": 27
        }
      ]
    },
    {
      "cell_type": "markdown",
      "source": [
        "## Evaluation after Prompt Tuning"
      ],
      "metadata": {
        "id": "5ecSSO2o8S34"
      }
    },
    {
      "cell_type": "markdown",
      "source": [
        "### 1. Validation loss"
      ],
      "metadata": {
        "id": "UEHKMAmJ2Y_n"
      }
    },
    {
      "cell_type": "code",
      "source": [
        "results = trainer.evaluate()\n",
        "print(results)\n"
      ],
      "metadata": {
        "id": "0Wi2E1978gwc",
        "colab": {
          "base_uri": "https://localhost:8080/",
          "height": 74
        },
        "outputId": "48f6fdad-b814-421c-c1f9-7030c865de6d"
      },
      "execution_count": null,
      "outputs": [
        {
          "output_type": "display_data",
          "data": {
            "text/plain": [
              "<IPython.core.display.HTML object>"
            ],
            "text/html": [
              "\n",
              "    <div>\n",
              "      \n",
              "      <progress value='400' max='400' style='width:300px; height:20px; vertical-align: middle;'></progress>\n",
              "      [400/400 00:38]\n",
              "    </div>\n",
              "    "
            ]
          },
          "metadata": {}
        },
        {
          "output_type": "stream",
          "name": "stdout",
          "text": [
            "{'eval_loss': 4.6216511726379395, 'eval_runtime': 38.3464, 'eval_samples_per_second': 10.431, 'eval_steps_per_second': 10.431, 'epoch': 5.0}\n"
          ]
        }
      ]
    },
    {
      "cell_type": "markdown",
      "source": [
        "### 2. Define the test function"
      ],
      "metadata": {
        "id": "OUArKTIc2fJf"
      }
    },
    {
      "cell_type": "markdown",
      "source": [
        "###  **Testing Without adding a Prompt**\n",
        "\n"
      ],
      "metadata": {
        "id": "d1msPUEr2kqV"
      }
    },
    {
      "cell_type": "code",
      "source": [
        "import torch\n",
        "\n",
        "def test_soft_prompt_tuning(soft_prompt_model, base_model, tokenizer, dataset, num_samples=5, max_length=100):\n",
        "    \"\"\"\n",
        "    Test the T5 model with soft prompt tuning by generating answers to questions.\n",
        "\n",
        "    Args:\n",
        "    - soft_prompt_model: The model wrapper with soft prompt tuning.\n",
        "    - base_model: The underlying T5 model that performs generation.\n",
        "    - tokenizer: Tokenizer for encoding and decoding text.\n",
        "    - dataset: Dataset containing questions and answers.\n",
        "    - num_samples: Number of samples to test.\n",
        "    - max_length: Maximum length of the generated answer.\n",
        "    \"\"\"\n",
        "\n",
        "    base_model.eval()  # Set model to evaluation mode\n",
        "    device = torch.device(\"cuda\" if torch.cuda.is_available() else \"cpu\")\n",
        "    base_model.to(device)\n",
        "\n",
        "    for i in range(num_samples):\n",
        "        # Extract a question and true answer from the dataset\n",
        "        sample = dataset[i]\n",
        "        input_text = sample['question']\n",
        "        true_answer = sample['answer']\n",
        "\n",
        "        # Tokenize input question\n",
        "        inputs = tokenizer(input_text, return_tensors=\"pt\").to(device)\n",
        "\n",
        "        # Retrieve the soft prompt embeddings from the soft_prompt_model\n",
        "        prompt_embeds = soft_prompt_model.prompt_embeddings.unsqueeze(0).expand(inputs['input_ids'].size(0), -1, -1).to(device)\n",
        "\n",
        "        # Get T5 input embeddings for the tokenized question and concatenate with soft prompts\n",
        "        input_embeddings = base_model.get_input_embeddings()(inputs['input_ids'])\n",
        "        combined_embeddings = torch.cat((prompt_embeds, input_embeddings), dim=1)\n",
        "\n",
        "        # Adjust attention mask to account for the prompt length\n",
        "        prompt_mask = torch.ones((inputs['attention_mask'].size(0), soft_prompt_model.prompt_length), device=device)\n",
        "        attention_mask = torch.cat([prompt_mask, inputs['attention_mask']], dim=1)\n",
        "\n",
        "        # Generate output using the base model with the combined embeddings and modified attention mask\n",
        "        with torch.no_grad():\n",
        "            outputs = base_model.generate(inputs_embeds=combined_embeddings, attention_mask=attention_mask, max_length=max_length)\n",
        "\n",
        "        # Decode the generated output\n",
        "        generated_answer = tokenizer.decode(outputs[0], skip_special_tokens=True)\n",
        "\n",
        "        # Display results\n",
        "        print(f\"Input Question: {input_text}\")\n",
        "        print(f\"True Answer: {true_answer}\")\n",
        "        print(f\"Generated Answer: {generated_answer}\\n\")\n",
        "\n",
        "# Usage example:\n",
        "# Assuming `val_data_tokenized` is your validation dataset and has been prepared with question-answer pairs\n",
        "test_soft_prompt_tuning(soft_prompt_model, base_model, tokenizer, val_data_tokenized, num_samples=5, max_length=100)\n"
      ],
      "metadata": {
        "id": "WvTmEKvD8ymy",
        "colab": {
          "base_uri": "https://localhost:8080/"
        },
        "outputId": "32bb343e-aac3-4cec-9fbf-9d3347dd135a"
      },
      "execution_count": null,
      "outputs": [
        {
          "output_type": "stream",
          "name": "stdout",
          "text": [
            "Input Question: What is (are) Thalassemia ?\n",
            "True Answer: Thalassemias are inherited blood disorders. If you have one, your body makes fewer healthy red blood cells and less hemoglobin. Hemoglobin is a protein that carries oxygen to the body. That leads to anemia. Thalassemias occur most often among people of Italian, Greek, Middle Eastern, Southern Asian, and African descent. Thalassemias can be mild or severe. Some people have no symptoms or mild anemia. The most common severe type in the United States is called Cooley's anemia. It usually appears during the first two years of life. People with it may have severe anemia, slowed growth and delayed puberty, and problems with the spleen, liver, heart, or bones. Doctors diagnose thalassemias using blood tests. Treatments include blood transfusions and treatment to remove excess iron from the body. If you have mild symptoms or no symptoms, you may not need treatment. In some severe cases, you may need a bone marrow transplant. NIH: National Heart, Lung, and Blood Institute\n",
            "Generated Answer: a group of inherited disorders\n",
            "\n",
            "Input Question: what research (or clinical trials) is being done for Diabetic Retinopathy ?\n",
            "True Answer: The National Eye Institute, or NEI, is conducting and supporting research that seeks better ways to detect, treat, and prevent vision loss in people with diabetes. This research is conducted through studies in the laboratory and with patients. For example, researchers are studying drugs for the treatment of proliferative retinopathy that may reduce the need for laser surgery.\n",
            "Generated Answer: a study of the effects of a drug on the retina\n",
            "\n",
            "Input Question: What is the outlook for Childhood Central Nervous System Germ Cell Tumors ?\n",
            "True Answer: Certain factors affect prognosis (chance of recovery). The prognosis (chance of recovery) depends on the following: - The type of germ cell tumor. - The type and level of any tumor markers. - Where the tumor is in the brain or in the spinal cord. - Whether the cancer has spread within the brain and spinal cord or to other parts of the body. - Whether the tumor is newly diagnosed or has recurred (come back) after treatment.\n",
            "Generated Answer: The outlook for Childhood Central Nervous System Germ Cell Tumors is that the tumors will be reversible.\n",
            "\n",
            "Input Question: what research (or clinical trials) is being done for Renal Cell Cancer ?\n",
            "True Answer: New types of treatment are being tested in clinical trials. Information about clinical trials is available from the NCI website. Patients may want to think about taking part in a clinical trial. For some patients, taking part in a clinical trial may be the best treatment choice. Clinical trials are part of the cancer research process. Clinical trials are done to find out if new cancer treatments are safe and effective or better than the standard treatment. Many of today's standard treatments for cancer are based on earlier clinical trials. Patients who take part in a clinical trial may receive the standard treatment or be among the first to receive a new treatment. Patients who take part in clinical trials also help improve the way cancer will be treated in the future. Even when clinical trials do not lead to effective new treatments, they often answer important questions and help move research forward. Patients can enter clinical trials before, during, or after starting their cancer treatment. Some clinical trials only include patients who have not yet received treatment. Other trials test treatments for patients whose cancer has not gotten better. There are also clinical trials that test new ways to stop cancer from recurring (coming back) or reduce the side effects of cancer treatment. Clinical trials are taking place in many parts of the country. See the Treatment Options section that follows for links to current treatment clinical trials. These have been retrieved from NCI's listing of clinical trials.\n",
            "Generated Answer: marrow transplant\n",
            "\n",
            "Input Question: What are the stages of Chronic Myeloproliferative Neoplasms ?\n",
            "True Answer: Key Points - There is no standard staging system for chronic myeloproliferative neoplasms. There is no standard staging system for chronic myeloproliferative neoplasms. Staging is the process used to find out how far the cancer has spread. There is no standard staging system for chronic myeloproliferative neoplasms. Treatment is based on the type of myeloproliferative neoplasm the patient has. It is important to know the type in order to plan treatment.\n",
            "Generated Answer: Stages of Chronic Myeloproliferative Neoplasms\n",
            "\n"
          ]
        }
      ]
    },
    {
      "cell_type": "markdown",
      "source": [
        "### **Testing with a prompt**"
      ],
      "metadata": {
        "id": "UmUJr4r-4loj"
      }
    },
    {
      "cell_type": "code",
      "source": [
        "import torch\n",
        "\n",
        "def test_detailed_generation(soft_prompt_model, base_model, tokenizer, dataset, num_samples=5, max_length=200):\n",
        "    \"\"\"\n",
        "    Test the T5 model with soft prompt tuning by generating more detailed answers to healthcare questions.\n",
        "\n",
        "    Args:\n",
        "    - soft_prompt_model: The model wrapper with soft prompt tuning.\n",
        "    - base_model: The underlying T5 model that performs generation.\n",
        "    - tokenizer: Tokenizer for encoding and decoding text.\n",
        "    - dataset: Dataset containing questions and answers.\n",
        "    - num_samples: Number of samples to test.\n",
        "    - max_length: Maximum length of the generated answer.\n",
        "    \"\"\"\n",
        "\n",
        "    base_model.eval()  # Set model to evaluation mode\n",
        "    device = torch.device(\"cuda\" if torch.cuda.is_available() else \"cpu\")\n",
        "    base_model.to(device)\n",
        "\n",
        "    for i in range(num_samples):\n",
        "        # Extract a question and true answer from the dataset\n",
        "        sample = dataset[i]\n",
        "        input_text = sample['question']\n",
        "        true_answer = sample['answer']\n",
        "\n",
        "        # Add a prompt prefix to encourage detailed responses\n",
        "        prompt_text = \"Provide a detailed medical explanation: \" + input_text\n",
        "\n",
        "        # Tokenize the prompt text\n",
        "        inputs = tokenizer(prompt_text, return_tensors=\"pt\").to(device)\n",
        "\n",
        "        # Retrieve the soft prompt embeddings from the soft_prompt_model\n",
        "        prompt_embeds = soft_prompt_model.prompt_embeddings.unsqueeze(0).expand(inputs['input_ids'].size(0), -1, -1).to(device)\n",
        "\n",
        "        # Get T5 input embeddings for the tokenized question and concatenate with soft prompts\n",
        "        input_embeddings = base_model.get_input_embeddings()(inputs['input_ids'])\n",
        "        combined_embeddings = torch.cat((prompt_embeds, input_embeddings), dim=1)\n",
        "\n",
        "        # Adjust attention mask to account for the prompt length\n",
        "        prompt_mask = torch.ones((inputs['attention_mask'].size(0), soft_prompt_model.prompt_length), device=device)\n",
        "        attention_mask = torch.cat([prompt_mask, inputs['attention_mask']], dim=1)\n",
        "\n",
        "        # Generate output with adjusted generation parameters\n",
        "        with torch.no_grad():\n",
        "            outputs = base_model.generate(\n",
        "                inputs_embeds=combined_embeddings,\n",
        "                attention_mask=attention_mask,\n",
        "                max_length=max_length,  # Allowing longer responses\n",
        "                temperature=0.7,        # Adjusting creativity level\n",
        "                top_k=50,               # Limiting sampling to top 50 tokens\n",
        "                top_p=0.9               # Nucleus sampling for more coherent output\n",
        "            )\n",
        "\n",
        "        # Decode the generated output\n",
        "        generated_answer = tokenizer.decode(outputs[0], skip_special_tokens=True)\n",
        "\n",
        "        # Display results\n",
        "        print(f\"Input Question: {input_text}\")\n",
        "        print(f\"True Answer: {true_answer}\")\n",
        "        print(f\"Generated Answer: {generated_answer}\\n\")\n",
        "\n",
        "# Usage example:\n",
        "# Assuming `val_data_tokenized` is your validation dataset and has been prepared with question-answer pairs\n",
        "test_detailed_generation(soft_prompt_model, base_model, tokenizer, val_data_tokenized, num_samples=5, max_length=200)\n"
      ],
      "metadata": {
        "id": "qBbnhweV2een",
        "outputId": "c56a243c-18a6-4ee1-f985-46ac33f4d2fd",
        "colab": {
          "base_uri": "https://localhost:8080/"
        }
      },
      "execution_count": null,
      "outputs": [
        {
          "output_type": "stream",
          "name": "stderr",
          "text": [
            "/usr/local/lib/python3.10/dist-packages/transformers/generation/configuration_utils.py:590: UserWarning: `do_sample` is set to `False`. However, `temperature` is set to `0.7` -- this flag is only used in sample-based generation modes. You should set `do_sample=True` or unset `temperature`.\n",
            "  warnings.warn(\n",
            "/usr/local/lib/python3.10/dist-packages/transformers/generation/configuration_utils.py:595: UserWarning: `do_sample` is set to `False`. However, `top_p` is set to `0.9` -- this flag is only used in sample-based generation modes. You should set `do_sample=True` or unset `top_p`.\n",
            "  warnings.warn(\n"
          ]
        },
        {
          "output_type": "stream",
          "name": "stdout",
          "text": [
            "Input Question: What is (are) Thalassemia ?\n",
            "True Answer: Thalassemias are inherited blood disorders. If you have one, your body makes fewer healthy red blood cells and less hemoglobin. Hemoglobin is a protein that carries oxygen to the body. That leads to anemia. Thalassemias occur most often among people of Italian, Greek, Middle Eastern, Southern Asian, and African descent. Thalassemias can be mild or severe. Some people have no symptoms or mild anemia. The most common severe type in the United States is called Cooley's anemia. It usually appears during the first two years of life. People with it may have severe anemia, slowed growth and delayed puberty, and problems with the spleen, liver, heart, or bones. Doctors diagnose thalassemias using blood tests. Treatments include blood transfusions and treatment to remove excess iron from the body. If you have mild symptoms or no symptoms, you may not need treatment. In some severe cases, you may need a bone marrow transplant. NIH: National Heart, Lung, and Blood Institute\n",
            "Generated Answer: Thalassemia is a condition in which the body does not have enough red blood cells to carry oxygen and nutrients to the cells.\n",
            "\n",
            "Input Question: what research (or clinical trials) is being done for Diabetic Retinopathy ?\n",
            "True Answer: The National Eye Institute, or NEI, is conducting and supporting research that seeks better ways to detect, treat, and prevent vision loss in people with diabetes. This research is conducted through studies in the laboratory and with patients. For example, researchers are studying drugs for the treatment of proliferative retinopathy that may reduce the need for laser surgery.\n",
            "Generated Answer: Diabetic Retinopathy is a condition in which the retina is damaged by damage to the blood vessels.\n",
            "\n",
            "Input Question: What is the outlook for Childhood Central Nervous System Germ Cell Tumors ?\n",
            "True Answer: Certain factors affect prognosis (chance of recovery). The prognosis (chance of recovery) depends on the following: - The type of germ cell tumor. - The type and level of any tumor markers. - Where the tumor is in the brain or in the spinal cord. - Whether the cancer has spread within the brain and spinal cord or to other parts of the body. - Whether the tumor is newly diagnosed or has recurred (come back) after treatment.\n",
            "Generated Answer: Childhood Central Nervous System Germ Cell Tumors are rare and usually develop in childhood.\n",
            "\n",
            "Input Question: what research (or clinical trials) is being done for Renal Cell Cancer ?\n",
            "True Answer: New types of treatment are being tested in clinical trials. Information about clinical trials is available from the NCI website. Patients may want to think about taking part in a clinical trial. For some patients, taking part in a clinical trial may be the best treatment choice. Clinical trials are part of the cancer research process. Clinical trials are done to find out if new cancer treatments are safe and effective or better than the standard treatment. Many of today's standard treatments for cancer are based on earlier clinical trials. Patients who take part in a clinical trial may receive the standard treatment or be among the first to receive a new treatment. Patients who take part in clinical trials also help improve the way cancer will be treated in the future. Even when clinical trials do not lead to effective new treatments, they often answer important questions and help move research forward. Patients can enter clinical trials before, during, or after starting their cancer treatment. Some clinical trials only include patients who have not yet received treatment. Other trials test treatments for patients whose cancer has not gotten better. There are also clinical trials that test new ways to stop cancer from recurring (coming back) or reduce the side effects of cancer treatment. Clinical trials are taking place in many parts of the country. See the Treatment Options section that follows for links to current treatment clinical trials. These have been retrieved from NCI's listing of clinical trials.\n",
            "Generated Answer: Renal cell cancer is a disease of the kidneys .\n",
            "\n",
            "Input Question: What are the stages of Chronic Myeloproliferative Neoplasms ?\n",
            "True Answer: Key Points - There is no standard staging system for chronic myeloproliferative neoplasms. There is no standard staging system for chronic myeloproliferative neoplasms. Staging is the process used to find out how far the cancer has spread. There is no standard staging system for chronic myeloproliferative neoplasms. Treatment is based on the type of myeloproliferative neoplasm the patient has. It is important to know the type in order to plan treatment.\n",
            "Generated Answer: Chronic myeloproliferative neoplasms are a group of cancers that are characterized by the presence of multiple myeloma cells .\n",
            "\n"
          ]
        }
      ]
    },
    {
      "cell_type": "markdown",
      "source": [
        "### **BLEU score**"
      ],
      "metadata": {
        "id": "g4u6o3-e4uCY"
      }
    },
    {
      "cell_type": "code",
      "source": [
        "!pip install evaluate\n"
      ],
      "metadata": {
        "id": "mSgJwN6jVsXp",
        "outputId": "6ae440fe-ed78-4bae-fae8-a53b9b99c9f6",
        "colab": {
          "base_uri": "https://localhost:8080/"
        }
      },
      "execution_count": null,
      "outputs": [
        {
          "output_type": "stream",
          "name": "stdout",
          "text": [
            "Collecting evaluate\n",
            "  Downloading evaluate-0.4.3-py3-none-any.whl.metadata (9.2 kB)\n",
            "Requirement already satisfied: datasets>=2.0.0 in /usr/local/lib/python3.10/dist-packages (from evaluate) (3.1.0)\n",
            "Requirement already satisfied: numpy>=1.17 in /usr/local/lib/python3.10/dist-packages (from evaluate) (1.26.4)\n",
            "Requirement already satisfied: dill in /usr/local/lib/python3.10/dist-packages (from evaluate) (0.3.8)\n",
            "Requirement already satisfied: pandas in /usr/local/lib/python3.10/dist-packages (from evaluate) (2.2.2)\n",
            "Requirement already satisfied: requests>=2.19.0 in /usr/local/lib/python3.10/dist-packages (from evaluate) (2.32.3)\n",
            "Requirement already satisfied: tqdm>=4.62.1 in /usr/local/lib/python3.10/dist-packages (from evaluate) (4.66.6)\n",
            "Requirement already satisfied: xxhash in /usr/local/lib/python3.10/dist-packages (from evaluate) (3.5.0)\n",
            "Requirement already satisfied: multiprocess in /usr/local/lib/python3.10/dist-packages (from evaluate) (0.70.16)\n",
            "Requirement already satisfied: fsspec>=2021.05.0 in /usr/local/lib/python3.10/dist-packages (from fsspec[http]>=2021.05.0->evaluate) (2024.9.0)\n",
            "Requirement already satisfied: huggingface-hub>=0.7.0 in /usr/local/lib/python3.10/dist-packages (from evaluate) (0.26.2)\n",
            "Requirement already satisfied: packaging in /usr/local/lib/python3.10/dist-packages (from evaluate) (24.2)\n",
            "Requirement already satisfied: filelock in /usr/local/lib/python3.10/dist-packages (from datasets>=2.0.0->evaluate) (3.16.1)\n",
            "Requirement already satisfied: pyarrow>=15.0.0 in /usr/local/lib/python3.10/dist-packages (from datasets>=2.0.0->evaluate) (17.0.0)\n",
            "Requirement already satisfied: aiohttp in /usr/local/lib/python3.10/dist-packages (from datasets>=2.0.0->evaluate) (3.10.10)\n",
            "Requirement already satisfied: pyyaml>=5.1 in /usr/local/lib/python3.10/dist-packages (from datasets>=2.0.0->evaluate) (6.0.2)\n",
            "Requirement already satisfied: typing-extensions>=3.7.4.3 in /usr/local/lib/python3.10/dist-packages (from huggingface-hub>=0.7.0->evaluate) (4.12.2)\n",
            "Requirement already satisfied: charset-normalizer<4,>=2 in /usr/local/lib/python3.10/dist-packages (from requests>=2.19.0->evaluate) (3.4.0)\n",
            "Requirement already satisfied: idna<4,>=2.5 in /usr/local/lib/python3.10/dist-packages (from requests>=2.19.0->evaluate) (3.10)\n",
            "Requirement already satisfied: urllib3<3,>=1.21.1 in /usr/local/lib/python3.10/dist-packages (from requests>=2.19.0->evaluate) (2.2.3)\n",
            "Requirement already satisfied: certifi>=2017.4.17 in /usr/local/lib/python3.10/dist-packages (from requests>=2.19.0->evaluate) (2024.8.30)\n",
            "Requirement already satisfied: python-dateutil>=2.8.2 in /usr/local/lib/python3.10/dist-packages (from pandas->evaluate) (2.8.2)\n",
            "Requirement already satisfied: pytz>=2020.1 in /usr/local/lib/python3.10/dist-packages (from pandas->evaluate) (2024.2)\n",
            "Requirement already satisfied: tzdata>=2022.7 in /usr/local/lib/python3.10/dist-packages (from pandas->evaluate) (2024.2)\n",
            "Requirement already satisfied: aiohappyeyeballs>=2.3.0 in /usr/local/lib/python3.10/dist-packages (from aiohttp->datasets>=2.0.0->evaluate) (2.4.3)\n",
            "Requirement already satisfied: aiosignal>=1.1.2 in /usr/local/lib/python3.10/dist-packages (from aiohttp->datasets>=2.0.0->evaluate) (1.3.1)\n",
            "Requirement already satisfied: attrs>=17.3.0 in /usr/local/lib/python3.10/dist-packages (from aiohttp->datasets>=2.0.0->evaluate) (24.2.0)\n",
            "Requirement already satisfied: frozenlist>=1.1.1 in /usr/local/lib/python3.10/dist-packages (from aiohttp->datasets>=2.0.0->evaluate) (1.5.0)\n",
            "Requirement already satisfied: multidict<7.0,>=4.5 in /usr/local/lib/python3.10/dist-packages (from aiohttp->datasets>=2.0.0->evaluate) (6.1.0)\n",
            "Requirement already satisfied: yarl<2.0,>=1.12.0 in /usr/local/lib/python3.10/dist-packages (from aiohttp->datasets>=2.0.0->evaluate) (1.17.1)\n",
            "Requirement already satisfied: async-timeout<5.0,>=4.0 in /usr/local/lib/python3.10/dist-packages (from aiohttp->datasets>=2.0.0->evaluate) (4.0.3)\n",
            "Requirement already satisfied: six>=1.5 in /usr/local/lib/python3.10/dist-packages (from python-dateutil>=2.8.2->pandas->evaluate) (1.16.0)\n",
            "Requirement already satisfied: propcache>=0.2.0 in /usr/local/lib/python3.10/dist-packages (from yarl<2.0,>=1.12.0->aiohttp->datasets>=2.0.0->evaluate) (0.2.0)\n",
            "Downloading evaluate-0.4.3-py3-none-any.whl (84 kB)\n",
            "\u001b[2K   \u001b[90m━━━━━━━━━━━━━━━━━━━━━━━━━━━━━━━━━━━━━━━━\u001b[0m \u001b[32m84.0/84.0 kB\u001b[0m \u001b[31m3.7 MB/s\u001b[0m eta \u001b[36m0:00:00\u001b[0m\n",
            "\u001b[?25hInstalling collected packages: evaluate\n",
            "Successfully installed evaluate-0.4.3\n"
          ]
        }
      ]
    },
    {
      "cell_type": "code",
      "source": [
        "import torch\n",
        "from nltk.translate.bleu_score import sentence_bleu, SmoothingFunction\n",
        "\n",
        "def test_detailed_generation_with_bleu(soft_prompt_model, base_model, tokenizer, dataset, num_samples=5, max_length=200):\n",
        "    \"\"\"\n",
        "    Test the T5 model with soft prompt tuning by generating answers to healthcare questions\n",
        "    and calculate BLEU scores to evaluate the generated answers.\n",
        "\n",
        "    Args:\n",
        "    - soft_prompt_model: The model wrapper with soft prompt tuning.\n",
        "    - base_model: The underlying T5 model that performs generation.\n",
        "    - tokenizer: Tokenizer for encoding and decoding text.\n",
        "    - dataset: Dataset containing questions and answers.\n",
        "    - num_samples: Number of samples to test.\n",
        "    - max_length: Maximum length of the generated answer.\n",
        "    \"\"\"\n",
        "\n",
        "    base_model.eval()  # Set model to evaluation mode\n",
        "    device = torch.device(\"cuda\" if torch.cuda.is_available() else \"cpu\")\n",
        "    base_model.to(device)\n",
        "\n",
        "    bleu_scores = []  # List to store individual BLEU scores\n",
        "\n",
        "    for i in range(num_samples):\n",
        "        # Extract a question and true answer from the dataset\n",
        "        sample = dataset[i]\n",
        "        input_text = sample['question']\n",
        "        true_answer = sample['answer']\n",
        "\n",
        "        # Add a prompt prefix to encourage detailed responses\n",
        "        prompt_text = \"Provide a detailed medical explanation: \" + input_text\n",
        "\n",
        "        # Tokenize the prompt text\n",
        "        inputs = tokenizer(prompt_text, return_tensors=\"pt\").to(device)\n",
        "\n",
        "        # Retrieve the soft prompt embeddings from the soft_prompt_model\n",
        "        prompt_embeds = soft_prompt_model.prompt_embeddings.unsqueeze(0).expand(inputs['input_ids'].size(0), -1, -1).to(device)\n",
        "\n",
        "        # Get T5 input embeddings for the tokenized question and concatenate with soft prompts\n",
        "        input_embeddings = base_model.get_input_embeddings()(inputs['input_ids'])\n",
        "        combined_embeddings = torch.cat((prompt_embeds, input_embeddings), dim=1)\n",
        "\n",
        "        # Adjust attention mask to account for the prompt length\n",
        "        prompt_mask = torch.ones((inputs['attention_mask'].size(0), soft_prompt_model.prompt_length), device=device)\n",
        "        attention_mask = torch.cat([prompt_mask, inputs['attention_mask']], dim=1)\n",
        "\n",
        "        # Generate output with adjusted generation parameters\n",
        "        with torch.no_grad():\n",
        "            outputs = base_model.generate(\n",
        "                inputs_embeds=combined_embeddings,\n",
        "                attention_mask=attention_mask,\n",
        "                max_length=max_length,\n",
        "                temperature=0.7,\n",
        "                top_k=50,\n",
        "                top_p=0.9\n",
        "            )\n",
        "\n",
        "        # Decode the generated output\n",
        "        generated_answer = tokenizer.decode(outputs[0], skip_special_tokens=True)\n",
        "\n",
        "        # Calculate BLEU score\n",
        "        reference = [true_answer.split()]  # Reference answer tokenized into a list of words\n",
        "        hypothesis = generated_answer.split()  # Generated answer tokenized into a list of words\n",
        "        bleu_score = sentence_bleu(reference, hypothesis, smoothing_function=SmoothingFunction().method1)\n",
        "        bleu_scores.append(bleu_score)\n",
        "\n",
        "        # Display results\n",
        "        print(f\"Input Question: {input_text}\")\n",
        "        print(f\"True Answer: {true_answer}\")\n",
        "        print(f\"Generated Answer: {generated_answer}\")\n",
        "        print(f\"BLEU Score: {bleu_score}\\n\")\n",
        "\n",
        "    # Calculate the average BLEU score across all samples\n",
        "    avg_bleu_score = sum(bleu_scores) / len(bleu_scores)\n",
        "    print(f\"Average BLEU Score across {num_samples} samples: {avg_bleu_score}\")\n",
        "\n",
        "# Usage example:\n",
        "# Assuming `val_data_tokenized` is your validation dataset with question-answer pairs\n",
        "test_detailed_generation_with_bleu(soft_prompt_model, base_model, tokenizer, val_data_tokenized, num_samples=5, max_length=200)\n"
      ],
      "metadata": {
        "id": "hLJChxaQUyes",
        "outputId": "378b971e-0430-4913-bcfd-3108a607c049",
        "colab": {
          "base_uri": "https://localhost:8080/"
        }
      },
      "execution_count": null,
      "outputs": [
        {
          "output_type": "stream",
          "name": "stdout",
          "text": [
            "Input Question: What is (are) Thalassemia ?\n",
            "True Answer: Thalassemias are inherited blood disorders. If you have one, your body makes fewer healthy red blood cells and less hemoglobin. Hemoglobin is a protein that carries oxygen to the body. That leads to anemia. Thalassemias occur most often among people of Italian, Greek, Middle Eastern, Southern Asian, and African descent. Thalassemias can be mild or severe. Some people have no symptoms or mild anemia. The most common severe type in the United States is called Cooley's anemia. It usually appears during the first two years of life. People with it may have severe anemia, slowed growth and delayed puberty, and problems with the spleen, liver, heart, or bones. Doctors diagnose thalassemias using blood tests. Treatments include blood transfusions and treatment to remove excess iron from the body. If you have mild symptoms or no symptoms, you may not need treatment. In some severe cases, you may need a bone marrow transplant. NIH: National Heart, Lung, and Blood Institute\n",
            "Generated Answer: Thalassemia is a condition in which the body does not have enough red blood cells to carry oxygen and nutrients to the cells.\n",
            "BLEU Score: 0.000205858154811052\n",
            "\n",
            "Input Question: what research (or clinical trials) is being done for Diabetic Retinopathy ?\n",
            "True Answer: The National Eye Institute, or NEI, is conducting and supporting research that seeks better ways to detect, treat, and prevent vision loss in people with diabetes. This research is conducted through studies in the laboratory and with patients. For example, researchers are studying drugs for the treatment of proliferative retinopathy that may reduce the need for laser surgery.\n",
            "Generated Answer: Diabetic Retinopathy is a condition in which the retina is damaged by damage to the blood vessels.\n",
            "BLEU Score: 0.0016140785255282452\n",
            "\n",
            "Input Question: What is the outlook for Childhood Central Nervous System Germ Cell Tumors ?\n",
            "True Answer: Certain factors affect prognosis (chance of recovery). The prognosis (chance of recovery) depends on the following: - The type of germ cell tumor. - The type and level of any tumor markers. - Where the tumor is in the brain or in the spinal cord. - Whether the cancer has spread within the brain and spinal cord or to other parts of the body. - Whether the tumor is newly diagnosed or has recurred (come back) after treatment.\n",
            "Generated Answer: Childhood Central Nervous System Germ Cell Tumors are rare and usually develop in childhood.\n",
            "BLEU Score: 0.00017569118259751015\n",
            "\n",
            "Input Question: what research (or clinical trials) is being done for Renal Cell Cancer ?\n",
            "True Answer: New types of treatment are being tested in clinical trials. Information about clinical trials is available from the NCI website. Patients may want to think about taking part in a clinical trial. For some patients, taking part in a clinical trial may be the best treatment choice. Clinical trials are part of the cancer research process. Clinical trials are done to find out if new cancer treatments are safe and effective or better than the standard treatment. Many of today's standard treatments for cancer are based on earlier clinical trials. Patients who take part in a clinical trial may receive the standard treatment or be among the first to receive a new treatment. Patients who take part in clinical trials also help improve the way cancer will be treated in the future. Even when clinical trials do not lead to effective new treatments, they often answer important questions and help move research forward. Patients can enter clinical trials before, during, or after starting their cancer treatment. Some clinical trials only include patients who have not yet received treatment. Other trials test treatments for patients whose cancer has not gotten better. There are also clinical trials that test new ways to stop cancer from recurring (coming back) or reduce the side effects of cancer treatment. Clinical trials are taking place in many parts of the country. See the Treatment Options section that follows for links to current treatment clinical trials. These have been retrieved from NCI's listing of clinical trials.\n",
            "Generated Answer: Renal cell cancer is a disease of the kidneys .\n",
            "BLEU Score: 2.3415139498374413e-12\n",
            "\n",
            "Input Question: What are the stages of Chronic Myeloproliferative Neoplasms ?\n",
            "True Answer: Key Points - There is no standard staging system for chronic myeloproliferative neoplasms. There is no standard staging system for chronic myeloproliferative neoplasms. Staging is the process used to find out how far the cancer has spread. There is no standard staging system for chronic myeloproliferative neoplasms. Treatment is based on the type of myeloproliferative neoplasm the patient has. It is important to know the type in order to plan treatment.\n",
            "Generated Answer: Chronic myeloproliferative neoplasms are a group of cancers that are characterized by the presence of multiple myeloma cells .\n",
            "BLEU Score: 0.0008680328020122081\n",
            "\n",
            "Average BLEU Score across 5 samples: 0.000572732133458106\n"
          ]
        }
      ]
    },
    {
      "cell_type": "markdown",
      "source": [
        "### **ROUGE score**"
      ],
      "metadata": {
        "id": "pPpuaNPg4z8K"
      }
    },
    {
      "cell_type": "code",
      "source": [
        "!pip install rouge_score"
      ],
      "metadata": {
        "id": "85qunJMAV0S1",
        "outputId": "61d72b6e-a108-4dba-90ae-c2ef6fcab0de",
        "colab": {
          "base_uri": "https://localhost:8080/"
        }
      },
      "execution_count": null,
      "outputs": [
        {
          "output_type": "stream",
          "name": "stdout",
          "text": [
            "Collecting rouge_score\n",
            "  Downloading rouge_score-0.1.2.tar.gz (17 kB)\n",
            "  Preparing metadata (setup.py) ... \u001b[?25l\u001b[?25hdone\n",
            "Requirement already satisfied: absl-py in /usr/local/lib/python3.10/dist-packages (from rouge_score) (1.4.0)\n",
            "Requirement already satisfied: nltk in /usr/local/lib/python3.10/dist-packages (from rouge_score) (3.9.1)\n",
            "Requirement already satisfied: numpy in /usr/local/lib/python3.10/dist-packages (from rouge_score) (1.26.4)\n",
            "Requirement already satisfied: six>=1.14.0 in /usr/local/lib/python3.10/dist-packages (from rouge_score) (1.16.0)\n",
            "Requirement already satisfied: click in /usr/local/lib/python3.10/dist-packages (from nltk->rouge_score) (8.1.7)\n",
            "Requirement already satisfied: joblib in /usr/local/lib/python3.10/dist-packages (from nltk->rouge_score) (1.4.2)\n",
            "Requirement already satisfied: regex>=2021.8.3 in /usr/local/lib/python3.10/dist-packages (from nltk->rouge_score) (2024.9.11)\n",
            "Requirement already satisfied: tqdm in /usr/local/lib/python3.10/dist-packages (from nltk->rouge_score) (4.66.6)\n",
            "Building wheels for collected packages: rouge_score\n",
            "  Building wheel for rouge_score (setup.py) ... \u001b[?25l\u001b[?25hdone\n",
            "  Created wheel for rouge_score: filename=rouge_score-0.1.2-py3-none-any.whl size=24935 sha256=b1e9a83db7aa94dcc9d12787167be49373070c9440fef4b305434c6a046a52c0\n",
            "  Stored in directory: /root/.cache/pip/wheels/5f/dd/89/461065a73be61a532ff8599a28e9beef17985c9e9c31e541b4\n",
            "Successfully built rouge_score\n",
            "Installing collected packages: rouge_score\n",
            "Successfully installed rouge_score-0.1.2\n"
          ]
        }
      ]
    },
    {
      "cell_type": "code",
      "source": [
        "import torch\n",
        "from transformers import pipeline\n",
        "from evaluate import load\n",
        "\n",
        "# Load the ROUGE metric\n",
        "rouge = load(\"rouge\")\n",
        "\n",
        "def test_detailed_generation_with_rouge(soft_prompt_model, base_model, tokenizer, dataset, num_samples=5, max_length=200):\n",
        "    \"\"\"\n",
        "    Test the T5 model with soft prompt tuning by generating answers to healthcare questions\n",
        "    and calculate ROUGE scores to evaluate the generated answers.\n",
        "\n",
        "    Args:\n",
        "    - soft_prompt_model: The model wrapper with soft prompt tuning.\n",
        "    - base_model: The underlying T5 model that performs generation.\n",
        "    - tokenizer: Tokenizer for encoding and decoding text.\n",
        "    - dataset: Dataset containing questions and answers.\n",
        "    - num_samples: Number of samples to test.\n",
        "    - max_length: Maximum length of the generated answer.\n",
        "    \"\"\"\n",
        "\n",
        "    base_model.eval()  # Set model to evaluation mode\n",
        "    device = torch.device(\"cuda\" if torch.cuda.is_available() else \"cpu\")\n",
        "    base_model.to(device)\n",
        "\n",
        "    # Lists to store generated answers and true answers for ROUGE calculation\n",
        "    generated_answers = []\n",
        "    true_answers = []\n",
        "\n",
        "    for i in range(num_samples):\n",
        "        # Extract a question and true answer from the dataset\n",
        "        sample = dataset[i]\n",
        "        input_text = sample['question']\n",
        "        true_answer = sample['answer']\n",
        "\n",
        "        # Add a prompt prefix to encourage detailed responses\n",
        "        prompt_text = \"Provide a detailed medical explanation: \" + input_text\n",
        "\n",
        "        # Tokenize the prompt text\n",
        "        inputs = tokenizer(prompt_text, return_tensors=\"pt\").to(device)\n",
        "\n",
        "        # Retrieve the soft prompt embeddings from the soft_prompt_model\n",
        "        prompt_embeds = soft_prompt_model.prompt_embeddings.unsqueeze(0).expand(inputs['input_ids'].size(0), -1, -1).to(device)\n",
        "\n",
        "        # Get T5 input embeddings for the tokenized question and concatenate with soft prompts\n",
        "        input_embeddings = base_model.get_input_embeddings()(inputs['input_ids'])\n",
        "        combined_embeddings = torch.cat((prompt_embeds, input_embeddings), dim=1)\n",
        "\n",
        "        # Adjust attention mask to account for the prompt length\n",
        "        prompt_mask = torch.ones((inputs['attention_mask'].size(0), soft_prompt_model.prompt_length), device=device)\n",
        "        attention_mask = torch.cat([prompt_mask, inputs['attention_mask']], dim=1)\n",
        "\n",
        "        # Generate output with adjusted generation parameters\n",
        "        with torch.no_grad():\n",
        "            outputs = base_model.generate(\n",
        "                inputs_embeds=combined_embeddings,\n",
        "                attention_mask=attention_mask,\n",
        "                max_length=max_length,\n",
        "                temperature=0.7,\n",
        "                top_k=50,\n",
        "                top_p=0.9\n",
        "            )\n",
        "\n",
        "        # Decode the generated output\n",
        "        generated_answer = tokenizer.decode(outputs[0], skip_special_tokens=True)\n",
        "\n",
        "        # Store answers for ROUGE score calculation\n",
        "        generated_answers.append(generated_answer)\n",
        "        true_answers.append(true_answer)\n",
        "\n",
        "        # Display results\n",
        "        print(f\"Input Question: {input_text}\")\n",
        "        print(f\"True Answer: {true_answer}\")\n",
        "        print(f\"Generated Answer: {generated_answer}\\n\")\n",
        "\n",
        "    # Calculate ROUGE scores\n",
        "    results = rouge.compute(predictions=generated_answers, references=true_answers)\n",
        "    print(\"ROUGE Scores:\")\n",
        "    print(f\"ROUGE-1: {results['rouge1']}\")\n",
        "    print(f\"ROUGE-2: {results['rouge2']}\")\n",
        "    print(f\"ROUGE-L: {results['rougeL']}\")\n",
        "\n",
        "# Usage example:\n",
        "# Assuming `val_data_tokenized` is your validation dataset with question-answer pairs\n",
        "test_detailed_generation_with_rouge(soft_prompt_model, base_model, tokenizer, val_data_tokenized, num_samples=5, max_length=200)\n"
      ],
      "metadata": {
        "id": "DI-sPCwoU3_d",
        "outputId": "5e8e54e7-f1d6-4050-81f3-475c27cdca04",
        "colab": {
          "base_uri": "https://localhost:8080/"
        }
      },
      "execution_count": null,
      "outputs": [
        {
          "output_type": "stream",
          "name": "stdout",
          "text": [
            "Input Question: What is (are) Thalassemia ?\n",
            "True Answer: Thalassemias are inherited blood disorders. If you have one, your body makes fewer healthy red blood cells and less hemoglobin. Hemoglobin is a protein that carries oxygen to the body. That leads to anemia. Thalassemias occur most often among people of Italian, Greek, Middle Eastern, Southern Asian, and African descent. Thalassemias can be mild or severe. Some people have no symptoms or mild anemia. The most common severe type in the United States is called Cooley's anemia. It usually appears during the first two years of life. People with it may have severe anemia, slowed growth and delayed puberty, and problems with the spleen, liver, heart, or bones. Doctors diagnose thalassemias using blood tests. Treatments include blood transfusions and treatment to remove excess iron from the body. If you have mild symptoms or no symptoms, you may not need treatment. In some severe cases, you may need a bone marrow transplant. NIH: National Heart, Lung, and Blood Institute\n",
            "Generated Answer: Thalassemia is a condition in which the body does not have enough red blood cells to carry oxygen and nutrients to the cells.\n",
            "\n",
            "Input Question: what research (or clinical trials) is being done for Diabetic Retinopathy ?\n",
            "True Answer: The National Eye Institute, or NEI, is conducting and supporting research that seeks better ways to detect, treat, and prevent vision loss in people with diabetes. This research is conducted through studies in the laboratory and with patients. For example, researchers are studying drugs for the treatment of proliferative retinopathy that may reduce the need for laser surgery.\n",
            "Generated Answer: Diabetic Retinopathy is a condition in which the retina is damaged by damage to the blood vessels.\n",
            "\n",
            "Input Question: What is the outlook for Childhood Central Nervous System Germ Cell Tumors ?\n",
            "True Answer: Certain factors affect prognosis (chance of recovery). The prognosis (chance of recovery) depends on the following: - The type of germ cell tumor. - The type and level of any tumor markers. - Where the tumor is in the brain or in the spinal cord. - Whether the cancer has spread within the brain and spinal cord or to other parts of the body. - Whether the tumor is newly diagnosed or has recurred (come back) after treatment.\n",
            "Generated Answer: Childhood Central Nervous System Germ Cell Tumors are rare and usually develop in childhood.\n",
            "\n",
            "Input Question: what research (or clinical trials) is being done for Renal Cell Cancer ?\n",
            "True Answer: New types of treatment are being tested in clinical trials. Information about clinical trials is available from the NCI website. Patients may want to think about taking part in a clinical trial. For some patients, taking part in a clinical trial may be the best treatment choice. Clinical trials are part of the cancer research process. Clinical trials are done to find out if new cancer treatments are safe and effective or better than the standard treatment. Many of today's standard treatments for cancer are based on earlier clinical trials. Patients who take part in a clinical trial may receive the standard treatment or be among the first to receive a new treatment. Patients who take part in clinical trials also help improve the way cancer will be treated in the future. Even when clinical trials do not lead to effective new treatments, they often answer important questions and help move research forward. Patients can enter clinical trials before, during, or after starting their cancer treatment. Some clinical trials only include patients who have not yet received treatment. Other trials test treatments for patients whose cancer has not gotten better. There are also clinical trials that test new ways to stop cancer from recurring (coming back) or reduce the side effects of cancer treatment. Clinical trials are taking place in many parts of the country. See the Treatment Options section that follows for links to current treatment clinical trials. These have been retrieved from NCI's listing of clinical trials.\n",
            "Generated Answer: Renal cell cancer is a disease of the kidneys .\n",
            "\n",
            "Input Question: What are the stages of Chronic Myeloproliferative Neoplasms ?\n",
            "True Answer: Key Points - There is no standard staging system for chronic myeloproliferative neoplasms. There is no standard staging system for chronic myeloproliferative neoplasms. Staging is the process used to find out how far the cancer has spread. There is no standard staging system for chronic myeloproliferative neoplasms. Treatment is based on the type of myeloproliferative neoplasm the patient has. It is important to know the type in order to plan treatment.\n",
            "Generated Answer: Chronic myeloproliferative neoplasms are a group of cancers that are characterized by the presence of multiple myeloma cells .\n",
            "\n",
            "ROUGE Scores:\n",
            "ROUGE-1: 0.11911075131764788\n",
            "ROUGE-2: 0.026669706642346865\n",
            "ROUGE-L: 0.08839000080379392\n"
          ]
        }
      ]
    },
    {
      "cell_type": "markdown",
      "source": [
        "### **Perplexity**"
      ],
      "metadata": {
        "id": "ftQm4Mno5Or3"
      }
    },
    {
      "cell_type": "code",
      "source": [
        "def test_detailed_generation_with_perplexity_and_answer(soft_prompt_model, base_model, tokenizer, dataset, num_samples=5, max_length=200):\n",
        "    base_model.eval()\n",
        "    device = torch.device(\"cuda\" if torch.cuda.is_available() else \"cpu\")\n",
        "    base_model.to(device)\n",
        "\n",
        "    perplexities = []\n",
        "    generated_answers = []\n",
        "    true_answers = []\n",
        "\n",
        "    for i in range(num_samples):\n",
        "        sample = dataset[i]\n",
        "        input_text = sample['question']\n",
        "        true_answer = sample['answer']\n",
        "\n",
        "        # Add prompt\n",
        "        prompt_text = \"Provide a detailed medical explanation: \" + input_text\n",
        "        inputs = tokenizer(prompt_text, return_tensors=\"pt\").to(device)\n",
        "        target = tokenizer(true_answer, return_tensors=\"pt\").input_ids.to(device)\n",
        "\n",
        "        prompt_embeds = soft_prompt_model.prompt_embeddings.unsqueeze(0).expand(inputs['input_ids'].size(0), -1, -1).to(device)\n",
        "        input_embeddings = base_model.get_input_embeddings()(inputs['input_ids'])\n",
        "        combined_embeddings = torch.cat((prompt_embeds, input_embeddings), dim=1)\n",
        "\n",
        "        prompt_mask = torch.ones((inputs['attention_mask'].size(0), soft_prompt_model.prompt_length), device=device)\n",
        "        attention_mask = torch.cat([prompt_mask, inputs['attention_mask']], dim=1)\n",
        "\n",
        "        # Calculate loss for perplexity\n",
        "        with torch.no_grad():\n",
        "            outputs = base_model(input_ids=inputs['input_ids'], labels=target)\n",
        "            loss = outputs.loss.item()\n",
        "\n",
        "        perplexity = math.exp(loss)\n",
        "        perplexities.append(perplexity)\n",
        "\n",
        "        # Generate an answer\n",
        "        with torch.no_grad():\n",
        "            generated_output = base_model.generate(\n",
        "                inputs_embeds=combined_embeddings,\n",
        "                attention_mask=attention_mask,\n",
        "                max_length=max_length,\n",
        "                temperature=0.7,\n",
        "                top_k=50,\n",
        "                top_p=0.9\n",
        "            )\n",
        "            generated_answer = tokenizer.decode(generated_output[0], skip_special_tokens=True)\n",
        "            generated_answers.append(generated_answer)\n",
        "            true_answers.append(true_answer)\n",
        "\n",
        "        # Display results\n",
        "        print(f\"Input Question: {input_text}\")\n",
        "        print(f\"True Answer: {true_answer}\")\n",
        "        print(f\"Generated Answer: {generated_answer}\")\n",
        "        print(f\"Perplexity: {perplexity}\\n\")\n",
        "\n",
        "    # Average perplexity\n",
        "    avg_perplexity = sum(perplexities) / len(perplexities)\n",
        "    print(\"Average Perplexity:\", avg_perplexity)\n",
        "\n",
        "# Usage\n",
        "test_detailed_generation_with_perplexity_and_answer(soft_prompt_model, base_model, tokenizer, val_data_tokenized, num_samples=5, max_length=200)\n"
      ],
      "metadata": {
        "id": "LD0j17zmV55H",
        "outputId": "b02ab9fb-4b8b-4324-b00d-71639c24cce8",
        "colab": {
          "base_uri": "https://localhost:8080/"
        }
      },
      "execution_count": null,
      "outputs": [
        {
          "output_type": "stream",
          "name": "stdout",
          "text": [
            "Input Question: What is (are) Thalassemia ?\n",
            "True Answer: Thalassemias are inherited blood disorders. If you have one, your body makes fewer healthy red blood cells and less hemoglobin. Hemoglobin is a protein that carries oxygen to the body. That leads to anemia. Thalassemias occur most often among people of Italian, Greek, Middle Eastern, Southern Asian, and African descent. Thalassemias can be mild or severe. Some people have no symptoms or mild anemia. The most common severe type in the United States is called Cooley's anemia. It usually appears during the first two years of life. People with it may have severe anemia, slowed growth and delayed puberty, and problems with the spleen, liver, heart, or bones. Doctors diagnose thalassemias using blood tests. Treatments include blood transfusions and treatment to remove excess iron from the body. If you have mild symptoms or no symptoms, you may not need treatment. In some severe cases, you may need a bone marrow transplant. NIH: National Heart, Lung, and Blood Institute\n",
            "Generated Answer: Thalassemia is a condition in which the body does not have enough red blood cells to carry oxygen and nutrients to the cells.\n",
            "Perplexity: 7.606480038935786\n",
            "\n",
            "Input Question: what research (or clinical trials) is being done for Diabetic Retinopathy ?\n",
            "True Answer: The National Eye Institute, or NEI, is conducting and supporting research that seeks better ways to detect, treat, and prevent vision loss in people with diabetes. This research is conducted through studies in the laboratory and with patients. For example, researchers are studying drugs for the treatment of proliferative retinopathy that may reduce the need for laser surgery.\n",
            "Generated Answer: Diabetic Retinopathy is a condition in which the retina is damaged by damage to the blood vessels.\n",
            "Perplexity: 10.215371003161884\n",
            "\n",
            "Input Question: What is the outlook for Childhood Central Nervous System Germ Cell Tumors ?\n",
            "True Answer: Certain factors affect prognosis (chance of recovery). The prognosis (chance of recovery) depends on the following: - The type of germ cell tumor. - The type and level of any tumor markers. - Where the tumor is in the brain or in the spinal cord. - Whether the cancer has spread within the brain and spinal cord or to other parts of the body. - Whether the tumor is newly diagnosed or has recurred (come back) after treatment.\n",
            "Generated Answer: Childhood Central Nervous System Germ Cell Tumors are rare and usually develop in childhood.\n",
            "Perplexity: 8.258508178087476\n",
            "\n",
            "Input Question: what research (or clinical trials) is being done for Renal Cell Cancer ?\n",
            "True Answer: New types of treatment are being tested in clinical trials. Information about clinical trials is available from the NCI website. Patients may want to think about taking part in a clinical trial. For some patients, taking part in a clinical trial may be the best treatment choice. Clinical trials are part of the cancer research process. Clinical trials are done to find out if new cancer treatments are safe and effective or better than the standard treatment. Many of today's standard treatments for cancer are based on earlier clinical trials. Patients who take part in a clinical trial may receive the standard treatment or be among the first to receive a new treatment. Patients who take part in clinical trials also help improve the way cancer will be treated in the future. Even when clinical trials do not lead to effective new treatments, they often answer important questions and help move research forward. Patients can enter clinical trials before, during, or after starting their cancer treatment. Some clinical trials only include patients who have not yet received treatment. Other trials test treatments for patients whose cancer has not gotten better. There are also clinical trials that test new ways to stop cancer from recurring (coming back) or reduce the side effects of cancer treatment. Clinical trials are taking place in many parts of the country. See the Treatment Options section that follows for links to current treatment clinical trials. These have been retrieved from NCI's listing of clinical trials.\n",
            "Generated Answer: Renal cell cancer is a disease of the kidneys .\n",
            "Perplexity: 10.508202705884676\n",
            "\n",
            "Input Question: What are the stages of Chronic Myeloproliferative Neoplasms ?\n",
            "True Answer: Key Points - There is no standard staging system for chronic myeloproliferative neoplasms. There is no standard staging system for chronic myeloproliferative neoplasms. Staging is the process used to find out how far the cancer has spread. There is no standard staging system for chronic myeloproliferative neoplasms. Treatment is based on the type of myeloproliferative neoplasm the patient has. It is important to know the type in order to plan treatment.\n",
            "Generated Answer: Chronic myeloproliferative neoplasms are a group of cancers that are characterized by the presence of multiple myeloma cells .\n",
            "Perplexity: 3.6724060750375584\n",
            "\n",
            "Average Perplexity: 8.052193600221475\n"
          ]
        }
      ]
    }
  ],
  "metadata": {
    "accelerator": "GPU",
    "colab": {
      "gpuType": "L4",
      "provenance": [],
      "machine_shape": "hm",
      "toc_visible": true,
      "include_colab_link": true
    },
    "kernelspec": {
      "display_name": "Python 3",
      "name": "python3"
    },
    "language_info": {
      "name": "python"
    },
    "widgets": {
      "application/vnd.jupyter.widget-state+json": {
        "cd6b57338616400aa2eb7fdec771db4e": {
          "model_module": "@jupyter-widgets/controls",
          "model_name": "HBoxModel",
          "model_module_version": "1.5.0",
          "state": {
            "_dom_classes": [],
            "_model_module": "@jupyter-widgets/controls",
            "_model_module_version": "1.5.0",
            "_model_name": "HBoxModel",
            "_view_count": null,
            "_view_module": "@jupyter-widgets/controls",
            "_view_module_version": "1.5.0",
            "_view_name": "HBoxView",
            "box_style": "",
            "children": [
              "IPY_MODEL_3a73df4d41194f4e8399cff0db99eba3",
              "IPY_MODEL_7ffac5ec93d746cf89a8fc14be8ca8fb",
              "IPY_MODEL_9ebbdf4e293f42fe9a60d7aa9d770dc5"
            ],
            "layout": "IPY_MODEL_b16dde6786c94bbe8364d6916c4fa3a7"
          }
        },
        "3a73df4d41194f4e8399cff0db99eba3": {
          "model_module": "@jupyter-widgets/controls",
          "model_name": "HTMLModel",
          "model_module_version": "1.5.0",
          "state": {
            "_dom_classes": [],
            "_model_module": "@jupyter-widgets/controls",
            "_model_module_version": "1.5.0",
            "_model_name": "HTMLModel",
            "_view_count": null,
            "_view_module": "@jupyter-widgets/controls",
            "_view_module_version": "1.5.0",
            "_view_name": "HTMLView",
            "description": "",
            "description_tooltip": null,
            "layout": "IPY_MODEL_6e03e2936ef64b088e536c87af704773",
            "placeholder": "​",
            "style": "IPY_MODEL_ffeb8c32f821459e8572bfe276b7dc3e",
            "value": "Map: 100%"
          }
        },
        "7ffac5ec93d746cf89a8fc14be8ca8fb": {
          "model_module": "@jupyter-widgets/controls",
          "model_name": "FloatProgressModel",
          "model_module_version": "1.5.0",
          "state": {
            "_dom_classes": [],
            "_model_module": "@jupyter-widgets/controls",
            "_model_module_version": "1.5.0",
            "_model_name": "FloatProgressModel",
            "_view_count": null,
            "_view_module": "@jupyter-widgets/controls",
            "_view_module_version": "1.5.0",
            "_view_name": "ProgressView",
            "bar_style": "success",
            "description": "",
            "description_tooltip": null,
            "layout": "IPY_MODEL_fa810404aaf146ed80a4479d9916c743",
            "max": 1600,
            "min": 0,
            "orientation": "horizontal",
            "style": "IPY_MODEL_087604d5488848249a7ed8bbb3e2cbf4",
            "value": 1600
          }
        },
        "9ebbdf4e293f42fe9a60d7aa9d770dc5": {
          "model_module": "@jupyter-widgets/controls",
          "model_name": "HTMLModel",
          "model_module_version": "1.5.0",
          "state": {
            "_dom_classes": [],
            "_model_module": "@jupyter-widgets/controls",
            "_model_module_version": "1.5.0",
            "_model_name": "HTMLModel",
            "_view_count": null,
            "_view_module": "@jupyter-widgets/controls",
            "_view_module_version": "1.5.0",
            "_view_name": "HTMLView",
            "description": "",
            "description_tooltip": null,
            "layout": "IPY_MODEL_9235d7ec96424980926b445179c40a5c",
            "placeholder": "​",
            "style": "IPY_MODEL_7ccc81138f8f4eed988cacd34673c2b8",
            "value": " 1600/1600 [00:01&lt;00:00, 1481.55 examples/s]"
          }
        },
        "b16dde6786c94bbe8364d6916c4fa3a7": {
          "model_module": "@jupyter-widgets/base",
          "model_name": "LayoutModel",
          "model_module_version": "1.2.0",
          "state": {
            "_model_module": "@jupyter-widgets/base",
            "_model_module_version": "1.2.0",
            "_model_name": "LayoutModel",
            "_view_count": null,
            "_view_module": "@jupyter-widgets/base",
            "_view_module_version": "1.2.0",
            "_view_name": "LayoutView",
            "align_content": null,
            "align_items": null,
            "align_self": null,
            "border": null,
            "bottom": null,
            "display": null,
            "flex": null,
            "flex_flow": null,
            "grid_area": null,
            "grid_auto_columns": null,
            "grid_auto_flow": null,
            "grid_auto_rows": null,
            "grid_column": null,
            "grid_gap": null,
            "grid_row": null,
            "grid_template_areas": null,
            "grid_template_columns": null,
            "grid_template_rows": null,
            "height": null,
            "justify_content": null,
            "justify_items": null,
            "left": null,
            "margin": null,
            "max_height": null,
            "max_width": null,
            "min_height": null,
            "min_width": null,
            "object_fit": null,
            "object_position": null,
            "order": null,
            "overflow": null,
            "overflow_x": null,
            "overflow_y": null,
            "padding": null,
            "right": null,
            "top": null,
            "visibility": null,
            "width": null
          }
        },
        "6e03e2936ef64b088e536c87af704773": {
          "model_module": "@jupyter-widgets/base",
          "model_name": "LayoutModel",
          "model_module_version": "1.2.0",
          "state": {
            "_model_module": "@jupyter-widgets/base",
            "_model_module_version": "1.2.0",
            "_model_name": "LayoutModel",
            "_view_count": null,
            "_view_module": "@jupyter-widgets/base",
            "_view_module_version": "1.2.0",
            "_view_name": "LayoutView",
            "align_content": null,
            "align_items": null,
            "align_self": null,
            "border": null,
            "bottom": null,
            "display": null,
            "flex": null,
            "flex_flow": null,
            "grid_area": null,
            "grid_auto_columns": null,
            "grid_auto_flow": null,
            "grid_auto_rows": null,
            "grid_column": null,
            "grid_gap": null,
            "grid_row": null,
            "grid_template_areas": null,
            "grid_template_columns": null,
            "grid_template_rows": null,
            "height": null,
            "justify_content": null,
            "justify_items": null,
            "left": null,
            "margin": null,
            "max_height": null,
            "max_width": null,
            "min_height": null,
            "min_width": null,
            "object_fit": null,
            "object_position": null,
            "order": null,
            "overflow": null,
            "overflow_x": null,
            "overflow_y": null,
            "padding": null,
            "right": null,
            "top": null,
            "visibility": null,
            "width": null
          }
        },
        "ffeb8c32f821459e8572bfe276b7dc3e": {
          "model_module": "@jupyter-widgets/controls",
          "model_name": "DescriptionStyleModel",
          "model_module_version": "1.5.0",
          "state": {
            "_model_module": "@jupyter-widgets/controls",
            "_model_module_version": "1.5.0",
            "_model_name": "DescriptionStyleModel",
            "_view_count": null,
            "_view_module": "@jupyter-widgets/base",
            "_view_module_version": "1.2.0",
            "_view_name": "StyleView",
            "description_width": ""
          }
        },
        "fa810404aaf146ed80a4479d9916c743": {
          "model_module": "@jupyter-widgets/base",
          "model_name": "LayoutModel",
          "model_module_version": "1.2.0",
          "state": {
            "_model_module": "@jupyter-widgets/base",
            "_model_module_version": "1.2.0",
            "_model_name": "LayoutModel",
            "_view_count": null,
            "_view_module": "@jupyter-widgets/base",
            "_view_module_version": "1.2.0",
            "_view_name": "LayoutView",
            "align_content": null,
            "align_items": null,
            "align_self": null,
            "border": null,
            "bottom": null,
            "display": null,
            "flex": null,
            "flex_flow": null,
            "grid_area": null,
            "grid_auto_columns": null,
            "grid_auto_flow": null,
            "grid_auto_rows": null,
            "grid_column": null,
            "grid_gap": null,
            "grid_row": null,
            "grid_template_areas": null,
            "grid_template_columns": null,
            "grid_template_rows": null,
            "height": null,
            "justify_content": null,
            "justify_items": null,
            "left": null,
            "margin": null,
            "max_height": null,
            "max_width": null,
            "min_height": null,
            "min_width": null,
            "object_fit": null,
            "object_position": null,
            "order": null,
            "overflow": null,
            "overflow_x": null,
            "overflow_y": null,
            "padding": null,
            "right": null,
            "top": null,
            "visibility": null,
            "width": null
          }
        },
        "087604d5488848249a7ed8bbb3e2cbf4": {
          "model_module": "@jupyter-widgets/controls",
          "model_name": "ProgressStyleModel",
          "model_module_version": "1.5.0",
          "state": {
            "_model_module": "@jupyter-widgets/controls",
            "_model_module_version": "1.5.0",
            "_model_name": "ProgressStyleModel",
            "_view_count": null,
            "_view_module": "@jupyter-widgets/base",
            "_view_module_version": "1.2.0",
            "_view_name": "StyleView",
            "bar_color": null,
            "description_width": ""
          }
        },
        "9235d7ec96424980926b445179c40a5c": {
          "model_module": "@jupyter-widgets/base",
          "model_name": "LayoutModel",
          "model_module_version": "1.2.0",
          "state": {
            "_model_module": "@jupyter-widgets/base",
            "_model_module_version": "1.2.0",
            "_model_name": "LayoutModel",
            "_view_count": null,
            "_view_module": "@jupyter-widgets/base",
            "_view_module_version": "1.2.0",
            "_view_name": "LayoutView",
            "align_content": null,
            "align_items": null,
            "align_self": null,
            "border": null,
            "bottom": null,
            "display": null,
            "flex": null,
            "flex_flow": null,
            "grid_area": null,
            "grid_auto_columns": null,
            "grid_auto_flow": null,
            "grid_auto_rows": null,
            "grid_column": null,
            "grid_gap": null,
            "grid_row": null,
            "grid_template_areas": null,
            "grid_template_columns": null,
            "grid_template_rows": null,
            "height": null,
            "justify_content": null,
            "justify_items": null,
            "left": null,
            "margin": null,
            "max_height": null,
            "max_width": null,
            "min_height": null,
            "min_width": null,
            "object_fit": null,
            "object_position": null,
            "order": null,
            "overflow": null,
            "overflow_x": null,
            "overflow_y": null,
            "padding": null,
            "right": null,
            "top": null,
            "visibility": null,
            "width": null
          }
        },
        "7ccc81138f8f4eed988cacd34673c2b8": {
          "model_module": "@jupyter-widgets/controls",
          "model_name": "DescriptionStyleModel",
          "model_module_version": "1.5.0",
          "state": {
            "_model_module": "@jupyter-widgets/controls",
            "_model_module_version": "1.5.0",
            "_model_name": "DescriptionStyleModel",
            "_view_count": null,
            "_view_module": "@jupyter-widgets/base",
            "_view_module_version": "1.2.0",
            "_view_name": "StyleView",
            "description_width": ""
          }
        },
        "9ca1c4fe95994e92a6956ccc1d7188d3": {
          "model_module": "@jupyter-widgets/controls",
          "model_name": "HBoxModel",
          "model_module_version": "1.5.0",
          "state": {
            "_dom_classes": [],
            "_model_module": "@jupyter-widgets/controls",
            "_model_module_version": "1.5.0",
            "_model_name": "HBoxModel",
            "_view_count": null,
            "_view_module": "@jupyter-widgets/controls",
            "_view_module_version": "1.5.0",
            "_view_name": "HBoxView",
            "box_style": "",
            "children": [
              "IPY_MODEL_8ace5ee83d4545f18846e7b7abcd8ebb",
              "IPY_MODEL_6595b7b50d56430c948cff4979f3d789",
              "IPY_MODEL_a81785fad28748db90a67e9c2327f201"
            ],
            "layout": "IPY_MODEL_9547d7416e40481ea3d02a6bce9f0135"
          }
        },
        "8ace5ee83d4545f18846e7b7abcd8ebb": {
          "model_module": "@jupyter-widgets/controls",
          "model_name": "HTMLModel",
          "model_module_version": "1.5.0",
          "state": {
            "_dom_classes": [],
            "_model_module": "@jupyter-widgets/controls",
            "_model_module_version": "1.5.0",
            "_model_name": "HTMLModel",
            "_view_count": null,
            "_view_module": "@jupyter-widgets/controls",
            "_view_module_version": "1.5.0",
            "_view_name": "HTMLView",
            "description": "",
            "description_tooltip": null,
            "layout": "IPY_MODEL_95fe4a0bcc4a453fb53aea0633a1a8e2",
            "placeholder": "​",
            "style": "IPY_MODEL_359ff284d3a1494980ed1c54e205cd88",
            "value": "Map: 100%"
          }
        },
        "6595b7b50d56430c948cff4979f3d789": {
          "model_module": "@jupyter-widgets/controls",
          "model_name": "FloatProgressModel",
          "model_module_version": "1.5.0",
          "state": {
            "_dom_classes": [],
            "_model_module": "@jupyter-widgets/controls",
            "_model_module_version": "1.5.0",
            "_model_name": "FloatProgressModel",
            "_view_count": null,
            "_view_module": "@jupyter-widgets/controls",
            "_view_module_version": "1.5.0",
            "_view_name": "ProgressView",
            "bar_style": "success",
            "description": "",
            "description_tooltip": null,
            "layout": "IPY_MODEL_aa95fb9c21bb4740b10201711bdaaf3f",
            "max": 400,
            "min": 0,
            "orientation": "horizontal",
            "style": "IPY_MODEL_2540d0494ca34d6399fad889d37b277d",
            "value": 400
          }
        },
        "a81785fad28748db90a67e9c2327f201": {
          "model_module": "@jupyter-widgets/controls",
          "model_name": "HTMLModel",
          "model_module_version": "1.5.0",
          "state": {
            "_dom_classes": [],
            "_model_module": "@jupyter-widgets/controls",
            "_model_module_version": "1.5.0",
            "_model_name": "HTMLModel",
            "_view_count": null,
            "_view_module": "@jupyter-widgets/controls",
            "_view_module_version": "1.5.0",
            "_view_name": "HTMLView",
            "description": "",
            "description_tooltip": null,
            "layout": "IPY_MODEL_fc2af586b16746fe8b768b3f5598eecc",
            "placeholder": "​",
            "style": "IPY_MODEL_a3dc2d8018d04ca5863939edfc891924",
            "value": " 400/400 [00:00&lt;00:00, 1754.17 examples/s]"
          }
        },
        "9547d7416e40481ea3d02a6bce9f0135": {
          "model_module": "@jupyter-widgets/base",
          "model_name": "LayoutModel",
          "model_module_version": "1.2.0",
          "state": {
            "_model_module": "@jupyter-widgets/base",
            "_model_module_version": "1.2.0",
            "_model_name": "LayoutModel",
            "_view_count": null,
            "_view_module": "@jupyter-widgets/base",
            "_view_module_version": "1.2.0",
            "_view_name": "LayoutView",
            "align_content": null,
            "align_items": null,
            "align_self": null,
            "border": null,
            "bottom": null,
            "display": null,
            "flex": null,
            "flex_flow": null,
            "grid_area": null,
            "grid_auto_columns": null,
            "grid_auto_flow": null,
            "grid_auto_rows": null,
            "grid_column": null,
            "grid_gap": null,
            "grid_row": null,
            "grid_template_areas": null,
            "grid_template_columns": null,
            "grid_template_rows": null,
            "height": null,
            "justify_content": null,
            "justify_items": null,
            "left": null,
            "margin": null,
            "max_height": null,
            "max_width": null,
            "min_height": null,
            "min_width": null,
            "object_fit": null,
            "object_position": null,
            "order": null,
            "overflow": null,
            "overflow_x": null,
            "overflow_y": null,
            "padding": null,
            "right": null,
            "top": null,
            "visibility": null,
            "width": null
          }
        },
        "95fe4a0bcc4a453fb53aea0633a1a8e2": {
          "model_module": "@jupyter-widgets/base",
          "model_name": "LayoutModel",
          "model_module_version": "1.2.0",
          "state": {
            "_model_module": "@jupyter-widgets/base",
            "_model_module_version": "1.2.0",
            "_model_name": "LayoutModel",
            "_view_count": null,
            "_view_module": "@jupyter-widgets/base",
            "_view_module_version": "1.2.0",
            "_view_name": "LayoutView",
            "align_content": null,
            "align_items": null,
            "align_self": null,
            "border": null,
            "bottom": null,
            "display": null,
            "flex": null,
            "flex_flow": null,
            "grid_area": null,
            "grid_auto_columns": null,
            "grid_auto_flow": null,
            "grid_auto_rows": null,
            "grid_column": null,
            "grid_gap": null,
            "grid_row": null,
            "grid_template_areas": null,
            "grid_template_columns": null,
            "grid_template_rows": null,
            "height": null,
            "justify_content": null,
            "justify_items": null,
            "left": null,
            "margin": null,
            "max_height": null,
            "max_width": null,
            "min_height": null,
            "min_width": null,
            "object_fit": null,
            "object_position": null,
            "order": null,
            "overflow": null,
            "overflow_x": null,
            "overflow_y": null,
            "padding": null,
            "right": null,
            "top": null,
            "visibility": null,
            "width": null
          }
        },
        "359ff284d3a1494980ed1c54e205cd88": {
          "model_module": "@jupyter-widgets/controls",
          "model_name": "DescriptionStyleModel",
          "model_module_version": "1.5.0",
          "state": {
            "_model_module": "@jupyter-widgets/controls",
            "_model_module_version": "1.5.0",
            "_model_name": "DescriptionStyleModel",
            "_view_count": null,
            "_view_module": "@jupyter-widgets/base",
            "_view_module_version": "1.2.0",
            "_view_name": "StyleView",
            "description_width": ""
          }
        },
        "aa95fb9c21bb4740b10201711bdaaf3f": {
          "model_module": "@jupyter-widgets/base",
          "model_name": "LayoutModel",
          "model_module_version": "1.2.0",
          "state": {
            "_model_module": "@jupyter-widgets/base",
            "_model_module_version": "1.2.0",
            "_model_name": "LayoutModel",
            "_view_count": null,
            "_view_module": "@jupyter-widgets/base",
            "_view_module_version": "1.2.0",
            "_view_name": "LayoutView",
            "align_content": null,
            "align_items": null,
            "align_self": null,
            "border": null,
            "bottom": null,
            "display": null,
            "flex": null,
            "flex_flow": null,
            "grid_area": null,
            "grid_auto_columns": null,
            "grid_auto_flow": null,
            "grid_auto_rows": null,
            "grid_column": null,
            "grid_gap": null,
            "grid_row": null,
            "grid_template_areas": null,
            "grid_template_columns": null,
            "grid_template_rows": null,
            "height": null,
            "justify_content": null,
            "justify_items": null,
            "left": null,
            "margin": null,
            "max_height": null,
            "max_width": null,
            "min_height": null,
            "min_width": null,
            "object_fit": null,
            "object_position": null,
            "order": null,
            "overflow": null,
            "overflow_x": null,
            "overflow_y": null,
            "padding": null,
            "right": null,
            "top": null,
            "visibility": null,
            "width": null
          }
        },
        "2540d0494ca34d6399fad889d37b277d": {
          "model_module": "@jupyter-widgets/controls",
          "model_name": "ProgressStyleModel",
          "model_module_version": "1.5.0",
          "state": {
            "_model_module": "@jupyter-widgets/controls",
            "_model_module_version": "1.5.0",
            "_model_name": "ProgressStyleModel",
            "_view_count": null,
            "_view_module": "@jupyter-widgets/base",
            "_view_module_version": "1.2.0",
            "_view_name": "StyleView",
            "bar_color": null,
            "description_width": ""
          }
        },
        "fc2af586b16746fe8b768b3f5598eecc": {
          "model_module": "@jupyter-widgets/base",
          "model_name": "LayoutModel",
          "model_module_version": "1.2.0",
          "state": {
            "_model_module": "@jupyter-widgets/base",
            "_model_module_version": "1.2.0",
            "_model_name": "LayoutModel",
            "_view_count": null,
            "_view_module": "@jupyter-widgets/base",
            "_view_module_version": "1.2.0",
            "_view_name": "LayoutView",
            "align_content": null,
            "align_items": null,
            "align_self": null,
            "border": null,
            "bottom": null,
            "display": null,
            "flex": null,
            "flex_flow": null,
            "grid_area": null,
            "grid_auto_columns": null,
            "grid_auto_flow": null,
            "grid_auto_rows": null,
            "grid_column": null,
            "grid_gap": null,
            "grid_row": null,
            "grid_template_areas": null,
            "grid_template_columns": null,
            "grid_template_rows": null,
            "height": null,
            "justify_content": null,
            "justify_items": null,
            "left": null,
            "margin": null,
            "max_height": null,
            "max_width": null,
            "min_height": null,
            "min_width": null,
            "object_fit": null,
            "object_position": null,
            "order": null,
            "overflow": null,
            "overflow_x": null,
            "overflow_y": null,
            "padding": null,
            "right": null,
            "top": null,
            "visibility": null,
            "width": null
          }
        },
        "a3dc2d8018d04ca5863939edfc891924": {
          "model_module": "@jupyter-widgets/controls",
          "model_name": "DescriptionStyleModel",
          "model_module_version": "1.5.0",
          "state": {
            "_model_module": "@jupyter-widgets/controls",
            "_model_module_version": "1.5.0",
            "_model_name": "DescriptionStyleModel",
            "_view_count": null,
            "_view_module": "@jupyter-widgets/base",
            "_view_module_version": "1.2.0",
            "_view_name": "StyleView",
            "description_width": ""
          }
        },
        "4761c83dfa8f4dbebfd0797f45530240": {
          "model_module": "@jupyter-widgets/controls",
          "model_name": "HBoxModel",
          "model_module_version": "1.5.0",
          "state": {
            "_dom_classes": [],
            "_model_module": "@jupyter-widgets/controls",
            "_model_module_version": "1.5.0",
            "_model_name": "HBoxModel",
            "_view_count": null,
            "_view_module": "@jupyter-widgets/controls",
            "_view_module_version": "1.5.0",
            "_view_name": "HBoxView",
            "box_style": "",
            "children": [
              "IPY_MODEL_62979ebb8e3e479595e2c3a685ced258",
              "IPY_MODEL_13011e85ca224728ba1ffb5c4c84538c",
              "IPY_MODEL_a430a9b799584b45993b0b4b6607e968"
            ],
            "layout": "IPY_MODEL_daf5817a1955436c8bb50cc7665324ad"
          }
        },
        "62979ebb8e3e479595e2c3a685ced258": {
          "model_module": "@jupyter-widgets/controls",
          "model_name": "HTMLModel",
          "model_module_version": "1.5.0",
          "state": {
            "_dom_classes": [],
            "_model_module": "@jupyter-widgets/controls",
            "_model_module_version": "1.5.0",
            "_model_name": "HTMLModel",
            "_view_count": null,
            "_view_module": "@jupyter-widgets/controls",
            "_view_module_version": "1.5.0",
            "_view_name": "HTMLView",
            "description": "",
            "description_tooltip": null,
            "layout": "IPY_MODEL_39715dd69e514f3b833584825fc84e87",
            "placeholder": "​",
            "style": "IPY_MODEL_10320feabc3d4b1c8de2b0012a529ce0",
            "value": "Map: 100%"
          }
        },
        "13011e85ca224728ba1ffb5c4c84538c": {
          "model_module": "@jupyter-widgets/controls",
          "model_name": "FloatProgressModel",
          "model_module_version": "1.5.0",
          "state": {
            "_dom_classes": [],
            "_model_module": "@jupyter-widgets/controls",
            "_model_module_version": "1.5.0",
            "_model_name": "FloatProgressModel",
            "_view_count": null,
            "_view_module": "@jupyter-widgets/controls",
            "_view_module_version": "1.5.0",
            "_view_name": "ProgressView",
            "bar_style": "success",
            "description": "",
            "description_tooltip": null,
            "layout": "IPY_MODEL_786b73ff658a4505884fb0a52e78e3fd",
            "max": 1600,
            "min": 0,
            "orientation": "horizontal",
            "style": "IPY_MODEL_97af4ebf74d04345b065e269f78bff6f",
            "value": 1600
          }
        },
        "a430a9b799584b45993b0b4b6607e968": {
          "model_module": "@jupyter-widgets/controls",
          "model_name": "HTMLModel",
          "model_module_version": "1.5.0",
          "state": {
            "_dom_classes": [],
            "_model_module": "@jupyter-widgets/controls",
            "_model_module_version": "1.5.0",
            "_model_name": "HTMLModel",
            "_view_count": null,
            "_view_module": "@jupyter-widgets/controls",
            "_view_module_version": "1.5.0",
            "_view_name": "HTMLView",
            "description": "",
            "description_tooltip": null,
            "layout": "IPY_MODEL_6b2c23c3ca93445ba762560dc4217564",
            "placeholder": "​",
            "style": "IPY_MODEL_060d070913b2445eb5185dff61b130a6",
            "value": " 1600/1600 [00:00&lt;00:00, 2529.74 examples/s]"
          }
        },
        "daf5817a1955436c8bb50cc7665324ad": {
          "model_module": "@jupyter-widgets/base",
          "model_name": "LayoutModel",
          "model_module_version": "1.2.0",
          "state": {
            "_model_module": "@jupyter-widgets/base",
            "_model_module_version": "1.2.0",
            "_model_name": "LayoutModel",
            "_view_count": null,
            "_view_module": "@jupyter-widgets/base",
            "_view_module_version": "1.2.0",
            "_view_name": "LayoutView",
            "align_content": null,
            "align_items": null,
            "align_self": null,
            "border": null,
            "bottom": null,
            "display": null,
            "flex": null,
            "flex_flow": null,
            "grid_area": null,
            "grid_auto_columns": null,
            "grid_auto_flow": null,
            "grid_auto_rows": null,
            "grid_column": null,
            "grid_gap": null,
            "grid_row": null,
            "grid_template_areas": null,
            "grid_template_columns": null,
            "grid_template_rows": null,
            "height": null,
            "justify_content": null,
            "justify_items": null,
            "left": null,
            "margin": null,
            "max_height": null,
            "max_width": null,
            "min_height": null,
            "min_width": null,
            "object_fit": null,
            "object_position": null,
            "order": null,
            "overflow": null,
            "overflow_x": null,
            "overflow_y": null,
            "padding": null,
            "right": null,
            "top": null,
            "visibility": null,
            "width": null
          }
        },
        "39715dd69e514f3b833584825fc84e87": {
          "model_module": "@jupyter-widgets/base",
          "model_name": "LayoutModel",
          "model_module_version": "1.2.0",
          "state": {
            "_model_module": "@jupyter-widgets/base",
            "_model_module_version": "1.2.0",
            "_model_name": "LayoutModel",
            "_view_count": null,
            "_view_module": "@jupyter-widgets/base",
            "_view_module_version": "1.2.0",
            "_view_name": "LayoutView",
            "align_content": null,
            "align_items": null,
            "align_self": null,
            "border": null,
            "bottom": null,
            "display": null,
            "flex": null,
            "flex_flow": null,
            "grid_area": null,
            "grid_auto_columns": null,
            "grid_auto_flow": null,
            "grid_auto_rows": null,
            "grid_column": null,
            "grid_gap": null,
            "grid_row": null,
            "grid_template_areas": null,
            "grid_template_columns": null,
            "grid_template_rows": null,
            "height": null,
            "justify_content": null,
            "justify_items": null,
            "left": null,
            "margin": null,
            "max_height": null,
            "max_width": null,
            "min_height": null,
            "min_width": null,
            "object_fit": null,
            "object_position": null,
            "order": null,
            "overflow": null,
            "overflow_x": null,
            "overflow_y": null,
            "padding": null,
            "right": null,
            "top": null,
            "visibility": null,
            "width": null
          }
        },
        "10320feabc3d4b1c8de2b0012a529ce0": {
          "model_module": "@jupyter-widgets/controls",
          "model_name": "DescriptionStyleModel",
          "model_module_version": "1.5.0",
          "state": {
            "_model_module": "@jupyter-widgets/controls",
            "_model_module_version": "1.5.0",
            "_model_name": "DescriptionStyleModel",
            "_view_count": null,
            "_view_module": "@jupyter-widgets/base",
            "_view_module_version": "1.2.0",
            "_view_name": "StyleView",
            "description_width": ""
          }
        },
        "786b73ff658a4505884fb0a52e78e3fd": {
          "model_module": "@jupyter-widgets/base",
          "model_name": "LayoutModel",
          "model_module_version": "1.2.0",
          "state": {
            "_model_module": "@jupyter-widgets/base",
            "_model_module_version": "1.2.0",
            "_model_name": "LayoutModel",
            "_view_count": null,
            "_view_module": "@jupyter-widgets/base",
            "_view_module_version": "1.2.0",
            "_view_name": "LayoutView",
            "align_content": null,
            "align_items": null,
            "align_self": null,
            "border": null,
            "bottom": null,
            "display": null,
            "flex": null,
            "flex_flow": null,
            "grid_area": null,
            "grid_auto_columns": null,
            "grid_auto_flow": null,
            "grid_auto_rows": null,
            "grid_column": null,
            "grid_gap": null,
            "grid_row": null,
            "grid_template_areas": null,
            "grid_template_columns": null,
            "grid_template_rows": null,
            "height": null,
            "justify_content": null,
            "justify_items": null,
            "left": null,
            "margin": null,
            "max_height": null,
            "max_width": null,
            "min_height": null,
            "min_width": null,
            "object_fit": null,
            "object_position": null,
            "order": null,
            "overflow": null,
            "overflow_x": null,
            "overflow_y": null,
            "padding": null,
            "right": null,
            "top": null,
            "visibility": null,
            "width": null
          }
        },
        "97af4ebf74d04345b065e269f78bff6f": {
          "model_module": "@jupyter-widgets/controls",
          "model_name": "ProgressStyleModel",
          "model_module_version": "1.5.0",
          "state": {
            "_model_module": "@jupyter-widgets/controls",
            "_model_module_version": "1.5.0",
            "_model_name": "ProgressStyleModel",
            "_view_count": null,
            "_view_module": "@jupyter-widgets/base",
            "_view_module_version": "1.2.0",
            "_view_name": "StyleView",
            "bar_color": null,
            "description_width": ""
          }
        },
        "6b2c23c3ca93445ba762560dc4217564": {
          "model_module": "@jupyter-widgets/base",
          "model_name": "LayoutModel",
          "model_module_version": "1.2.0",
          "state": {
            "_model_module": "@jupyter-widgets/base",
            "_model_module_version": "1.2.0",
            "_model_name": "LayoutModel",
            "_view_count": null,
            "_view_module": "@jupyter-widgets/base",
            "_view_module_version": "1.2.0",
            "_view_name": "LayoutView",
            "align_content": null,
            "align_items": null,
            "align_self": null,
            "border": null,
            "bottom": null,
            "display": null,
            "flex": null,
            "flex_flow": null,
            "grid_area": null,
            "grid_auto_columns": null,
            "grid_auto_flow": null,
            "grid_auto_rows": null,
            "grid_column": null,
            "grid_gap": null,
            "grid_row": null,
            "grid_template_areas": null,
            "grid_template_columns": null,
            "grid_template_rows": null,
            "height": null,
            "justify_content": null,
            "justify_items": null,
            "left": null,
            "margin": null,
            "max_height": null,
            "max_width": null,
            "min_height": null,
            "min_width": null,
            "object_fit": null,
            "object_position": null,
            "order": null,
            "overflow": null,
            "overflow_x": null,
            "overflow_y": null,
            "padding": null,
            "right": null,
            "top": null,
            "visibility": null,
            "width": null
          }
        },
        "060d070913b2445eb5185dff61b130a6": {
          "model_module": "@jupyter-widgets/controls",
          "model_name": "DescriptionStyleModel",
          "model_module_version": "1.5.0",
          "state": {
            "_model_module": "@jupyter-widgets/controls",
            "_model_module_version": "1.5.0",
            "_model_name": "DescriptionStyleModel",
            "_view_count": null,
            "_view_module": "@jupyter-widgets/base",
            "_view_module_version": "1.2.0",
            "_view_name": "StyleView",
            "description_width": ""
          }
        },
        "3b1e7421e32b4fd48e5ee8c88eff96e0": {
          "model_module": "@jupyter-widgets/controls",
          "model_name": "HBoxModel",
          "model_module_version": "1.5.0",
          "state": {
            "_dom_classes": [],
            "_model_module": "@jupyter-widgets/controls",
            "_model_module_version": "1.5.0",
            "_model_name": "HBoxModel",
            "_view_count": null,
            "_view_module": "@jupyter-widgets/controls",
            "_view_module_version": "1.5.0",
            "_view_name": "HBoxView",
            "box_style": "",
            "children": [
              "IPY_MODEL_5aa9270168eb4ec7ad6f3f5f6bf859d4",
              "IPY_MODEL_ee4732cb0d0a46fbae72659d6836fe7b",
              "IPY_MODEL_27bbc4ef8a9c4092a8e25e7b150cb08b"
            ],
            "layout": "IPY_MODEL_354cad2a969c417e922d75686e72f601"
          }
        },
        "5aa9270168eb4ec7ad6f3f5f6bf859d4": {
          "model_module": "@jupyter-widgets/controls",
          "model_name": "HTMLModel",
          "model_module_version": "1.5.0",
          "state": {
            "_dom_classes": [],
            "_model_module": "@jupyter-widgets/controls",
            "_model_module_version": "1.5.0",
            "_model_name": "HTMLModel",
            "_view_count": null,
            "_view_module": "@jupyter-widgets/controls",
            "_view_module_version": "1.5.0",
            "_view_name": "HTMLView",
            "description": "",
            "description_tooltip": null,
            "layout": "IPY_MODEL_e5dfeca998ba4df798cf925b6078697f",
            "placeholder": "​",
            "style": "IPY_MODEL_a34f8cc210a544a09056148c859fd401",
            "value": "Map: 100%"
          }
        },
        "ee4732cb0d0a46fbae72659d6836fe7b": {
          "model_module": "@jupyter-widgets/controls",
          "model_name": "FloatProgressModel",
          "model_module_version": "1.5.0",
          "state": {
            "_dom_classes": [],
            "_model_module": "@jupyter-widgets/controls",
            "_model_module_version": "1.5.0",
            "_model_name": "FloatProgressModel",
            "_view_count": null,
            "_view_module": "@jupyter-widgets/controls",
            "_view_module_version": "1.5.0",
            "_view_name": "ProgressView",
            "bar_style": "success",
            "description": "",
            "description_tooltip": null,
            "layout": "IPY_MODEL_55253e6d9e764ae6be1a51de88d8b065",
            "max": 400,
            "min": 0,
            "orientation": "horizontal",
            "style": "IPY_MODEL_1eedf14abbcd41c5865d465372a30894",
            "value": 400
          }
        },
        "27bbc4ef8a9c4092a8e25e7b150cb08b": {
          "model_module": "@jupyter-widgets/controls",
          "model_name": "HTMLModel",
          "model_module_version": "1.5.0",
          "state": {
            "_dom_classes": [],
            "_model_module": "@jupyter-widgets/controls",
            "_model_module_version": "1.5.0",
            "_model_name": "HTMLModel",
            "_view_count": null,
            "_view_module": "@jupyter-widgets/controls",
            "_view_module_version": "1.5.0",
            "_view_name": "HTMLView",
            "description": "",
            "description_tooltip": null,
            "layout": "IPY_MODEL_e2d276b87145419893b49c807065b5e6",
            "placeholder": "​",
            "style": "IPY_MODEL_26932279bcb04a0490c331eb3b9dcf33",
            "value": " 400/400 [00:00&lt;00:00, 2314.55 examples/s]"
          }
        },
        "354cad2a969c417e922d75686e72f601": {
          "model_module": "@jupyter-widgets/base",
          "model_name": "LayoutModel",
          "model_module_version": "1.2.0",
          "state": {
            "_model_module": "@jupyter-widgets/base",
            "_model_module_version": "1.2.0",
            "_model_name": "LayoutModel",
            "_view_count": null,
            "_view_module": "@jupyter-widgets/base",
            "_view_module_version": "1.2.0",
            "_view_name": "LayoutView",
            "align_content": null,
            "align_items": null,
            "align_self": null,
            "border": null,
            "bottom": null,
            "display": null,
            "flex": null,
            "flex_flow": null,
            "grid_area": null,
            "grid_auto_columns": null,
            "grid_auto_flow": null,
            "grid_auto_rows": null,
            "grid_column": null,
            "grid_gap": null,
            "grid_row": null,
            "grid_template_areas": null,
            "grid_template_columns": null,
            "grid_template_rows": null,
            "height": null,
            "justify_content": null,
            "justify_items": null,
            "left": null,
            "margin": null,
            "max_height": null,
            "max_width": null,
            "min_height": null,
            "min_width": null,
            "object_fit": null,
            "object_position": null,
            "order": null,
            "overflow": null,
            "overflow_x": null,
            "overflow_y": null,
            "padding": null,
            "right": null,
            "top": null,
            "visibility": null,
            "width": null
          }
        },
        "e5dfeca998ba4df798cf925b6078697f": {
          "model_module": "@jupyter-widgets/base",
          "model_name": "LayoutModel",
          "model_module_version": "1.2.0",
          "state": {
            "_model_module": "@jupyter-widgets/base",
            "_model_module_version": "1.2.0",
            "_model_name": "LayoutModel",
            "_view_count": null,
            "_view_module": "@jupyter-widgets/base",
            "_view_module_version": "1.2.0",
            "_view_name": "LayoutView",
            "align_content": null,
            "align_items": null,
            "align_self": null,
            "border": null,
            "bottom": null,
            "display": null,
            "flex": null,
            "flex_flow": null,
            "grid_area": null,
            "grid_auto_columns": null,
            "grid_auto_flow": null,
            "grid_auto_rows": null,
            "grid_column": null,
            "grid_gap": null,
            "grid_row": null,
            "grid_template_areas": null,
            "grid_template_columns": null,
            "grid_template_rows": null,
            "height": null,
            "justify_content": null,
            "justify_items": null,
            "left": null,
            "margin": null,
            "max_height": null,
            "max_width": null,
            "min_height": null,
            "min_width": null,
            "object_fit": null,
            "object_position": null,
            "order": null,
            "overflow": null,
            "overflow_x": null,
            "overflow_y": null,
            "padding": null,
            "right": null,
            "top": null,
            "visibility": null,
            "width": null
          }
        },
        "a34f8cc210a544a09056148c859fd401": {
          "model_module": "@jupyter-widgets/controls",
          "model_name": "DescriptionStyleModel",
          "model_module_version": "1.5.0",
          "state": {
            "_model_module": "@jupyter-widgets/controls",
            "_model_module_version": "1.5.0",
            "_model_name": "DescriptionStyleModel",
            "_view_count": null,
            "_view_module": "@jupyter-widgets/base",
            "_view_module_version": "1.2.0",
            "_view_name": "StyleView",
            "description_width": ""
          }
        },
        "55253e6d9e764ae6be1a51de88d8b065": {
          "model_module": "@jupyter-widgets/base",
          "model_name": "LayoutModel",
          "model_module_version": "1.2.0",
          "state": {
            "_model_module": "@jupyter-widgets/base",
            "_model_module_version": "1.2.0",
            "_model_name": "LayoutModel",
            "_view_count": null,
            "_view_module": "@jupyter-widgets/base",
            "_view_module_version": "1.2.0",
            "_view_name": "LayoutView",
            "align_content": null,
            "align_items": null,
            "align_self": null,
            "border": null,
            "bottom": null,
            "display": null,
            "flex": null,
            "flex_flow": null,
            "grid_area": null,
            "grid_auto_columns": null,
            "grid_auto_flow": null,
            "grid_auto_rows": null,
            "grid_column": null,
            "grid_gap": null,
            "grid_row": null,
            "grid_template_areas": null,
            "grid_template_columns": null,
            "grid_template_rows": null,
            "height": null,
            "justify_content": null,
            "justify_items": null,
            "left": null,
            "margin": null,
            "max_height": null,
            "max_width": null,
            "min_height": null,
            "min_width": null,
            "object_fit": null,
            "object_position": null,
            "order": null,
            "overflow": null,
            "overflow_x": null,
            "overflow_y": null,
            "padding": null,
            "right": null,
            "top": null,
            "visibility": null,
            "width": null
          }
        },
        "1eedf14abbcd41c5865d465372a30894": {
          "model_module": "@jupyter-widgets/controls",
          "model_name": "ProgressStyleModel",
          "model_module_version": "1.5.0",
          "state": {
            "_model_module": "@jupyter-widgets/controls",
            "_model_module_version": "1.5.0",
            "_model_name": "ProgressStyleModel",
            "_view_count": null,
            "_view_module": "@jupyter-widgets/base",
            "_view_module_version": "1.2.0",
            "_view_name": "StyleView",
            "bar_color": null,
            "description_width": ""
          }
        },
        "e2d276b87145419893b49c807065b5e6": {
          "model_module": "@jupyter-widgets/base",
          "model_name": "LayoutModel",
          "model_module_version": "1.2.0",
          "state": {
            "_model_module": "@jupyter-widgets/base",
            "_model_module_version": "1.2.0",
            "_model_name": "LayoutModel",
            "_view_count": null,
            "_view_module": "@jupyter-widgets/base",
            "_view_module_version": "1.2.0",
            "_view_name": "LayoutView",
            "align_content": null,
            "align_items": null,
            "align_self": null,
            "border": null,
            "bottom": null,
            "display": null,
            "flex": null,
            "flex_flow": null,
            "grid_area": null,
            "grid_auto_columns": null,
            "grid_auto_flow": null,
            "grid_auto_rows": null,
            "grid_column": null,
            "grid_gap": null,
            "grid_row": null,
            "grid_template_areas": null,
            "grid_template_columns": null,
            "grid_template_rows": null,
            "height": null,
            "justify_content": null,
            "justify_items": null,
            "left": null,
            "margin": null,
            "max_height": null,
            "max_width": null,
            "min_height": null,
            "min_width": null,
            "object_fit": null,
            "object_position": null,
            "order": null,
            "overflow": null,
            "overflow_x": null,
            "overflow_y": null,
            "padding": null,
            "right": null,
            "top": null,
            "visibility": null,
            "width": null
          }
        },
        "26932279bcb04a0490c331eb3b9dcf33": {
          "model_module": "@jupyter-widgets/controls",
          "model_name": "DescriptionStyleModel",
          "model_module_version": "1.5.0",
          "state": {
            "_model_module": "@jupyter-widgets/controls",
            "_model_module_version": "1.5.0",
            "_model_name": "DescriptionStyleModel",
            "_view_count": null,
            "_view_module": "@jupyter-widgets/base",
            "_view_module_version": "1.2.0",
            "_view_name": "StyleView",
            "description_width": ""
          }
        },
        "03b28532322648c482e9616c1a4ac81f": {
          "model_module": "@jupyter-widgets/controls",
          "model_name": "HBoxModel",
          "model_module_version": "1.5.0",
          "state": {
            "_dom_classes": [],
            "_model_module": "@jupyter-widgets/controls",
            "_model_module_version": "1.5.0",
            "_model_name": "HBoxModel",
            "_view_count": null,
            "_view_module": "@jupyter-widgets/controls",
            "_view_module_version": "1.5.0",
            "_view_name": "HBoxView",
            "box_style": "",
            "children": [
              "IPY_MODEL_e586bff9d16648e284e62d3faf3551f6",
              "IPY_MODEL_c7d1f6f101644ea9881fa0f25bfabda6",
              "IPY_MODEL_3833c5edac1643d39fed38e70b5b010c"
            ],
            "layout": "IPY_MODEL_dda733f6964644829f4259d31e4f7871"
          }
        },
        "e586bff9d16648e284e62d3faf3551f6": {
          "model_module": "@jupyter-widgets/controls",
          "model_name": "HTMLModel",
          "model_module_version": "1.5.0",
          "state": {
            "_dom_classes": [],
            "_model_module": "@jupyter-widgets/controls",
            "_model_module_version": "1.5.0",
            "_model_name": "HTMLModel",
            "_view_count": null,
            "_view_module": "@jupyter-widgets/controls",
            "_view_module_version": "1.5.0",
            "_view_name": "HTMLView",
            "description": "",
            "description_tooltip": null,
            "layout": "IPY_MODEL_9d0febec5d454ec68f80275fb8b04c9f",
            "placeholder": "​",
            "style": "IPY_MODEL_d0e0ca975d0f4428911fa703ff154907",
            "value": "tokenizer_config.json: 100%"
          }
        },
        "c7d1f6f101644ea9881fa0f25bfabda6": {
          "model_module": "@jupyter-widgets/controls",
          "model_name": "FloatProgressModel",
          "model_module_version": "1.5.0",
          "state": {
            "_dom_classes": [],
            "_model_module": "@jupyter-widgets/controls",
            "_model_module_version": "1.5.0",
            "_model_name": "FloatProgressModel",
            "_view_count": null,
            "_view_module": "@jupyter-widgets/controls",
            "_view_module_version": "1.5.0",
            "_view_name": "ProgressView",
            "bar_style": "success",
            "description": "",
            "description_tooltip": null,
            "layout": "IPY_MODEL_f8a3f7e521124263b4f776980eb4e45b",
            "max": 2539,
            "min": 0,
            "orientation": "horizontal",
            "style": "IPY_MODEL_38e508a67ad44373982dcd3b4d87ec38",
            "value": 2539
          }
        },
        "3833c5edac1643d39fed38e70b5b010c": {
          "model_module": "@jupyter-widgets/controls",
          "model_name": "HTMLModel",
          "model_module_version": "1.5.0",
          "state": {
            "_dom_classes": [],
            "_model_module": "@jupyter-widgets/controls",
            "_model_module_version": "1.5.0",
            "_model_name": "HTMLModel",
            "_view_count": null,
            "_view_module": "@jupyter-widgets/controls",
            "_view_module_version": "1.5.0",
            "_view_name": "HTMLView",
            "description": "",
            "description_tooltip": null,
            "layout": "IPY_MODEL_8a41e3e8bedb4077a91f1594764126bc",
            "placeholder": "​",
            "style": "IPY_MODEL_c4729e3725424deaaa61a2991f7b2ae7",
            "value": " 2.54k/2.54k [00:00&lt;00:00, 192kB/s]"
          }
        },
        "dda733f6964644829f4259d31e4f7871": {
          "model_module": "@jupyter-widgets/base",
          "model_name": "LayoutModel",
          "model_module_version": "1.2.0",
          "state": {
            "_model_module": "@jupyter-widgets/base",
            "_model_module_version": "1.2.0",
            "_model_name": "LayoutModel",
            "_view_count": null,
            "_view_module": "@jupyter-widgets/base",
            "_view_module_version": "1.2.0",
            "_view_name": "LayoutView",
            "align_content": null,
            "align_items": null,
            "align_self": null,
            "border": null,
            "bottom": null,
            "display": null,
            "flex": null,
            "flex_flow": null,
            "grid_area": null,
            "grid_auto_columns": null,
            "grid_auto_flow": null,
            "grid_auto_rows": null,
            "grid_column": null,
            "grid_gap": null,
            "grid_row": null,
            "grid_template_areas": null,
            "grid_template_columns": null,
            "grid_template_rows": null,
            "height": null,
            "justify_content": null,
            "justify_items": null,
            "left": null,
            "margin": null,
            "max_height": null,
            "max_width": null,
            "min_height": null,
            "min_width": null,
            "object_fit": null,
            "object_position": null,
            "order": null,
            "overflow": null,
            "overflow_x": null,
            "overflow_y": null,
            "padding": null,
            "right": null,
            "top": null,
            "visibility": null,
            "width": null
          }
        },
        "9d0febec5d454ec68f80275fb8b04c9f": {
          "model_module": "@jupyter-widgets/base",
          "model_name": "LayoutModel",
          "model_module_version": "1.2.0",
          "state": {
            "_model_module": "@jupyter-widgets/base",
            "_model_module_version": "1.2.0",
            "_model_name": "LayoutModel",
            "_view_count": null,
            "_view_module": "@jupyter-widgets/base",
            "_view_module_version": "1.2.0",
            "_view_name": "LayoutView",
            "align_content": null,
            "align_items": null,
            "align_self": null,
            "border": null,
            "bottom": null,
            "display": null,
            "flex": null,
            "flex_flow": null,
            "grid_area": null,
            "grid_auto_columns": null,
            "grid_auto_flow": null,
            "grid_auto_rows": null,
            "grid_column": null,
            "grid_gap": null,
            "grid_row": null,
            "grid_template_areas": null,
            "grid_template_columns": null,
            "grid_template_rows": null,
            "height": null,
            "justify_content": null,
            "justify_items": null,
            "left": null,
            "margin": null,
            "max_height": null,
            "max_width": null,
            "min_height": null,
            "min_width": null,
            "object_fit": null,
            "object_position": null,
            "order": null,
            "overflow": null,
            "overflow_x": null,
            "overflow_y": null,
            "padding": null,
            "right": null,
            "top": null,
            "visibility": null,
            "width": null
          }
        },
        "d0e0ca975d0f4428911fa703ff154907": {
          "model_module": "@jupyter-widgets/controls",
          "model_name": "DescriptionStyleModel",
          "model_module_version": "1.5.0",
          "state": {
            "_model_module": "@jupyter-widgets/controls",
            "_model_module_version": "1.5.0",
            "_model_name": "DescriptionStyleModel",
            "_view_count": null,
            "_view_module": "@jupyter-widgets/base",
            "_view_module_version": "1.2.0",
            "_view_name": "StyleView",
            "description_width": ""
          }
        },
        "f8a3f7e521124263b4f776980eb4e45b": {
          "model_module": "@jupyter-widgets/base",
          "model_name": "LayoutModel",
          "model_module_version": "1.2.0",
          "state": {
            "_model_module": "@jupyter-widgets/base",
            "_model_module_version": "1.2.0",
            "_model_name": "LayoutModel",
            "_view_count": null,
            "_view_module": "@jupyter-widgets/base",
            "_view_module_version": "1.2.0",
            "_view_name": "LayoutView",
            "align_content": null,
            "align_items": null,
            "align_self": null,
            "border": null,
            "bottom": null,
            "display": null,
            "flex": null,
            "flex_flow": null,
            "grid_area": null,
            "grid_auto_columns": null,
            "grid_auto_flow": null,
            "grid_auto_rows": null,
            "grid_column": null,
            "grid_gap": null,
            "grid_row": null,
            "grid_template_areas": null,
            "grid_template_columns": null,
            "grid_template_rows": null,
            "height": null,
            "justify_content": null,
            "justify_items": null,
            "left": null,
            "margin": null,
            "max_height": null,
            "max_width": null,
            "min_height": null,
            "min_width": null,
            "object_fit": null,
            "object_position": null,
            "order": null,
            "overflow": null,
            "overflow_x": null,
            "overflow_y": null,
            "padding": null,
            "right": null,
            "top": null,
            "visibility": null,
            "width": null
          }
        },
        "38e508a67ad44373982dcd3b4d87ec38": {
          "model_module": "@jupyter-widgets/controls",
          "model_name": "ProgressStyleModel",
          "model_module_version": "1.5.0",
          "state": {
            "_model_module": "@jupyter-widgets/controls",
            "_model_module_version": "1.5.0",
            "_model_name": "ProgressStyleModel",
            "_view_count": null,
            "_view_module": "@jupyter-widgets/base",
            "_view_module_version": "1.2.0",
            "_view_name": "StyleView",
            "bar_color": null,
            "description_width": ""
          }
        },
        "8a41e3e8bedb4077a91f1594764126bc": {
          "model_module": "@jupyter-widgets/base",
          "model_name": "LayoutModel",
          "model_module_version": "1.2.0",
          "state": {
            "_model_module": "@jupyter-widgets/base",
            "_model_module_version": "1.2.0",
            "_model_name": "LayoutModel",
            "_view_count": null,
            "_view_module": "@jupyter-widgets/base",
            "_view_module_version": "1.2.0",
            "_view_name": "LayoutView",
            "align_content": null,
            "align_items": null,
            "align_self": null,
            "border": null,
            "bottom": null,
            "display": null,
            "flex": null,
            "flex_flow": null,
            "grid_area": null,
            "grid_auto_columns": null,
            "grid_auto_flow": null,
            "grid_auto_rows": null,
            "grid_column": null,
            "grid_gap": null,
            "grid_row": null,
            "grid_template_areas": null,
            "grid_template_columns": null,
            "grid_template_rows": null,
            "height": null,
            "justify_content": null,
            "justify_items": null,
            "left": null,
            "margin": null,
            "max_height": null,
            "max_width": null,
            "min_height": null,
            "min_width": null,
            "object_fit": null,
            "object_position": null,
            "order": null,
            "overflow": null,
            "overflow_x": null,
            "overflow_y": null,
            "padding": null,
            "right": null,
            "top": null,
            "visibility": null,
            "width": null
          }
        },
        "c4729e3725424deaaa61a2991f7b2ae7": {
          "model_module": "@jupyter-widgets/controls",
          "model_name": "DescriptionStyleModel",
          "model_module_version": "1.5.0",
          "state": {
            "_model_module": "@jupyter-widgets/controls",
            "_model_module_version": "1.5.0",
            "_model_name": "DescriptionStyleModel",
            "_view_count": null,
            "_view_module": "@jupyter-widgets/base",
            "_view_module_version": "1.2.0",
            "_view_name": "StyleView",
            "description_width": ""
          }
        },
        "5c9ebd884c29423bb6619d948c78d716": {
          "model_module": "@jupyter-widgets/controls",
          "model_name": "HBoxModel",
          "model_module_version": "1.5.0",
          "state": {
            "_dom_classes": [],
            "_model_module": "@jupyter-widgets/controls",
            "_model_module_version": "1.5.0",
            "_model_name": "HBoxModel",
            "_view_count": null,
            "_view_module": "@jupyter-widgets/controls",
            "_view_module_version": "1.5.0",
            "_view_name": "HBoxView",
            "box_style": "",
            "children": [
              "IPY_MODEL_50d89ab7f7ca41139258ebaf9fc16d37",
              "IPY_MODEL_14180a13bb484c90bc92e7593df4177f",
              "IPY_MODEL_136b1ca6424a44c2bb4d54b40fb5401a"
            ],
            "layout": "IPY_MODEL_1772efe6fbbc42419368cc63fc9950f0"
          }
        },
        "50d89ab7f7ca41139258ebaf9fc16d37": {
          "model_module": "@jupyter-widgets/controls",
          "model_name": "HTMLModel",
          "model_module_version": "1.5.0",
          "state": {
            "_dom_classes": [],
            "_model_module": "@jupyter-widgets/controls",
            "_model_module_version": "1.5.0",
            "_model_name": "HTMLModel",
            "_view_count": null,
            "_view_module": "@jupyter-widgets/controls",
            "_view_module_version": "1.5.0",
            "_view_name": "HTMLView",
            "description": "",
            "description_tooltip": null,
            "layout": "IPY_MODEL_c360de6d6b2e4cd58cfe36102dc4c28b",
            "placeholder": "​",
            "style": "IPY_MODEL_80797fa4ebc246948fa33ad6c7ee45b5",
            "value": "spiece.model: 100%"
          }
        },
        "14180a13bb484c90bc92e7593df4177f": {
          "model_module": "@jupyter-widgets/controls",
          "model_name": "FloatProgressModel",
          "model_module_version": "1.5.0",
          "state": {
            "_dom_classes": [],
            "_model_module": "@jupyter-widgets/controls",
            "_model_module_version": "1.5.0",
            "_model_name": "FloatProgressModel",
            "_view_count": null,
            "_view_module": "@jupyter-widgets/controls",
            "_view_module_version": "1.5.0",
            "_view_name": "ProgressView",
            "bar_style": "success",
            "description": "",
            "description_tooltip": null,
            "layout": "IPY_MODEL_6072fd9e341b47a38bdbeb07261857fe",
            "max": 791656,
            "min": 0,
            "orientation": "horizontal",
            "style": "IPY_MODEL_f65040e7d3494421b03eadc5357c691f",
            "value": 791656
          }
        },
        "136b1ca6424a44c2bb4d54b40fb5401a": {
          "model_module": "@jupyter-widgets/controls",
          "model_name": "HTMLModel",
          "model_module_version": "1.5.0",
          "state": {
            "_dom_classes": [],
            "_model_module": "@jupyter-widgets/controls",
            "_model_module_version": "1.5.0",
            "_model_name": "HTMLModel",
            "_view_count": null,
            "_view_module": "@jupyter-widgets/controls",
            "_view_module_version": "1.5.0",
            "_view_name": "HTMLView",
            "description": "",
            "description_tooltip": null,
            "layout": "IPY_MODEL_d1c68001835c451fbd29404d436e1891",
            "placeholder": "​",
            "style": "IPY_MODEL_c84934ca40e243518afc5d21cea6f088",
            "value": " 792k/792k [00:00&lt;00:00, 9.18MB/s]"
          }
        },
        "1772efe6fbbc42419368cc63fc9950f0": {
          "model_module": "@jupyter-widgets/base",
          "model_name": "LayoutModel",
          "model_module_version": "1.2.0",
          "state": {
            "_model_module": "@jupyter-widgets/base",
            "_model_module_version": "1.2.0",
            "_model_name": "LayoutModel",
            "_view_count": null,
            "_view_module": "@jupyter-widgets/base",
            "_view_module_version": "1.2.0",
            "_view_name": "LayoutView",
            "align_content": null,
            "align_items": null,
            "align_self": null,
            "border": null,
            "bottom": null,
            "display": null,
            "flex": null,
            "flex_flow": null,
            "grid_area": null,
            "grid_auto_columns": null,
            "grid_auto_flow": null,
            "grid_auto_rows": null,
            "grid_column": null,
            "grid_gap": null,
            "grid_row": null,
            "grid_template_areas": null,
            "grid_template_columns": null,
            "grid_template_rows": null,
            "height": null,
            "justify_content": null,
            "justify_items": null,
            "left": null,
            "margin": null,
            "max_height": null,
            "max_width": null,
            "min_height": null,
            "min_width": null,
            "object_fit": null,
            "object_position": null,
            "order": null,
            "overflow": null,
            "overflow_x": null,
            "overflow_y": null,
            "padding": null,
            "right": null,
            "top": null,
            "visibility": null,
            "width": null
          }
        },
        "c360de6d6b2e4cd58cfe36102dc4c28b": {
          "model_module": "@jupyter-widgets/base",
          "model_name": "LayoutModel",
          "model_module_version": "1.2.0",
          "state": {
            "_model_module": "@jupyter-widgets/base",
            "_model_module_version": "1.2.0",
            "_model_name": "LayoutModel",
            "_view_count": null,
            "_view_module": "@jupyter-widgets/base",
            "_view_module_version": "1.2.0",
            "_view_name": "LayoutView",
            "align_content": null,
            "align_items": null,
            "align_self": null,
            "border": null,
            "bottom": null,
            "display": null,
            "flex": null,
            "flex_flow": null,
            "grid_area": null,
            "grid_auto_columns": null,
            "grid_auto_flow": null,
            "grid_auto_rows": null,
            "grid_column": null,
            "grid_gap": null,
            "grid_row": null,
            "grid_template_areas": null,
            "grid_template_columns": null,
            "grid_template_rows": null,
            "height": null,
            "justify_content": null,
            "justify_items": null,
            "left": null,
            "margin": null,
            "max_height": null,
            "max_width": null,
            "min_height": null,
            "min_width": null,
            "object_fit": null,
            "object_position": null,
            "order": null,
            "overflow": null,
            "overflow_x": null,
            "overflow_y": null,
            "padding": null,
            "right": null,
            "top": null,
            "visibility": null,
            "width": null
          }
        },
        "80797fa4ebc246948fa33ad6c7ee45b5": {
          "model_module": "@jupyter-widgets/controls",
          "model_name": "DescriptionStyleModel",
          "model_module_version": "1.5.0",
          "state": {
            "_model_module": "@jupyter-widgets/controls",
            "_model_module_version": "1.5.0",
            "_model_name": "DescriptionStyleModel",
            "_view_count": null,
            "_view_module": "@jupyter-widgets/base",
            "_view_module_version": "1.2.0",
            "_view_name": "StyleView",
            "description_width": ""
          }
        },
        "6072fd9e341b47a38bdbeb07261857fe": {
          "model_module": "@jupyter-widgets/base",
          "model_name": "LayoutModel",
          "model_module_version": "1.2.0",
          "state": {
            "_model_module": "@jupyter-widgets/base",
            "_model_module_version": "1.2.0",
            "_model_name": "LayoutModel",
            "_view_count": null,
            "_view_module": "@jupyter-widgets/base",
            "_view_module_version": "1.2.0",
            "_view_name": "LayoutView",
            "align_content": null,
            "align_items": null,
            "align_self": null,
            "border": null,
            "bottom": null,
            "display": null,
            "flex": null,
            "flex_flow": null,
            "grid_area": null,
            "grid_auto_columns": null,
            "grid_auto_flow": null,
            "grid_auto_rows": null,
            "grid_column": null,
            "grid_gap": null,
            "grid_row": null,
            "grid_template_areas": null,
            "grid_template_columns": null,
            "grid_template_rows": null,
            "height": null,
            "justify_content": null,
            "justify_items": null,
            "left": null,
            "margin": null,
            "max_height": null,
            "max_width": null,
            "min_height": null,
            "min_width": null,
            "object_fit": null,
            "object_position": null,
            "order": null,
            "overflow": null,
            "overflow_x": null,
            "overflow_y": null,
            "padding": null,
            "right": null,
            "top": null,
            "visibility": null,
            "width": null
          }
        },
        "f65040e7d3494421b03eadc5357c691f": {
          "model_module": "@jupyter-widgets/controls",
          "model_name": "ProgressStyleModel",
          "model_module_version": "1.5.0",
          "state": {
            "_model_module": "@jupyter-widgets/controls",
            "_model_module_version": "1.5.0",
            "_model_name": "ProgressStyleModel",
            "_view_count": null,
            "_view_module": "@jupyter-widgets/base",
            "_view_module_version": "1.2.0",
            "_view_name": "StyleView",
            "bar_color": null,
            "description_width": ""
          }
        },
        "d1c68001835c451fbd29404d436e1891": {
          "model_module": "@jupyter-widgets/base",
          "model_name": "LayoutModel",
          "model_module_version": "1.2.0",
          "state": {
            "_model_module": "@jupyter-widgets/base",
            "_model_module_version": "1.2.0",
            "_model_name": "LayoutModel",
            "_view_count": null,
            "_view_module": "@jupyter-widgets/base",
            "_view_module_version": "1.2.0",
            "_view_name": "LayoutView",
            "align_content": null,
            "align_items": null,
            "align_self": null,
            "border": null,
            "bottom": null,
            "display": null,
            "flex": null,
            "flex_flow": null,
            "grid_area": null,
            "grid_auto_columns": null,
            "grid_auto_flow": null,
            "grid_auto_rows": null,
            "grid_column": null,
            "grid_gap": null,
            "grid_row": null,
            "grid_template_areas": null,
            "grid_template_columns": null,
            "grid_template_rows": null,
            "height": null,
            "justify_content": null,
            "justify_items": null,
            "left": null,
            "margin": null,
            "max_height": null,
            "max_width": null,
            "min_height": null,
            "min_width": null,
            "object_fit": null,
            "object_position": null,
            "order": null,
            "overflow": null,
            "overflow_x": null,
            "overflow_y": null,
            "padding": null,
            "right": null,
            "top": null,
            "visibility": null,
            "width": null
          }
        },
        "c84934ca40e243518afc5d21cea6f088": {
          "model_module": "@jupyter-widgets/controls",
          "model_name": "DescriptionStyleModel",
          "model_module_version": "1.5.0",
          "state": {
            "_model_module": "@jupyter-widgets/controls",
            "_model_module_version": "1.5.0",
            "_model_name": "DescriptionStyleModel",
            "_view_count": null,
            "_view_module": "@jupyter-widgets/base",
            "_view_module_version": "1.2.0",
            "_view_name": "StyleView",
            "description_width": ""
          }
        },
        "393da5b8d3604b97847c9c4421272407": {
          "model_module": "@jupyter-widgets/controls",
          "model_name": "HBoxModel",
          "model_module_version": "1.5.0",
          "state": {
            "_dom_classes": [],
            "_model_module": "@jupyter-widgets/controls",
            "_model_module_version": "1.5.0",
            "_model_name": "HBoxModel",
            "_view_count": null,
            "_view_module": "@jupyter-widgets/controls",
            "_view_module_version": "1.5.0",
            "_view_name": "HBoxView",
            "box_style": "",
            "children": [
              "IPY_MODEL_f4ddcc7a0a7b49979aa4a7cb00f48909",
              "IPY_MODEL_b1b7c5895ca6457bbea2932c59afd916",
              "IPY_MODEL_fc5f7abe17654c77bfe3bbb867354f05"
            ],
            "layout": "IPY_MODEL_98779592b447468b8930b1bdb4cd1bbf"
          }
        },
        "f4ddcc7a0a7b49979aa4a7cb00f48909": {
          "model_module": "@jupyter-widgets/controls",
          "model_name": "HTMLModel",
          "model_module_version": "1.5.0",
          "state": {
            "_dom_classes": [],
            "_model_module": "@jupyter-widgets/controls",
            "_model_module_version": "1.5.0",
            "_model_name": "HTMLModel",
            "_view_count": null,
            "_view_module": "@jupyter-widgets/controls",
            "_view_module_version": "1.5.0",
            "_view_name": "HTMLView",
            "description": "",
            "description_tooltip": null,
            "layout": "IPY_MODEL_1ea0f3037e3e43a691e894fae4cb2a8e",
            "placeholder": "​",
            "style": "IPY_MODEL_3f4147ed8cad4035aac44c146faba16e",
            "value": "tokenizer.json: 100%"
          }
        },
        "b1b7c5895ca6457bbea2932c59afd916": {
          "model_module": "@jupyter-widgets/controls",
          "model_name": "FloatProgressModel",
          "model_module_version": "1.5.0",
          "state": {
            "_dom_classes": [],
            "_model_module": "@jupyter-widgets/controls",
            "_model_module_version": "1.5.0",
            "_model_name": "FloatProgressModel",
            "_view_count": null,
            "_view_module": "@jupyter-widgets/controls",
            "_view_module_version": "1.5.0",
            "_view_name": "ProgressView",
            "bar_style": "success",
            "description": "",
            "description_tooltip": null,
            "layout": "IPY_MODEL_cd5df01e7ae14866b52650df3a0797a6",
            "max": 2424064,
            "min": 0,
            "orientation": "horizontal",
            "style": "IPY_MODEL_77ca88a7152445b8bf38999dd9d3d4af",
            "value": 2424064
          }
        },
        "fc5f7abe17654c77bfe3bbb867354f05": {
          "model_module": "@jupyter-widgets/controls",
          "model_name": "HTMLModel",
          "model_module_version": "1.5.0",
          "state": {
            "_dom_classes": [],
            "_model_module": "@jupyter-widgets/controls",
            "_model_module_version": "1.5.0",
            "_model_name": "HTMLModel",
            "_view_count": null,
            "_view_module": "@jupyter-widgets/controls",
            "_view_module_version": "1.5.0",
            "_view_name": "HTMLView",
            "description": "",
            "description_tooltip": null,
            "layout": "IPY_MODEL_2d1fd7c5f54b4e2f83a542ad8b2e7ffc",
            "placeholder": "​",
            "style": "IPY_MODEL_f48369ce087e411b9d9ab0b0c74b7f8f",
            "value": " 2.42M/2.42M [00:00&lt;00:00, 9.23MB/s]"
          }
        },
        "98779592b447468b8930b1bdb4cd1bbf": {
          "model_module": "@jupyter-widgets/base",
          "model_name": "LayoutModel",
          "model_module_version": "1.2.0",
          "state": {
            "_model_module": "@jupyter-widgets/base",
            "_model_module_version": "1.2.0",
            "_model_name": "LayoutModel",
            "_view_count": null,
            "_view_module": "@jupyter-widgets/base",
            "_view_module_version": "1.2.0",
            "_view_name": "LayoutView",
            "align_content": null,
            "align_items": null,
            "align_self": null,
            "border": null,
            "bottom": null,
            "display": null,
            "flex": null,
            "flex_flow": null,
            "grid_area": null,
            "grid_auto_columns": null,
            "grid_auto_flow": null,
            "grid_auto_rows": null,
            "grid_column": null,
            "grid_gap": null,
            "grid_row": null,
            "grid_template_areas": null,
            "grid_template_columns": null,
            "grid_template_rows": null,
            "height": null,
            "justify_content": null,
            "justify_items": null,
            "left": null,
            "margin": null,
            "max_height": null,
            "max_width": null,
            "min_height": null,
            "min_width": null,
            "object_fit": null,
            "object_position": null,
            "order": null,
            "overflow": null,
            "overflow_x": null,
            "overflow_y": null,
            "padding": null,
            "right": null,
            "top": null,
            "visibility": null,
            "width": null
          }
        },
        "1ea0f3037e3e43a691e894fae4cb2a8e": {
          "model_module": "@jupyter-widgets/base",
          "model_name": "LayoutModel",
          "model_module_version": "1.2.0",
          "state": {
            "_model_module": "@jupyter-widgets/base",
            "_model_module_version": "1.2.0",
            "_model_name": "LayoutModel",
            "_view_count": null,
            "_view_module": "@jupyter-widgets/base",
            "_view_module_version": "1.2.0",
            "_view_name": "LayoutView",
            "align_content": null,
            "align_items": null,
            "align_self": null,
            "border": null,
            "bottom": null,
            "display": null,
            "flex": null,
            "flex_flow": null,
            "grid_area": null,
            "grid_auto_columns": null,
            "grid_auto_flow": null,
            "grid_auto_rows": null,
            "grid_column": null,
            "grid_gap": null,
            "grid_row": null,
            "grid_template_areas": null,
            "grid_template_columns": null,
            "grid_template_rows": null,
            "height": null,
            "justify_content": null,
            "justify_items": null,
            "left": null,
            "margin": null,
            "max_height": null,
            "max_width": null,
            "min_height": null,
            "min_width": null,
            "object_fit": null,
            "object_position": null,
            "order": null,
            "overflow": null,
            "overflow_x": null,
            "overflow_y": null,
            "padding": null,
            "right": null,
            "top": null,
            "visibility": null,
            "width": null
          }
        },
        "3f4147ed8cad4035aac44c146faba16e": {
          "model_module": "@jupyter-widgets/controls",
          "model_name": "DescriptionStyleModel",
          "model_module_version": "1.5.0",
          "state": {
            "_model_module": "@jupyter-widgets/controls",
            "_model_module_version": "1.5.0",
            "_model_name": "DescriptionStyleModel",
            "_view_count": null,
            "_view_module": "@jupyter-widgets/base",
            "_view_module_version": "1.2.0",
            "_view_name": "StyleView",
            "description_width": ""
          }
        },
        "cd5df01e7ae14866b52650df3a0797a6": {
          "model_module": "@jupyter-widgets/base",
          "model_name": "LayoutModel",
          "model_module_version": "1.2.0",
          "state": {
            "_model_module": "@jupyter-widgets/base",
            "_model_module_version": "1.2.0",
            "_model_name": "LayoutModel",
            "_view_count": null,
            "_view_module": "@jupyter-widgets/base",
            "_view_module_version": "1.2.0",
            "_view_name": "LayoutView",
            "align_content": null,
            "align_items": null,
            "align_self": null,
            "border": null,
            "bottom": null,
            "display": null,
            "flex": null,
            "flex_flow": null,
            "grid_area": null,
            "grid_auto_columns": null,
            "grid_auto_flow": null,
            "grid_auto_rows": null,
            "grid_column": null,
            "grid_gap": null,
            "grid_row": null,
            "grid_template_areas": null,
            "grid_template_columns": null,
            "grid_template_rows": null,
            "height": null,
            "justify_content": null,
            "justify_items": null,
            "left": null,
            "margin": null,
            "max_height": null,
            "max_width": null,
            "min_height": null,
            "min_width": null,
            "object_fit": null,
            "object_position": null,
            "order": null,
            "overflow": null,
            "overflow_x": null,
            "overflow_y": null,
            "padding": null,
            "right": null,
            "top": null,
            "visibility": null,
            "width": null
          }
        },
        "77ca88a7152445b8bf38999dd9d3d4af": {
          "model_module": "@jupyter-widgets/controls",
          "model_name": "ProgressStyleModel",
          "model_module_version": "1.5.0",
          "state": {
            "_model_module": "@jupyter-widgets/controls",
            "_model_module_version": "1.5.0",
            "_model_name": "ProgressStyleModel",
            "_view_count": null,
            "_view_module": "@jupyter-widgets/base",
            "_view_module_version": "1.2.0",
            "_view_name": "StyleView",
            "bar_color": null,
            "description_width": ""
          }
        },
        "2d1fd7c5f54b4e2f83a542ad8b2e7ffc": {
          "model_module": "@jupyter-widgets/base",
          "model_name": "LayoutModel",
          "model_module_version": "1.2.0",
          "state": {
            "_model_module": "@jupyter-widgets/base",
            "_model_module_version": "1.2.0",
            "_model_name": "LayoutModel",
            "_view_count": null,
            "_view_module": "@jupyter-widgets/base",
            "_view_module_version": "1.2.0",
            "_view_name": "LayoutView",
            "align_content": null,
            "align_items": null,
            "align_self": null,
            "border": null,
            "bottom": null,
            "display": null,
            "flex": null,
            "flex_flow": null,
            "grid_area": null,
            "grid_auto_columns": null,
            "grid_auto_flow": null,
            "grid_auto_rows": null,
            "grid_column": null,
            "grid_gap": null,
            "grid_row": null,
            "grid_template_areas": null,
            "grid_template_columns": null,
            "grid_template_rows": null,
            "height": null,
            "justify_content": null,
            "justify_items": null,
            "left": null,
            "margin": null,
            "max_height": null,
            "max_width": null,
            "min_height": null,
            "min_width": null,
            "object_fit": null,
            "object_position": null,
            "order": null,
            "overflow": null,
            "overflow_x": null,
            "overflow_y": null,
            "padding": null,
            "right": null,
            "top": null,
            "visibility": null,
            "width": null
          }
        },
        "f48369ce087e411b9d9ab0b0c74b7f8f": {
          "model_module": "@jupyter-widgets/controls",
          "model_name": "DescriptionStyleModel",
          "model_module_version": "1.5.0",
          "state": {
            "_model_module": "@jupyter-widgets/controls",
            "_model_module_version": "1.5.0",
            "_model_name": "DescriptionStyleModel",
            "_view_count": null,
            "_view_module": "@jupyter-widgets/base",
            "_view_module_version": "1.2.0",
            "_view_name": "StyleView",
            "description_width": ""
          }
        },
        "caa96e4f5f804bfdb5adc5826de792cf": {
          "model_module": "@jupyter-widgets/controls",
          "model_name": "HBoxModel",
          "model_module_version": "1.5.0",
          "state": {
            "_dom_classes": [],
            "_model_module": "@jupyter-widgets/controls",
            "_model_module_version": "1.5.0",
            "_model_name": "HBoxModel",
            "_view_count": null,
            "_view_module": "@jupyter-widgets/controls",
            "_view_module_version": "1.5.0",
            "_view_name": "HBoxView",
            "box_style": "",
            "children": [
              "IPY_MODEL_ce381cc6edee4dfaadfe49589bd22d80",
              "IPY_MODEL_94359891e6c14b079250e9788a73a447",
              "IPY_MODEL_32544f8dce28460d99b8cd889505b4b0"
            ],
            "layout": "IPY_MODEL_d12d04ec527549bd921f6c16d4da701e"
          }
        },
        "ce381cc6edee4dfaadfe49589bd22d80": {
          "model_module": "@jupyter-widgets/controls",
          "model_name": "HTMLModel",
          "model_module_version": "1.5.0",
          "state": {
            "_dom_classes": [],
            "_model_module": "@jupyter-widgets/controls",
            "_model_module_version": "1.5.0",
            "_model_name": "HTMLModel",
            "_view_count": null,
            "_view_module": "@jupyter-widgets/controls",
            "_view_module_version": "1.5.0",
            "_view_name": "HTMLView",
            "description": "",
            "description_tooltip": null,
            "layout": "IPY_MODEL_67fdb8b0fd554c588516aa301569acee",
            "placeholder": "​",
            "style": "IPY_MODEL_7f61c88d87d141af9576224c838607fe",
            "value": "special_tokens_map.json: 100%"
          }
        },
        "94359891e6c14b079250e9788a73a447": {
          "model_module": "@jupyter-widgets/controls",
          "model_name": "FloatProgressModel",
          "model_module_version": "1.5.0",
          "state": {
            "_dom_classes": [],
            "_model_module": "@jupyter-widgets/controls",
            "_model_module_version": "1.5.0",
            "_model_name": "FloatProgressModel",
            "_view_count": null,
            "_view_module": "@jupyter-widgets/controls",
            "_view_module_version": "1.5.0",
            "_view_name": "ProgressView",
            "bar_style": "success",
            "description": "",
            "description_tooltip": null,
            "layout": "IPY_MODEL_b9ebeea2ad8c408cb09092d2a115c8a5",
            "max": 2201,
            "min": 0,
            "orientation": "horizontal",
            "style": "IPY_MODEL_30f0fa4e4dc945a89a32ef1d2074074c",
            "value": 2201
          }
        },
        "32544f8dce28460d99b8cd889505b4b0": {
          "model_module": "@jupyter-widgets/controls",
          "model_name": "HTMLModel",
          "model_module_version": "1.5.0",
          "state": {
            "_dom_classes": [],
            "_model_module": "@jupyter-widgets/controls",
            "_model_module_version": "1.5.0",
            "_model_name": "HTMLModel",
            "_view_count": null,
            "_view_module": "@jupyter-widgets/controls",
            "_view_module_version": "1.5.0",
            "_view_name": "HTMLView",
            "description": "",
            "description_tooltip": null,
            "layout": "IPY_MODEL_3ca90cebc54f41f7adff8ed4ed958318",
            "placeholder": "​",
            "style": "IPY_MODEL_eb302679068f43008211b0ed3a37492b",
            "value": " 2.20k/2.20k [00:00&lt;00:00, 163kB/s]"
          }
        },
        "d12d04ec527549bd921f6c16d4da701e": {
          "model_module": "@jupyter-widgets/base",
          "model_name": "LayoutModel",
          "model_module_version": "1.2.0",
          "state": {
            "_model_module": "@jupyter-widgets/base",
            "_model_module_version": "1.2.0",
            "_model_name": "LayoutModel",
            "_view_count": null,
            "_view_module": "@jupyter-widgets/base",
            "_view_module_version": "1.2.0",
            "_view_name": "LayoutView",
            "align_content": null,
            "align_items": null,
            "align_self": null,
            "border": null,
            "bottom": null,
            "display": null,
            "flex": null,
            "flex_flow": null,
            "grid_area": null,
            "grid_auto_columns": null,
            "grid_auto_flow": null,
            "grid_auto_rows": null,
            "grid_column": null,
            "grid_gap": null,
            "grid_row": null,
            "grid_template_areas": null,
            "grid_template_columns": null,
            "grid_template_rows": null,
            "height": null,
            "justify_content": null,
            "justify_items": null,
            "left": null,
            "margin": null,
            "max_height": null,
            "max_width": null,
            "min_height": null,
            "min_width": null,
            "object_fit": null,
            "object_position": null,
            "order": null,
            "overflow": null,
            "overflow_x": null,
            "overflow_y": null,
            "padding": null,
            "right": null,
            "top": null,
            "visibility": null,
            "width": null
          }
        },
        "67fdb8b0fd554c588516aa301569acee": {
          "model_module": "@jupyter-widgets/base",
          "model_name": "LayoutModel",
          "model_module_version": "1.2.0",
          "state": {
            "_model_module": "@jupyter-widgets/base",
            "_model_module_version": "1.2.0",
            "_model_name": "LayoutModel",
            "_view_count": null,
            "_view_module": "@jupyter-widgets/base",
            "_view_module_version": "1.2.0",
            "_view_name": "LayoutView",
            "align_content": null,
            "align_items": null,
            "align_self": null,
            "border": null,
            "bottom": null,
            "display": null,
            "flex": null,
            "flex_flow": null,
            "grid_area": null,
            "grid_auto_columns": null,
            "grid_auto_flow": null,
            "grid_auto_rows": null,
            "grid_column": null,
            "grid_gap": null,
            "grid_row": null,
            "grid_template_areas": null,
            "grid_template_columns": null,
            "grid_template_rows": null,
            "height": null,
            "justify_content": null,
            "justify_items": null,
            "left": null,
            "margin": null,
            "max_height": null,
            "max_width": null,
            "min_height": null,
            "min_width": null,
            "object_fit": null,
            "object_position": null,
            "order": null,
            "overflow": null,
            "overflow_x": null,
            "overflow_y": null,
            "padding": null,
            "right": null,
            "top": null,
            "visibility": null,
            "width": null
          }
        },
        "7f61c88d87d141af9576224c838607fe": {
          "model_module": "@jupyter-widgets/controls",
          "model_name": "DescriptionStyleModel",
          "model_module_version": "1.5.0",
          "state": {
            "_model_module": "@jupyter-widgets/controls",
            "_model_module_version": "1.5.0",
            "_model_name": "DescriptionStyleModel",
            "_view_count": null,
            "_view_module": "@jupyter-widgets/base",
            "_view_module_version": "1.2.0",
            "_view_name": "StyleView",
            "description_width": ""
          }
        },
        "b9ebeea2ad8c408cb09092d2a115c8a5": {
          "model_module": "@jupyter-widgets/base",
          "model_name": "LayoutModel",
          "model_module_version": "1.2.0",
          "state": {
            "_model_module": "@jupyter-widgets/base",
            "_model_module_version": "1.2.0",
            "_model_name": "LayoutModel",
            "_view_count": null,
            "_view_module": "@jupyter-widgets/base",
            "_view_module_version": "1.2.0",
            "_view_name": "LayoutView",
            "align_content": null,
            "align_items": null,
            "align_self": null,
            "border": null,
            "bottom": null,
            "display": null,
            "flex": null,
            "flex_flow": null,
            "grid_area": null,
            "grid_auto_columns": null,
            "grid_auto_flow": null,
            "grid_auto_rows": null,
            "grid_column": null,
            "grid_gap": null,
            "grid_row": null,
            "grid_template_areas": null,
            "grid_template_columns": null,
            "grid_template_rows": null,
            "height": null,
            "justify_content": null,
            "justify_items": null,
            "left": null,
            "margin": null,
            "max_height": null,
            "max_width": null,
            "min_height": null,
            "min_width": null,
            "object_fit": null,
            "object_position": null,
            "order": null,
            "overflow": null,
            "overflow_x": null,
            "overflow_y": null,
            "padding": null,
            "right": null,
            "top": null,
            "visibility": null,
            "width": null
          }
        },
        "30f0fa4e4dc945a89a32ef1d2074074c": {
          "model_module": "@jupyter-widgets/controls",
          "model_name": "ProgressStyleModel",
          "model_module_version": "1.5.0",
          "state": {
            "_model_module": "@jupyter-widgets/controls",
            "_model_module_version": "1.5.0",
            "_model_name": "ProgressStyleModel",
            "_view_count": null,
            "_view_module": "@jupyter-widgets/base",
            "_view_module_version": "1.2.0",
            "_view_name": "StyleView",
            "bar_color": null,
            "description_width": ""
          }
        },
        "3ca90cebc54f41f7adff8ed4ed958318": {
          "model_module": "@jupyter-widgets/base",
          "model_name": "LayoutModel",
          "model_module_version": "1.2.0",
          "state": {
            "_model_module": "@jupyter-widgets/base",
            "_model_module_version": "1.2.0",
            "_model_name": "LayoutModel",
            "_view_count": null,
            "_view_module": "@jupyter-widgets/base",
            "_view_module_version": "1.2.0",
            "_view_name": "LayoutView",
            "align_content": null,
            "align_items": null,
            "align_self": null,
            "border": null,
            "bottom": null,
            "display": null,
            "flex": null,
            "flex_flow": null,
            "grid_area": null,
            "grid_auto_columns": null,
            "grid_auto_flow": null,
            "grid_auto_rows": null,
            "grid_column": null,
            "grid_gap": null,
            "grid_row": null,
            "grid_template_areas": null,
            "grid_template_columns": null,
            "grid_template_rows": null,
            "height": null,
            "justify_content": null,
            "justify_items": null,
            "left": null,
            "margin": null,
            "max_height": null,
            "max_width": null,
            "min_height": null,
            "min_width": null,
            "object_fit": null,
            "object_position": null,
            "order": null,
            "overflow": null,
            "overflow_x": null,
            "overflow_y": null,
            "padding": null,
            "right": null,
            "top": null,
            "visibility": null,
            "width": null
          }
        },
        "eb302679068f43008211b0ed3a37492b": {
          "model_module": "@jupyter-widgets/controls",
          "model_name": "DescriptionStyleModel",
          "model_module_version": "1.5.0",
          "state": {
            "_model_module": "@jupyter-widgets/controls",
            "_model_module_version": "1.5.0",
            "_model_name": "DescriptionStyleModel",
            "_view_count": null,
            "_view_module": "@jupyter-widgets/base",
            "_view_module_version": "1.2.0",
            "_view_name": "StyleView",
            "description_width": ""
          }
        },
        "ee454c26768b44b2a8dc61d640f8d19d": {
          "model_module": "@jupyter-widgets/controls",
          "model_name": "HBoxModel",
          "model_module_version": "1.5.0",
          "state": {
            "_dom_classes": [],
            "_model_module": "@jupyter-widgets/controls",
            "_model_module_version": "1.5.0",
            "_model_name": "HBoxModel",
            "_view_count": null,
            "_view_module": "@jupyter-widgets/controls",
            "_view_module_version": "1.5.0",
            "_view_name": "HBoxView",
            "box_style": "",
            "children": [
              "IPY_MODEL_98ba8111ccee409b92555786e64cb991",
              "IPY_MODEL_dbf857b080624a529a57c22526cf403a",
              "IPY_MODEL_baa1bdac9e76417789b1e5877f561f8b"
            ],
            "layout": "IPY_MODEL_f0d53164ebbd40aea60973dccb04e138"
          }
        },
        "98ba8111ccee409b92555786e64cb991": {
          "model_module": "@jupyter-widgets/controls",
          "model_name": "HTMLModel",
          "model_module_version": "1.5.0",
          "state": {
            "_dom_classes": [],
            "_model_module": "@jupyter-widgets/controls",
            "_model_module_version": "1.5.0",
            "_model_name": "HTMLModel",
            "_view_count": null,
            "_view_module": "@jupyter-widgets/controls",
            "_view_module_version": "1.5.0",
            "_view_name": "HTMLView",
            "description": "",
            "description_tooltip": null,
            "layout": "IPY_MODEL_d6ddc52d226443bfb4218f8cc133f84b",
            "placeholder": "​",
            "style": "IPY_MODEL_3ff09522bca84bb090368f9fe4543c57",
            "value": "config.json: 100%"
          }
        },
        "dbf857b080624a529a57c22526cf403a": {
          "model_module": "@jupyter-widgets/controls",
          "model_name": "FloatProgressModel",
          "model_module_version": "1.5.0",
          "state": {
            "_dom_classes": [],
            "_model_module": "@jupyter-widgets/controls",
            "_model_module_version": "1.5.0",
            "_model_name": "FloatProgressModel",
            "_view_count": null,
            "_view_module": "@jupyter-widgets/controls",
            "_view_module_version": "1.5.0",
            "_view_name": "ProgressView",
            "bar_style": "success",
            "description": "",
            "description_tooltip": null,
            "layout": "IPY_MODEL_0a979d7961e0438ebc98f10eab68c9fe",
            "max": 662,
            "min": 0,
            "orientation": "horizontal",
            "style": "IPY_MODEL_1bc39661b84a4b5b950177543c1decec",
            "value": 662
          }
        },
        "baa1bdac9e76417789b1e5877f561f8b": {
          "model_module": "@jupyter-widgets/controls",
          "model_name": "HTMLModel",
          "model_module_version": "1.5.0",
          "state": {
            "_dom_classes": [],
            "_model_module": "@jupyter-widgets/controls",
            "_model_module_version": "1.5.0",
            "_model_name": "HTMLModel",
            "_view_count": null,
            "_view_module": "@jupyter-widgets/controls",
            "_view_module_version": "1.5.0",
            "_view_name": "HTMLView",
            "description": "",
            "description_tooltip": null,
            "layout": "IPY_MODEL_b68fe811bc6249259b5ba99e955b46b4",
            "placeholder": "​",
            "style": "IPY_MODEL_dd3308cfa9124770a7b7bdbf21ef9471",
            "value": " 662/662 [00:00&lt;00:00, 60.1kB/s]"
          }
        },
        "f0d53164ebbd40aea60973dccb04e138": {
          "model_module": "@jupyter-widgets/base",
          "model_name": "LayoutModel",
          "model_module_version": "1.2.0",
          "state": {
            "_model_module": "@jupyter-widgets/base",
            "_model_module_version": "1.2.0",
            "_model_name": "LayoutModel",
            "_view_count": null,
            "_view_module": "@jupyter-widgets/base",
            "_view_module_version": "1.2.0",
            "_view_name": "LayoutView",
            "align_content": null,
            "align_items": null,
            "align_self": null,
            "border": null,
            "bottom": null,
            "display": null,
            "flex": null,
            "flex_flow": null,
            "grid_area": null,
            "grid_auto_columns": null,
            "grid_auto_flow": null,
            "grid_auto_rows": null,
            "grid_column": null,
            "grid_gap": null,
            "grid_row": null,
            "grid_template_areas": null,
            "grid_template_columns": null,
            "grid_template_rows": null,
            "height": null,
            "justify_content": null,
            "justify_items": null,
            "left": null,
            "margin": null,
            "max_height": null,
            "max_width": null,
            "min_height": null,
            "min_width": null,
            "object_fit": null,
            "object_position": null,
            "order": null,
            "overflow": null,
            "overflow_x": null,
            "overflow_y": null,
            "padding": null,
            "right": null,
            "top": null,
            "visibility": null,
            "width": null
          }
        },
        "d6ddc52d226443bfb4218f8cc133f84b": {
          "model_module": "@jupyter-widgets/base",
          "model_name": "LayoutModel",
          "model_module_version": "1.2.0",
          "state": {
            "_model_module": "@jupyter-widgets/base",
            "_model_module_version": "1.2.0",
            "_model_name": "LayoutModel",
            "_view_count": null,
            "_view_module": "@jupyter-widgets/base",
            "_view_module_version": "1.2.0",
            "_view_name": "LayoutView",
            "align_content": null,
            "align_items": null,
            "align_self": null,
            "border": null,
            "bottom": null,
            "display": null,
            "flex": null,
            "flex_flow": null,
            "grid_area": null,
            "grid_auto_columns": null,
            "grid_auto_flow": null,
            "grid_auto_rows": null,
            "grid_column": null,
            "grid_gap": null,
            "grid_row": null,
            "grid_template_areas": null,
            "grid_template_columns": null,
            "grid_template_rows": null,
            "height": null,
            "justify_content": null,
            "justify_items": null,
            "left": null,
            "margin": null,
            "max_height": null,
            "max_width": null,
            "min_height": null,
            "min_width": null,
            "object_fit": null,
            "object_position": null,
            "order": null,
            "overflow": null,
            "overflow_x": null,
            "overflow_y": null,
            "padding": null,
            "right": null,
            "top": null,
            "visibility": null,
            "width": null
          }
        },
        "3ff09522bca84bb090368f9fe4543c57": {
          "model_module": "@jupyter-widgets/controls",
          "model_name": "DescriptionStyleModel",
          "model_module_version": "1.5.0",
          "state": {
            "_model_module": "@jupyter-widgets/controls",
            "_model_module_version": "1.5.0",
            "_model_name": "DescriptionStyleModel",
            "_view_count": null,
            "_view_module": "@jupyter-widgets/base",
            "_view_module_version": "1.2.0",
            "_view_name": "StyleView",
            "description_width": ""
          }
        },
        "0a979d7961e0438ebc98f10eab68c9fe": {
          "model_module": "@jupyter-widgets/base",
          "model_name": "LayoutModel",
          "model_module_version": "1.2.0",
          "state": {
            "_model_module": "@jupyter-widgets/base",
            "_model_module_version": "1.2.0",
            "_model_name": "LayoutModel",
            "_view_count": null,
            "_view_module": "@jupyter-widgets/base",
            "_view_module_version": "1.2.0",
            "_view_name": "LayoutView",
            "align_content": null,
            "align_items": null,
            "align_self": null,
            "border": null,
            "bottom": null,
            "display": null,
            "flex": null,
            "flex_flow": null,
            "grid_area": null,
            "grid_auto_columns": null,
            "grid_auto_flow": null,
            "grid_auto_rows": null,
            "grid_column": null,
            "grid_gap": null,
            "grid_row": null,
            "grid_template_areas": null,
            "grid_template_columns": null,
            "grid_template_rows": null,
            "height": null,
            "justify_content": null,
            "justify_items": null,
            "left": null,
            "margin": null,
            "max_height": null,
            "max_width": null,
            "min_height": null,
            "min_width": null,
            "object_fit": null,
            "object_position": null,
            "order": null,
            "overflow": null,
            "overflow_x": null,
            "overflow_y": null,
            "padding": null,
            "right": null,
            "top": null,
            "visibility": null,
            "width": null
          }
        },
        "1bc39661b84a4b5b950177543c1decec": {
          "model_module": "@jupyter-widgets/controls",
          "model_name": "ProgressStyleModel",
          "model_module_version": "1.5.0",
          "state": {
            "_model_module": "@jupyter-widgets/controls",
            "_model_module_version": "1.5.0",
            "_model_name": "ProgressStyleModel",
            "_view_count": null,
            "_view_module": "@jupyter-widgets/base",
            "_view_module_version": "1.2.0",
            "_view_name": "StyleView",
            "bar_color": null,
            "description_width": ""
          }
        },
        "b68fe811bc6249259b5ba99e955b46b4": {
          "model_module": "@jupyter-widgets/base",
          "model_name": "LayoutModel",
          "model_module_version": "1.2.0",
          "state": {
            "_model_module": "@jupyter-widgets/base",
            "_model_module_version": "1.2.0",
            "_model_name": "LayoutModel",
            "_view_count": null,
            "_view_module": "@jupyter-widgets/base",
            "_view_module_version": "1.2.0",
            "_view_name": "LayoutView",
            "align_content": null,
            "align_items": null,
            "align_self": null,
            "border": null,
            "bottom": null,
            "display": null,
            "flex": null,
            "flex_flow": null,
            "grid_area": null,
            "grid_auto_columns": null,
            "grid_auto_flow": null,
            "grid_auto_rows": null,
            "grid_column": null,
            "grid_gap": null,
            "grid_row": null,
            "grid_template_areas": null,
            "grid_template_columns": null,
            "grid_template_rows": null,
            "height": null,
            "justify_content": null,
            "justify_items": null,
            "left": null,
            "margin": null,
            "max_height": null,
            "max_width": null,
            "min_height": null,
            "min_width": null,
            "object_fit": null,
            "object_position": null,
            "order": null,
            "overflow": null,
            "overflow_x": null,
            "overflow_y": null,
            "padding": null,
            "right": null,
            "top": null,
            "visibility": null,
            "width": null
          }
        },
        "dd3308cfa9124770a7b7bdbf21ef9471": {
          "model_module": "@jupyter-widgets/controls",
          "model_name": "DescriptionStyleModel",
          "model_module_version": "1.5.0",
          "state": {
            "_model_module": "@jupyter-widgets/controls",
            "_model_module_version": "1.5.0",
            "_model_name": "DescriptionStyleModel",
            "_view_count": null,
            "_view_module": "@jupyter-widgets/base",
            "_view_module_version": "1.2.0",
            "_view_name": "StyleView",
            "description_width": ""
          }
        },
        "e75bef15f8f34800aa6e3a86be9b0469": {
          "model_module": "@jupyter-widgets/controls",
          "model_name": "HBoxModel",
          "model_module_version": "1.5.0",
          "state": {
            "_dom_classes": [],
            "_model_module": "@jupyter-widgets/controls",
            "_model_module_version": "1.5.0",
            "_model_name": "HBoxModel",
            "_view_count": null,
            "_view_module": "@jupyter-widgets/controls",
            "_view_module_version": "1.5.0",
            "_view_name": "HBoxView",
            "box_style": "",
            "children": [
              "IPY_MODEL_148b2e55aff8433aa717b4232e170072",
              "IPY_MODEL_c910c7a4a5914222920a74e663fe7b87",
              "IPY_MODEL_0a15a277645d4e8bb5f378bcefc06c03"
            ],
            "layout": "IPY_MODEL_f90349af7a08461f95154f94c26cf1a9"
          }
        },
        "148b2e55aff8433aa717b4232e170072": {
          "model_module": "@jupyter-widgets/controls",
          "model_name": "HTMLModel",
          "model_module_version": "1.5.0",
          "state": {
            "_dom_classes": [],
            "_model_module": "@jupyter-widgets/controls",
            "_model_module_version": "1.5.0",
            "_model_name": "HTMLModel",
            "_view_count": null,
            "_view_module": "@jupyter-widgets/controls",
            "_view_module_version": "1.5.0",
            "_view_name": "HTMLView",
            "description": "",
            "description_tooltip": null,
            "layout": "IPY_MODEL_fa30d96c5fe1401e9a4124d8b3eb60b1",
            "placeholder": "​",
            "style": "IPY_MODEL_3ed659f73ef94acf91215662ffa50a73",
            "value": "model.safetensors: 100%"
          }
        },
        "c910c7a4a5914222920a74e663fe7b87": {
          "model_module": "@jupyter-widgets/controls",
          "model_name": "FloatProgressModel",
          "model_module_version": "1.5.0",
          "state": {
            "_dom_classes": [],
            "_model_module": "@jupyter-widgets/controls",
            "_model_module_version": "1.5.0",
            "_model_name": "FloatProgressModel",
            "_view_count": null,
            "_view_module": "@jupyter-widgets/controls",
            "_view_module_version": "1.5.0",
            "_view_name": "ProgressView",
            "bar_style": "success",
            "description": "",
            "description_tooltip": null,
            "layout": "IPY_MODEL_ce92c0ddad8746338fed914137c61114",
            "max": 3132668804,
            "min": 0,
            "orientation": "horizontal",
            "style": "IPY_MODEL_3f1e1fa037104096837ac55b6fcdc321",
            "value": 3132668804
          }
        },
        "0a15a277645d4e8bb5f378bcefc06c03": {
          "model_module": "@jupyter-widgets/controls",
          "model_name": "HTMLModel",
          "model_module_version": "1.5.0",
          "state": {
            "_dom_classes": [],
            "_model_module": "@jupyter-widgets/controls",
            "_model_module_version": "1.5.0",
            "_model_name": "HTMLModel",
            "_view_count": null,
            "_view_module": "@jupyter-widgets/controls",
            "_view_module_version": "1.5.0",
            "_view_name": "HTMLView",
            "description": "",
            "description_tooltip": null,
            "layout": "IPY_MODEL_9534be3a86ef4b4e82d5b346050fbcb9",
            "placeholder": "​",
            "style": "IPY_MODEL_95d2540a007f460cafbae9e16cc49598",
            "value": " 3.13G/3.13G [00:35&lt;00:00, 92.7MB/s]"
          }
        },
        "f90349af7a08461f95154f94c26cf1a9": {
          "model_module": "@jupyter-widgets/base",
          "model_name": "LayoutModel",
          "model_module_version": "1.2.0",
          "state": {
            "_model_module": "@jupyter-widgets/base",
            "_model_module_version": "1.2.0",
            "_model_name": "LayoutModel",
            "_view_count": null,
            "_view_module": "@jupyter-widgets/base",
            "_view_module_version": "1.2.0",
            "_view_name": "LayoutView",
            "align_content": null,
            "align_items": null,
            "align_self": null,
            "border": null,
            "bottom": null,
            "display": null,
            "flex": null,
            "flex_flow": null,
            "grid_area": null,
            "grid_auto_columns": null,
            "grid_auto_flow": null,
            "grid_auto_rows": null,
            "grid_column": null,
            "grid_gap": null,
            "grid_row": null,
            "grid_template_areas": null,
            "grid_template_columns": null,
            "grid_template_rows": null,
            "height": null,
            "justify_content": null,
            "justify_items": null,
            "left": null,
            "margin": null,
            "max_height": null,
            "max_width": null,
            "min_height": null,
            "min_width": null,
            "object_fit": null,
            "object_position": null,
            "order": null,
            "overflow": null,
            "overflow_x": null,
            "overflow_y": null,
            "padding": null,
            "right": null,
            "top": null,
            "visibility": null,
            "width": null
          }
        },
        "fa30d96c5fe1401e9a4124d8b3eb60b1": {
          "model_module": "@jupyter-widgets/base",
          "model_name": "LayoutModel",
          "model_module_version": "1.2.0",
          "state": {
            "_model_module": "@jupyter-widgets/base",
            "_model_module_version": "1.2.0",
            "_model_name": "LayoutModel",
            "_view_count": null,
            "_view_module": "@jupyter-widgets/base",
            "_view_module_version": "1.2.0",
            "_view_name": "LayoutView",
            "align_content": null,
            "align_items": null,
            "align_self": null,
            "border": null,
            "bottom": null,
            "display": null,
            "flex": null,
            "flex_flow": null,
            "grid_area": null,
            "grid_auto_columns": null,
            "grid_auto_flow": null,
            "grid_auto_rows": null,
            "grid_column": null,
            "grid_gap": null,
            "grid_row": null,
            "grid_template_areas": null,
            "grid_template_columns": null,
            "grid_template_rows": null,
            "height": null,
            "justify_content": null,
            "justify_items": null,
            "left": null,
            "margin": null,
            "max_height": null,
            "max_width": null,
            "min_height": null,
            "min_width": null,
            "object_fit": null,
            "object_position": null,
            "order": null,
            "overflow": null,
            "overflow_x": null,
            "overflow_y": null,
            "padding": null,
            "right": null,
            "top": null,
            "visibility": null,
            "width": null
          }
        },
        "3ed659f73ef94acf91215662ffa50a73": {
          "model_module": "@jupyter-widgets/controls",
          "model_name": "DescriptionStyleModel",
          "model_module_version": "1.5.0",
          "state": {
            "_model_module": "@jupyter-widgets/controls",
            "_model_module_version": "1.5.0",
            "_model_name": "DescriptionStyleModel",
            "_view_count": null,
            "_view_module": "@jupyter-widgets/base",
            "_view_module_version": "1.2.0",
            "_view_name": "StyleView",
            "description_width": ""
          }
        },
        "ce92c0ddad8746338fed914137c61114": {
          "model_module": "@jupyter-widgets/base",
          "model_name": "LayoutModel",
          "model_module_version": "1.2.0",
          "state": {
            "_model_module": "@jupyter-widgets/base",
            "_model_module_version": "1.2.0",
            "_model_name": "LayoutModel",
            "_view_count": null,
            "_view_module": "@jupyter-widgets/base",
            "_view_module_version": "1.2.0",
            "_view_name": "LayoutView",
            "align_content": null,
            "align_items": null,
            "align_self": null,
            "border": null,
            "bottom": null,
            "display": null,
            "flex": null,
            "flex_flow": null,
            "grid_area": null,
            "grid_auto_columns": null,
            "grid_auto_flow": null,
            "grid_auto_rows": null,
            "grid_column": null,
            "grid_gap": null,
            "grid_row": null,
            "grid_template_areas": null,
            "grid_template_columns": null,
            "grid_template_rows": null,
            "height": null,
            "justify_content": null,
            "justify_items": null,
            "left": null,
            "margin": null,
            "max_height": null,
            "max_width": null,
            "min_height": null,
            "min_width": null,
            "object_fit": null,
            "object_position": null,
            "order": null,
            "overflow": null,
            "overflow_x": null,
            "overflow_y": null,
            "padding": null,
            "right": null,
            "top": null,
            "visibility": null,
            "width": null
          }
        },
        "3f1e1fa037104096837ac55b6fcdc321": {
          "model_module": "@jupyter-widgets/controls",
          "model_name": "ProgressStyleModel",
          "model_module_version": "1.5.0",
          "state": {
            "_model_module": "@jupyter-widgets/controls",
            "_model_module_version": "1.5.0",
            "_model_name": "ProgressStyleModel",
            "_view_count": null,
            "_view_module": "@jupyter-widgets/base",
            "_view_module_version": "1.2.0",
            "_view_name": "StyleView",
            "bar_color": null,
            "description_width": ""
          }
        },
        "9534be3a86ef4b4e82d5b346050fbcb9": {
          "model_module": "@jupyter-widgets/base",
          "model_name": "LayoutModel",
          "model_module_version": "1.2.0",
          "state": {
            "_model_module": "@jupyter-widgets/base",
            "_model_module_version": "1.2.0",
            "_model_name": "LayoutModel",
            "_view_count": null,
            "_view_module": "@jupyter-widgets/base",
            "_view_module_version": "1.2.0",
            "_view_name": "LayoutView",
            "align_content": null,
            "align_items": null,
            "align_self": null,
            "border": null,
            "bottom": null,
            "display": null,
            "flex": null,
            "flex_flow": null,
            "grid_area": null,
            "grid_auto_columns": null,
            "grid_auto_flow": null,
            "grid_auto_rows": null,
            "grid_column": null,
            "grid_gap": null,
            "grid_row": null,
            "grid_template_areas": null,
            "grid_template_columns": null,
            "grid_template_rows": null,
            "height": null,
            "justify_content": null,
            "justify_items": null,
            "left": null,
            "margin": null,
            "max_height": null,
            "max_width": null,
            "min_height": null,
            "min_width": null,
            "object_fit": null,
            "object_position": null,
            "order": null,
            "overflow": null,
            "overflow_x": null,
            "overflow_y": null,
            "padding": null,
            "right": null,
            "top": null,
            "visibility": null,
            "width": null
          }
        },
        "95d2540a007f460cafbae9e16cc49598": {
          "model_module": "@jupyter-widgets/controls",
          "model_name": "DescriptionStyleModel",
          "model_module_version": "1.5.0",
          "state": {
            "_model_module": "@jupyter-widgets/controls",
            "_model_module_version": "1.5.0",
            "_model_name": "DescriptionStyleModel",
            "_view_count": null,
            "_view_module": "@jupyter-widgets/base",
            "_view_module_version": "1.2.0",
            "_view_name": "StyleView",
            "description_width": ""
          }
        },
        "ac7206434c5d42248e86e4c479981bc5": {
          "model_module": "@jupyter-widgets/controls",
          "model_name": "HBoxModel",
          "model_module_version": "1.5.0",
          "state": {
            "_dom_classes": [],
            "_model_module": "@jupyter-widgets/controls",
            "_model_module_version": "1.5.0",
            "_model_name": "HBoxModel",
            "_view_count": null,
            "_view_module": "@jupyter-widgets/controls",
            "_view_module_version": "1.5.0",
            "_view_name": "HBoxView",
            "box_style": "",
            "children": [
              "IPY_MODEL_fcb17987099d48fb85348d66bfa11e05",
              "IPY_MODEL_66c03ac9cdc042ffb4efe30ab95f12f9",
              "IPY_MODEL_32a061b9417248d2b7f6fe177781395b"
            ],
            "layout": "IPY_MODEL_0f6a800fb34445aea806efb2b9909a69"
          }
        },
        "fcb17987099d48fb85348d66bfa11e05": {
          "model_module": "@jupyter-widgets/controls",
          "model_name": "HTMLModel",
          "model_module_version": "1.5.0",
          "state": {
            "_dom_classes": [],
            "_model_module": "@jupyter-widgets/controls",
            "_model_module_version": "1.5.0",
            "_model_name": "HTMLModel",
            "_view_count": null,
            "_view_module": "@jupyter-widgets/controls",
            "_view_module_version": "1.5.0",
            "_view_name": "HTMLView",
            "description": "",
            "description_tooltip": null,
            "layout": "IPY_MODEL_f18fc70ff14e406888055379eeb23754",
            "placeholder": "​",
            "style": "IPY_MODEL_498ef36842c44a4b8c1aa9def8d02f3e",
            "value": "generation_config.json: 100%"
          }
        },
        "66c03ac9cdc042ffb4efe30ab95f12f9": {
          "model_module": "@jupyter-widgets/controls",
          "model_name": "FloatProgressModel",
          "model_module_version": "1.5.0",
          "state": {
            "_dom_classes": [],
            "_model_module": "@jupyter-widgets/controls",
            "_model_module_version": "1.5.0",
            "_model_name": "FloatProgressModel",
            "_view_count": null,
            "_view_module": "@jupyter-widgets/controls",
            "_view_module_version": "1.5.0",
            "_view_name": "ProgressView",
            "bar_style": "success",
            "description": "",
            "description_tooltip": null,
            "layout": "IPY_MODEL_bc71c1126d40402b8c5dc305fbfc4e99",
            "max": 147,
            "min": 0,
            "orientation": "horizontal",
            "style": "IPY_MODEL_279953116e784f8a9e971f3725111148",
            "value": 147
          }
        },
        "32a061b9417248d2b7f6fe177781395b": {
          "model_module": "@jupyter-widgets/controls",
          "model_name": "HTMLModel",
          "model_module_version": "1.5.0",
          "state": {
            "_dom_classes": [],
            "_model_module": "@jupyter-widgets/controls",
            "_model_module_version": "1.5.0",
            "_model_name": "HTMLModel",
            "_view_count": null,
            "_view_module": "@jupyter-widgets/controls",
            "_view_module_version": "1.5.0",
            "_view_name": "HTMLView",
            "description": "",
            "description_tooltip": null,
            "layout": "IPY_MODEL_7630eb831d954288b9616ee94ca62706",
            "placeholder": "​",
            "style": "IPY_MODEL_2e9ef978a2a9498aa6a2975b2fb1407e",
            "value": " 147/147 [00:00&lt;00:00, 12.0kB/s]"
          }
        },
        "0f6a800fb34445aea806efb2b9909a69": {
          "model_module": "@jupyter-widgets/base",
          "model_name": "LayoutModel",
          "model_module_version": "1.2.0",
          "state": {
            "_model_module": "@jupyter-widgets/base",
            "_model_module_version": "1.2.0",
            "_model_name": "LayoutModel",
            "_view_count": null,
            "_view_module": "@jupyter-widgets/base",
            "_view_module_version": "1.2.0",
            "_view_name": "LayoutView",
            "align_content": null,
            "align_items": null,
            "align_self": null,
            "border": null,
            "bottom": null,
            "display": null,
            "flex": null,
            "flex_flow": null,
            "grid_area": null,
            "grid_auto_columns": null,
            "grid_auto_flow": null,
            "grid_auto_rows": null,
            "grid_column": null,
            "grid_gap": null,
            "grid_row": null,
            "grid_template_areas": null,
            "grid_template_columns": null,
            "grid_template_rows": null,
            "height": null,
            "justify_content": null,
            "justify_items": null,
            "left": null,
            "margin": null,
            "max_height": null,
            "max_width": null,
            "min_height": null,
            "min_width": null,
            "object_fit": null,
            "object_position": null,
            "order": null,
            "overflow": null,
            "overflow_x": null,
            "overflow_y": null,
            "padding": null,
            "right": null,
            "top": null,
            "visibility": null,
            "width": null
          }
        },
        "f18fc70ff14e406888055379eeb23754": {
          "model_module": "@jupyter-widgets/base",
          "model_name": "LayoutModel",
          "model_module_version": "1.2.0",
          "state": {
            "_model_module": "@jupyter-widgets/base",
            "_model_module_version": "1.2.0",
            "_model_name": "LayoutModel",
            "_view_count": null,
            "_view_module": "@jupyter-widgets/base",
            "_view_module_version": "1.2.0",
            "_view_name": "LayoutView",
            "align_content": null,
            "align_items": null,
            "align_self": null,
            "border": null,
            "bottom": null,
            "display": null,
            "flex": null,
            "flex_flow": null,
            "grid_area": null,
            "grid_auto_columns": null,
            "grid_auto_flow": null,
            "grid_auto_rows": null,
            "grid_column": null,
            "grid_gap": null,
            "grid_row": null,
            "grid_template_areas": null,
            "grid_template_columns": null,
            "grid_template_rows": null,
            "height": null,
            "justify_content": null,
            "justify_items": null,
            "left": null,
            "margin": null,
            "max_height": null,
            "max_width": null,
            "min_height": null,
            "min_width": null,
            "object_fit": null,
            "object_position": null,
            "order": null,
            "overflow": null,
            "overflow_x": null,
            "overflow_y": null,
            "padding": null,
            "right": null,
            "top": null,
            "visibility": null,
            "width": null
          }
        },
        "498ef36842c44a4b8c1aa9def8d02f3e": {
          "model_module": "@jupyter-widgets/controls",
          "model_name": "DescriptionStyleModel",
          "model_module_version": "1.5.0",
          "state": {
            "_model_module": "@jupyter-widgets/controls",
            "_model_module_version": "1.5.0",
            "_model_name": "DescriptionStyleModel",
            "_view_count": null,
            "_view_module": "@jupyter-widgets/base",
            "_view_module_version": "1.2.0",
            "_view_name": "StyleView",
            "description_width": ""
          }
        },
        "bc71c1126d40402b8c5dc305fbfc4e99": {
          "model_module": "@jupyter-widgets/base",
          "model_name": "LayoutModel",
          "model_module_version": "1.2.0",
          "state": {
            "_model_module": "@jupyter-widgets/base",
            "_model_module_version": "1.2.0",
            "_model_name": "LayoutModel",
            "_view_count": null,
            "_view_module": "@jupyter-widgets/base",
            "_view_module_version": "1.2.0",
            "_view_name": "LayoutView",
            "align_content": null,
            "align_items": null,
            "align_self": null,
            "border": null,
            "bottom": null,
            "display": null,
            "flex": null,
            "flex_flow": null,
            "grid_area": null,
            "grid_auto_columns": null,
            "grid_auto_flow": null,
            "grid_auto_rows": null,
            "grid_column": null,
            "grid_gap": null,
            "grid_row": null,
            "grid_template_areas": null,
            "grid_template_columns": null,
            "grid_template_rows": null,
            "height": null,
            "justify_content": null,
            "justify_items": null,
            "left": null,
            "margin": null,
            "max_height": null,
            "max_width": null,
            "min_height": null,
            "min_width": null,
            "object_fit": null,
            "object_position": null,
            "order": null,
            "overflow": null,
            "overflow_x": null,
            "overflow_y": null,
            "padding": null,
            "right": null,
            "top": null,
            "visibility": null,
            "width": null
          }
        },
        "279953116e784f8a9e971f3725111148": {
          "model_module": "@jupyter-widgets/controls",
          "model_name": "ProgressStyleModel",
          "model_module_version": "1.5.0",
          "state": {
            "_model_module": "@jupyter-widgets/controls",
            "_model_module_version": "1.5.0",
            "_model_name": "ProgressStyleModel",
            "_view_count": null,
            "_view_module": "@jupyter-widgets/base",
            "_view_module_version": "1.2.0",
            "_view_name": "StyleView",
            "bar_color": null,
            "description_width": ""
          }
        },
        "7630eb831d954288b9616ee94ca62706": {
          "model_module": "@jupyter-widgets/base",
          "model_name": "LayoutModel",
          "model_module_version": "1.2.0",
          "state": {
            "_model_module": "@jupyter-widgets/base",
            "_model_module_version": "1.2.0",
            "_model_name": "LayoutModel",
            "_view_count": null,
            "_view_module": "@jupyter-widgets/base",
            "_view_module_version": "1.2.0",
            "_view_name": "LayoutView",
            "align_content": null,
            "align_items": null,
            "align_self": null,
            "border": null,
            "bottom": null,
            "display": null,
            "flex": null,
            "flex_flow": null,
            "grid_area": null,
            "grid_auto_columns": null,
            "grid_auto_flow": null,
            "grid_auto_rows": null,
            "grid_column": null,
            "grid_gap": null,
            "grid_row": null,
            "grid_template_areas": null,
            "grid_template_columns": null,
            "grid_template_rows": null,
            "height": null,
            "justify_content": null,
            "justify_items": null,
            "left": null,
            "margin": null,
            "max_height": null,
            "max_width": null,
            "min_height": null,
            "min_width": null,
            "object_fit": null,
            "object_position": null,
            "order": null,
            "overflow": null,
            "overflow_x": null,
            "overflow_y": null,
            "padding": null,
            "right": null,
            "top": null,
            "visibility": null,
            "width": null
          }
        },
        "2e9ef978a2a9498aa6a2975b2fb1407e": {
          "model_module": "@jupyter-widgets/controls",
          "model_name": "DescriptionStyleModel",
          "model_module_version": "1.5.0",
          "state": {
            "_model_module": "@jupyter-widgets/controls",
            "_model_module_version": "1.5.0",
            "_model_name": "DescriptionStyleModel",
            "_view_count": null,
            "_view_module": "@jupyter-widgets/base",
            "_view_module_version": "1.2.0",
            "_view_name": "StyleView",
            "description_width": ""
          }
        },
        "8562af65d71f474da0c2ff32550f3220": {
          "model_module": "@jupyter-widgets/controls",
          "model_name": "HBoxModel",
          "model_module_version": "1.5.0",
          "state": {
            "_dom_classes": [],
            "_model_module": "@jupyter-widgets/controls",
            "_model_module_version": "1.5.0",
            "_model_name": "HBoxModel",
            "_view_count": null,
            "_view_module": "@jupyter-widgets/controls",
            "_view_module_version": "1.5.0",
            "_view_name": "HBoxView",
            "box_style": "",
            "children": [
              "IPY_MODEL_14214d8935e04513850da91f9f5e16fb",
              "IPY_MODEL_a5a73a8369b4400baec672778be9a9d9",
              "IPY_MODEL_7fb92ad054e24a9fa81b058d84413f1b"
            ],
            "layout": "IPY_MODEL_1bb61e0115714043a229c721f679cea3"
          }
        },
        "14214d8935e04513850da91f9f5e16fb": {
          "model_module": "@jupyter-widgets/controls",
          "model_name": "HTMLModel",
          "model_module_version": "1.5.0",
          "state": {
            "_dom_classes": [],
            "_model_module": "@jupyter-widgets/controls",
            "_model_module_version": "1.5.0",
            "_model_name": "HTMLModel",
            "_view_count": null,
            "_view_module": "@jupyter-widgets/controls",
            "_view_module_version": "1.5.0",
            "_view_name": "HTMLView",
            "description": "",
            "description_tooltip": null,
            "layout": "IPY_MODEL_4c2151b5986341b7ba434225206fe32f",
            "placeholder": "​",
            "style": "IPY_MODEL_4781cdefb6e547b2b0b5a429bd91f41f",
            "value": "Map: 100%"
          }
        },
        "a5a73a8369b4400baec672778be9a9d9": {
          "model_module": "@jupyter-widgets/controls",
          "model_name": "FloatProgressModel",
          "model_module_version": "1.5.0",
          "state": {
            "_dom_classes": [],
            "_model_module": "@jupyter-widgets/controls",
            "_model_module_version": "1.5.0",
            "_model_name": "FloatProgressModel",
            "_view_count": null,
            "_view_module": "@jupyter-widgets/controls",
            "_view_module_version": "1.5.0",
            "_view_name": "ProgressView",
            "bar_style": "success",
            "description": "",
            "description_tooltip": null,
            "layout": "IPY_MODEL_f3830c1545ca4fc6adb50a3d4b2f26a0",
            "max": 1600,
            "min": 0,
            "orientation": "horizontal",
            "style": "IPY_MODEL_a96ca108a1b94cfc976aeaed9b5d2c60",
            "value": 1600
          }
        },
        "7fb92ad054e24a9fa81b058d84413f1b": {
          "model_module": "@jupyter-widgets/controls",
          "model_name": "HTMLModel",
          "model_module_version": "1.5.0",
          "state": {
            "_dom_classes": [],
            "_model_module": "@jupyter-widgets/controls",
            "_model_module_version": "1.5.0",
            "_model_name": "HTMLModel",
            "_view_count": null,
            "_view_module": "@jupyter-widgets/controls",
            "_view_module_version": "1.5.0",
            "_view_name": "HTMLView",
            "description": "",
            "description_tooltip": null,
            "layout": "IPY_MODEL_038042b291024f84b06a194bb44245d3",
            "placeholder": "​",
            "style": "IPY_MODEL_4d5f3810d2f9405da1a83540480d4c35",
            "value": " 1600/1600 [00:00&lt;00:00, 1982.19 examples/s]"
          }
        },
        "1bb61e0115714043a229c721f679cea3": {
          "model_module": "@jupyter-widgets/base",
          "model_name": "LayoutModel",
          "model_module_version": "1.2.0",
          "state": {
            "_model_module": "@jupyter-widgets/base",
            "_model_module_version": "1.2.0",
            "_model_name": "LayoutModel",
            "_view_count": null,
            "_view_module": "@jupyter-widgets/base",
            "_view_module_version": "1.2.0",
            "_view_name": "LayoutView",
            "align_content": null,
            "align_items": null,
            "align_self": null,
            "border": null,
            "bottom": null,
            "display": null,
            "flex": null,
            "flex_flow": null,
            "grid_area": null,
            "grid_auto_columns": null,
            "grid_auto_flow": null,
            "grid_auto_rows": null,
            "grid_column": null,
            "grid_gap": null,
            "grid_row": null,
            "grid_template_areas": null,
            "grid_template_columns": null,
            "grid_template_rows": null,
            "height": null,
            "justify_content": null,
            "justify_items": null,
            "left": null,
            "margin": null,
            "max_height": null,
            "max_width": null,
            "min_height": null,
            "min_width": null,
            "object_fit": null,
            "object_position": null,
            "order": null,
            "overflow": null,
            "overflow_x": null,
            "overflow_y": null,
            "padding": null,
            "right": null,
            "top": null,
            "visibility": null,
            "width": null
          }
        },
        "4c2151b5986341b7ba434225206fe32f": {
          "model_module": "@jupyter-widgets/base",
          "model_name": "LayoutModel",
          "model_module_version": "1.2.0",
          "state": {
            "_model_module": "@jupyter-widgets/base",
            "_model_module_version": "1.2.0",
            "_model_name": "LayoutModel",
            "_view_count": null,
            "_view_module": "@jupyter-widgets/base",
            "_view_module_version": "1.2.0",
            "_view_name": "LayoutView",
            "align_content": null,
            "align_items": null,
            "align_self": null,
            "border": null,
            "bottom": null,
            "display": null,
            "flex": null,
            "flex_flow": null,
            "grid_area": null,
            "grid_auto_columns": null,
            "grid_auto_flow": null,
            "grid_auto_rows": null,
            "grid_column": null,
            "grid_gap": null,
            "grid_row": null,
            "grid_template_areas": null,
            "grid_template_columns": null,
            "grid_template_rows": null,
            "height": null,
            "justify_content": null,
            "justify_items": null,
            "left": null,
            "margin": null,
            "max_height": null,
            "max_width": null,
            "min_height": null,
            "min_width": null,
            "object_fit": null,
            "object_position": null,
            "order": null,
            "overflow": null,
            "overflow_x": null,
            "overflow_y": null,
            "padding": null,
            "right": null,
            "top": null,
            "visibility": null,
            "width": null
          }
        },
        "4781cdefb6e547b2b0b5a429bd91f41f": {
          "model_module": "@jupyter-widgets/controls",
          "model_name": "DescriptionStyleModel",
          "model_module_version": "1.5.0",
          "state": {
            "_model_module": "@jupyter-widgets/controls",
            "_model_module_version": "1.5.0",
            "_model_name": "DescriptionStyleModel",
            "_view_count": null,
            "_view_module": "@jupyter-widgets/base",
            "_view_module_version": "1.2.0",
            "_view_name": "StyleView",
            "description_width": ""
          }
        },
        "f3830c1545ca4fc6adb50a3d4b2f26a0": {
          "model_module": "@jupyter-widgets/base",
          "model_name": "LayoutModel",
          "model_module_version": "1.2.0",
          "state": {
            "_model_module": "@jupyter-widgets/base",
            "_model_module_version": "1.2.0",
            "_model_name": "LayoutModel",
            "_view_count": null,
            "_view_module": "@jupyter-widgets/base",
            "_view_module_version": "1.2.0",
            "_view_name": "LayoutView",
            "align_content": null,
            "align_items": null,
            "align_self": null,
            "border": null,
            "bottom": null,
            "display": null,
            "flex": null,
            "flex_flow": null,
            "grid_area": null,
            "grid_auto_columns": null,
            "grid_auto_flow": null,
            "grid_auto_rows": null,
            "grid_column": null,
            "grid_gap": null,
            "grid_row": null,
            "grid_template_areas": null,
            "grid_template_columns": null,
            "grid_template_rows": null,
            "height": null,
            "justify_content": null,
            "justify_items": null,
            "left": null,
            "margin": null,
            "max_height": null,
            "max_width": null,
            "min_height": null,
            "min_width": null,
            "object_fit": null,
            "object_position": null,
            "order": null,
            "overflow": null,
            "overflow_x": null,
            "overflow_y": null,
            "padding": null,
            "right": null,
            "top": null,
            "visibility": null,
            "width": null
          }
        },
        "a96ca108a1b94cfc976aeaed9b5d2c60": {
          "model_module": "@jupyter-widgets/controls",
          "model_name": "ProgressStyleModel",
          "model_module_version": "1.5.0",
          "state": {
            "_model_module": "@jupyter-widgets/controls",
            "_model_module_version": "1.5.0",
            "_model_name": "ProgressStyleModel",
            "_view_count": null,
            "_view_module": "@jupyter-widgets/base",
            "_view_module_version": "1.2.0",
            "_view_name": "StyleView",
            "bar_color": null,
            "description_width": ""
          }
        },
        "038042b291024f84b06a194bb44245d3": {
          "model_module": "@jupyter-widgets/base",
          "model_name": "LayoutModel",
          "model_module_version": "1.2.0",
          "state": {
            "_model_module": "@jupyter-widgets/base",
            "_model_module_version": "1.2.0",
            "_model_name": "LayoutModel",
            "_view_count": null,
            "_view_module": "@jupyter-widgets/base",
            "_view_module_version": "1.2.0",
            "_view_name": "LayoutView",
            "align_content": null,
            "align_items": null,
            "align_self": null,
            "border": null,
            "bottom": null,
            "display": null,
            "flex": null,
            "flex_flow": null,
            "grid_area": null,
            "grid_auto_columns": null,
            "grid_auto_flow": null,
            "grid_auto_rows": null,
            "grid_column": null,
            "grid_gap": null,
            "grid_row": null,
            "grid_template_areas": null,
            "grid_template_columns": null,
            "grid_template_rows": null,
            "height": null,
            "justify_content": null,
            "justify_items": null,
            "left": null,
            "margin": null,
            "max_height": null,
            "max_width": null,
            "min_height": null,
            "min_width": null,
            "object_fit": null,
            "object_position": null,
            "order": null,
            "overflow": null,
            "overflow_x": null,
            "overflow_y": null,
            "padding": null,
            "right": null,
            "top": null,
            "visibility": null,
            "width": null
          }
        },
        "4d5f3810d2f9405da1a83540480d4c35": {
          "model_module": "@jupyter-widgets/controls",
          "model_name": "DescriptionStyleModel",
          "model_module_version": "1.5.0",
          "state": {
            "_model_module": "@jupyter-widgets/controls",
            "_model_module_version": "1.5.0",
            "_model_name": "DescriptionStyleModel",
            "_view_count": null,
            "_view_module": "@jupyter-widgets/base",
            "_view_module_version": "1.2.0",
            "_view_name": "StyleView",
            "description_width": ""
          }
        },
        "cbf7d93ff09e48369f308855eceeec9e": {
          "model_module": "@jupyter-widgets/controls",
          "model_name": "HBoxModel",
          "model_module_version": "1.5.0",
          "state": {
            "_dom_classes": [],
            "_model_module": "@jupyter-widgets/controls",
            "_model_module_version": "1.5.0",
            "_model_name": "HBoxModel",
            "_view_count": null,
            "_view_module": "@jupyter-widgets/controls",
            "_view_module_version": "1.5.0",
            "_view_name": "HBoxView",
            "box_style": "",
            "children": [
              "IPY_MODEL_21ae4c0ff7c8421991bd0ce670bef01f",
              "IPY_MODEL_232f9ac8d7e84200b48bcf8c30520c2e",
              "IPY_MODEL_f3bb360e1e3c45be85d1a5e1e201b4c2"
            ],
            "layout": "IPY_MODEL_e7839c749fc14d50bc23a62ffd0d202d"
          }
        },
        "21ae4c0ff7c8421991bd0ce670bef01f": {
          "model_module": "@jupyter-widgets/controls",
          "model_name": "HTMLModel",
          "model_module_version": "1.5.0",
          "state": {
            "_dom_classes": [],
            "_model_module": "@jupyter-widgets/controls",
            "_model_module_version": "1.5.0",
            "_model_name": "HTMLModel",
            "_view_count": null,
            "_view_module": "@jupyter-widgets/controls",
            "_view_module_version": "1.5.0",
            "_view_name": "HTMLView",
            "description": "",
            "description_tooltip": null,
            "layout": "IPY_MODEL_c7badaba443844f0aa96d1267061f7fe",
            "placeholder": "​",
            "style": "IPY_MODEL_cffeb13ae8914c5498679ad35f7738a3",
            "value": "Map: 100%"
          }
        },
        "232f9ac8d7e84200b48bcf8c30520c2e": {
          "model_module": "@jupyter-widgets/controls",
          "model_name": "FloatProgressModel",
          "model_module_version": "1.5.0",
          "state": {
            "_dom_classes": [],
            "_model_module": "@jupyter-widgets/controls",
            "_model_module_version": "1.5.0",
            "_model_name": "FloatProgressModel",
            "_view_count": null,
            "_view_module": "@jupyter-widgets/controls",
            "_view_module_version": "1.5.0",
            "_view_name": "ProgressView",
            "bar_style": "success",
            "description": "",
            "description_tooltip": null,
            "layout": "IPY_MODEL_e20963a5d70f4e3a932371abb6006d59",
            "max": 400,
            "min": 0,
            "orientation": "horizontal",
            "style": "IPY_MODEL_becc2a321b9f449bafafa81d9b41f257",
            "value": 400
          }
        },
        "f3bb360e1e3c45be85d1a5e1e201b4c2": {
          "model_module": "@jupyter-widgets/controls",
          "model_name": "HTMLModel",
          "model_module_version": "1.5.0",
          "state": {
            "_dom_classes": [],
            "_model_module": "@jupyter-widgets/controls",
            "_model_module_version": "1.5.0",
            "_model_name": "HTMLModel",
            "_view_count": null,
            "_view_module": "@jupyter-widgets/controls",
            "_view_module_version": "1.5.0",
            "_view_name": "HTMLView",
            "description": "",
            "description_tooltip": null,
            "layout": "IPY_MODEL_60ed96b59503470395e71e6ca5b6f95b",
            "placeholder": "​",
            "style": "IPY_MODEL_670ce69ce01f4517a7acd94f4fa73f9f",
            "value": " 400/400 [00:00&lt;00:00, 2133.97 examples/s]"
          }
        },
        "e7839c749fc14d50bc23a62ffd0d202d": {
          "model_module": "@jupyter-widgets/base",
          "model_name": "LayoutModel",
          "model_module_version": "1.2.0",
          "state": {
            "_model_module": "@jupyter-widgets/base",
            "_model_module_version": "1.2.0",
            "_model_name": "LayoutModel",
            "_view_count": null,
            "_view_module": "@jupyter-widgets/base",
            "_view_module_version": "1.2.0",
            "_view_name": "LayoutView",
            "align_content": null,
            "align_items": null,
            "align_self": null,
            "border": null,
            "bottom": null,
            "display": null,
            "flex": null,
            "flex_flow": null,
            "grid_area": null,
            "grid_auto_columns": null,
            "grid_auto_flow": null,
            "grid_auto_rows": null,
            "grid_column": null,
            "grid_gap": null,
            "grid_row": null,
            "grid_template_areas": null,
            "grid_template_columns": null,
            "grid_template_rows": null,
            "height": null,
            "justify_content": null,
            "justify_items": null,
            "left": null,
            "margin": null,
            "max_height": null,
            "max_width": null,
            "min_height": null,
            "min_width": null,
            "object_fit": null,
            "object_position": null,
            "order": null,
            "overflow": null,
            "overflow_x": null,
            "overflow_y": null,
            "padding": null,
            "right": null,
            "top": null,
            "visibility": null,
            "width": null
          }
        },
        "c7badaba443844f0aa96d1267061f7fe": {
          "model_module": "@jupyter-widgets/base",
          "model_name": "LayoutModel",
          "model_module_version": "1.2.0",
          "state": {
            "_model_module": "@jupyter-widgets/base",
            "_model_module_version": "1.2.0",
            "_model_name": "LayoutModel",
            "_view_count": null,
            "_view_module": "@jupyter-widgets/base",
            "_view_module_version": "1.2.0",
            "_view_name": "LayoutView",
            "align_content": null,
            "align_items": null,
            "align_self": null,
            "border": null,
            "bottom": null,
            "display": null,
            "flex": null,
            "flex_flow": null,
            "grid_area": null,
            "grid_auto_columns": null,
            "grid_auto_flow": null,
            "grid_auto_rows": null,
            "grid_column": null,
            "grid_gap": null,
            "grid_row": null,
            "grid_template_areas": null,
            "grid_template_columns": null,
            "grid_template_rows": null,
            "height": null,
            "justify_content": null,
            "justify_items": null,
            "left": null,
            "margin": null,
            "max_height": null,
            "max_width": null,
            "min_height": null,
            "min_width": null,
            "object_fit": null,
            "object_position": null,
            "order": null,
            "overflow": null,
            "overflow_x": null,
            "overflow_y": null,
            "padding": null,
            "right": null,
            "top": null,
            "visibility": null,
            "width": null
          }
        },
        "cffeb13ae8914c5498679ad35f7738a3": {
          "model_module": "@jupyter-widgets/controls",
          "model_name": "DescriptionStyleModel",
          "model_module_version": "1.5.0",
          "state": {
            "_model_module": "@jupyter-widgets/controls",
            "_model_module_version": "1.5.0",
            "_model_name": "DescriptionStyleModel",
            "_view_count": null,
            "_view_module": "@jupyter-widgets/base",
            "_view_module_version": "1.2.0",
            "_view_name": "StyleView",
            "description_width": ""
          }
        },
        "e20963a5d70f4e3a932371abb6006d59": {
          "model_module": "@jupyter-widgets/base",
          "model_name": "LayoutModel",
          "model_module_version": "1.2.0",
          "state": {
            "_model_module": "@jupyter-widgets/base",
            "_model_module_version": "1.2.0",
            "_model_name": "LayoutModel",
            "_view_count": null,
            "_view_module": "@jupyter-widgets/base",
            "_view_module_version": "1.2.0",
            "_view_name": "LayoutView",
            "align_content": null,
            "align_items": null,
            "align_self": null,
            "border": null,
            "bottom": null,
            "display": null,
            "flex": null,
            "flex_flow": null,
            "grid_area": null,
            "grid_auto_columns": null,
            "grid_auto_flow": null,
            "grid_auto_rows": null,
            "grid_column": null,
            "grid_gap": null,
            "grid_row": null,
            "grid_template_areas": null,
            "grid_template_columns": null,
            "grid_template_rows": null,
            "height": null,
            "justify_content": null,
            "justify_items": null,
            "left": null,
            "margin": null,
            "max_height": null,
            "max_width": null,
            "min_height": null,
            "min_width": null,
            "object_fit": null,
            "object_position": null,
            "order": null,
            "overflow": null,
            "overflow_x": null,
            "overflow_y": null,
            "padding": null,
            "right": null,
            "top": null,
            "visibility": null,
            "width": null
          }
        },
        "becc2a321b9f449bafafa81d9b41f257": {
          "model_module": "@jupyter-widgets/controls",
          "model_name": "ProgressStyleModel",
          "model_module_version": "1.5.0",
          "state": {
            "_model_module": "@jupyter-widgets/controls",
            "_model_module_version": "1.5.0",
            "_model_name": "ProgressStyleModel",
            "_view_count": null,
            "_view_module": "@jupyter-widgets/base",
            "_view_module_version": "1.2.0",
            "_view_name": "StyleView",
            "bar_color": null,
            "description_width": ""
          }
        },
        "60ed96b59503470395e71e6ca5b6f95b": {
          "model_module": "@jupyter-widgets/base",
          "model_name": "LayoutModel",
          "model_module_version": "1.2.0",
          "state": {
            "_model_module": "@jupyter-widgets/base",
            "_model_module_version": "1.2.0",
            "_model_name": "LayoutModel",
            "_view_count": null,
            "_view_module": "@jupyter-widgets/base",
            "_view_module_version": "1.2.0",
            "_view_name": "LayoutView",
            "align_content": null,
            "align_items": null,
            "align_self": null,
            "border": null,
            "bottom": null,
            "display": null,
            "flex": null,
            "flex_flow": null,
            "grid_area": null,
            "grid_auto_columns": null,
            "grid_auto_flow": null,
            "grid_auto_rows": null,
            "grid_column": null,
            "grid_gap": null,
            "grid_row": null,
            "grid_template_areas": null,
            "grid_template_columns": null,
            "grid_template_rows": null,
            "height": null,
            "justify_content": null,
            "justify_items": null,
            "left": null,
            "margin": null,
            "max_height": null,
            "max_width": null,
            "min_height": null,
            "min_width": null,
            "object_fit": null,
            "object_position": null,
            "order": null,
            "overflow": null,
            "overflow_x": null,
            "overflow_y": null,
            "padding": null,
            "right": null,
            "top": null,
            "visibility": null,
            "width": null
          }
        },
        "670ce69ce01f4517a7acd94f4fa73f9f": {
          "model_module": "@jupyter-widgets/controls",
          "model_name": "DescriptionStyleModel",
          "model_module_version": "1.5.0",
          "state": {
            "_model_module": "@jupyter-widgets/controls",
            "_model_module_version": "1.5.0",
            "_model_name": "DescriptionStyleModel",
            "_view_count": null,
            "_view_module": "@jupyter-widgets/base",
            "_view_module_version": "1.2.0",
            "_view_name": "StyleView",
            "description_width": ""
          }
        }
      }
    }
  },
  "nbformat": 4,
  "nbformat_minor": 0
}